{
 "cells": [
  {
   "cell_type": "markdown",
   "id": "13b62af4-9c03-46d7-805c-cebadd28185e",
   "metadata": {
    "editable": true,
    "slideshow": {
     "slide_type": ""
    },
    "tags": []
   },
   "source": [
    "Urban Data Science & Smart Cities <br>\n",
    "URSP688Y Spring 2025<br>\n",
    "Instructor: Chester Harvey <br>\n",
    "Urban Studies & Planning <br>\n",
    "National Center for Smart Growth <br>\n",
    "University of Maryland"
   ]
  },
  {
   "attachments": {},
   "cell_type": "markdown",
   "id": "b7d7937e-5289-44bb-ac8b-1e0b03a74e0b",
   "metadata": {},
   "source": [
    "# Demo 2 - Development Environment & More Programming Fundamentals\n",
    "\n",
    "- Conda/Jupyter Setup\n",
    "- Hands-On Intro to Notebooks\n",
    "- Intro to programming (with Python)\n",
    "    - Review: variables, operators, and basic data types\n",
    "    - Composite data types\n",
    "        - Lists\n",
    "        - Dictionaries\n",
    "    - Conditions and loops\n",
    "    - Errors and debugging"
   ]
  },
  {
   "cell_type": "markdown",
   "id": "182cc980-d74b-4413-b358-7db661721535",
   "metadata": {},
   "source": [
    "## Conda & Jupyter Setup\n",
    "\n",
    "We're going to run Python on our computers using Conda, an open-source system for managing Python environments.\n",
    "\n",
    "We're going to use a distribution of Conda called [Miniconda (scroll down)](https://www.anaconda.com/download/success) that is designed to take up minimal space on your computer. It doesn't come with a bunch of additional junk.\n",
    "\n",
    "We'll install JupyterLab in a Conda environment and use it to open Jupyter notebooks, where we'll do our programming.\n",
    "\n",
    "### Initial Setup \n",
    "\n",
    "1. Download [Miniconda (scroll down)](https://www.anaconda.com/download/success)\n",
    "2. Open command line:\n",
    "    - In Windows: Anaconda Prompt (**not** the regular Windows command prompt)\n",
    "    - In MacOS: Terminal\n",
    "3. Make a new environment by typing or copying this prompt:\n",
    "    - `conda create -n 688y jupyterlab` [Enter]\n",
    "    - This will make a new environment named `688y` with the latest stable version of `jupyterlab` installed on it\n",
    "    - You can find complete [documentation for managing conda environments here](https://docs.conda.io/projects/conda/en/latest/user-guide/tasks/manage-environments.html)\n",
    "4. Activate your environment by typing or copying this prompt:\n",
    "    - `conda activate 688y` [Enter]\n",
    "5. Start JupyterLab by typing or copying this prompt:\n",
    "    - `jupyter lab` [Enter]\n",
    "  \n",
    "### Regular Startup\n",
    "1. Open command line:\n",
    "    - In Windows: Anaconda Prompt (**not** the regular Windows command prompt)\n",
    "    - In MacOS: Terminal\n",
    "        - Shortcut: In GitHub Desktop, right-click on repo in sidebar and click [Open in Terminal]\n",
    "- Optional `cd` into the directory you're working in:\n",
    "    - In Windows:\n",
    "        - Copy your directory path from Explorer or GitHub Desktop\n",
    "        - In the Anaconda Prompt, type `cd`, add a space, then paste the path [Enter]\n",
    "    - In MaOS:\n",
    "        - Right-click on your directory, press [Option] on keyboard, and click [Copy \"...\" as Pathname]\n",
    "        - In the Anaconda Prompt, type `cd`, add a space, then paste the path [Enter]\n",
    "2. Activate your environment by typing or copying this prompt:\n",
    "    - `conda activate 688y` [Enter]\n",
    "3. Start JupyterLab by typing or copying this prompt:\n",
    "    - `jupyter lab` [Enter]"
   ]
  },
  {
   "cell_type": "markdown",
   "id": "49f0274e-d0e3-41f5-85cd-51e55a0953f3",
   "metadata": {},
   "source": [
    "### Notebooks in JupyterLab\n",
    "\n",
    "Text cells in [Markdown](https://www.markdownguide.org/basic-syntax/)"
   ]
  },
  {
   "cell_type": "code",
   "execution_count": 4,
   "id": "3d5c2ab2-0623-4107-bb8e-d8b87e1f6730",
   "metadata": {},
   "outputs": [
    {
     "name": "stdout",
     "output_type": "stream",
     "text": [
      "Hello world!\n"
     ]
    }
   ],
   "source": [
    "# Code cells to execute Python\n",
    "print('Hello world!')"
   ]
  },
  {
   "cell_type": "code",
   "execution_count": 9,
   "id": "90f8688f-8d24-4283-a409-958cf0f03cf9",
   "metadata": {},
   "outputs": [
    {
     "data": {
      "text/plain": [
       "'Chester'"
      ]
     },
     "execution_count": 9,
     "metadata": {},
     "output_type": "execute_result"
    }
   ],
   "source": [
    "# Code cells preview the last line——often synonymous with 'print'\n",
    "name = 'Chester'\n",
    "name"
   ]
  },
  {
   "cell_type": "markdown",
   "id": "60ef21fb-15a5-451e-83b9-783c71735a6e",
   "metadata": {},
   "source": [
    "### Keyboard Shortcuts\n",
    "\n",
    "To execute a cell:\n",
    "- [Shift] + [Enter] executes and goes to next cell (cycle through notebook one cell at a time)\n",
    "- [Ctrl] + [Enter] executes and stays on same cell\n",
    "\n",
    "There are [***a lot*** more keyboard shortcuts](https://towardsdatascience.com/jypyter-notebook-shortcuts-bf0101a98330)."
   ]
  },
  {
   "cell_type": "markdown",
   "id": "ad256429-3d92-47fd-9021-ddbdc20378e3",
   "metadata": {},
   "source": [
    "### Review\n",
    "\n",
    "#### Variables\n",
    "\n",
    "- Name-based storage containers\n",
    "- Can be easily recalled\n",
    "- Can usually be updated"
   ]
  },
  {
   "cell_type": "code",
   "execution_count": 7,
   "id": "3e11e1b5-f765-4a00-aacb-547871596b4a",
   "metadata": {},
   "outputs": [
    {
     "data": {
      "text/plain": [
       "'Chester'"
      ]
     },
     "execution_count": 7,
     "metadata": {},
     "output_type": "execute_result"
    }
   ],
   "source": [
    "name = 'Chester'\n",
    "name"
   ]
  },
  {
   "cell_type": "markdown",
   "id": "47f0a61a-2b7f-41e4-832b-0c4438ec5409",
   "metadata": {},
   "source": [
    "Variables can be recalled in a program."
   ]
  },
  {
   "cell_type": "code",
   "execution_count": 10,
   "id": "3f86da41-2721-415e-b2fa-b0140670e588",
   "metadata": {},
   "outputs": [
    {
     "data": {
      "text/plain": [
       "'The day of the week is Monday'"
      ]
     },
     "execution_count": 10,
     "metadata": {},
     "output_type": "execute_result"
    }
   ],
   "source": [
    "day = 'Monday'\n",
    "calendar_text = f'The day of the week is {day}'\n",
    "calendar_text"
   ]
  },
  {
   "cell_type": "markdown",
   "id": "bc649bb8-61db-4066-8587-7a79a72e631a",
   "metadata": {},
   "source": [
    "#### [Operators](https://www.tutorialspoint.com/python/python_basic_operators.htm)"
   ]
  },
  {
   "cell_type": "code",
   "execution_count": 11,
   "id": "010c49ae-693c-4423-bbbd-d3ee38eb8d33",
   "metadata": {},
   "outputs": [
    {
     "data": {
      "text/plain": [
       "2"
      ]
     },
     "execution_count": 11,
     "metadata": {},
     "output_type": "execute_result"
    }
   ],
   "source": [
    "1 + 1"
   ]
  },
  {
   "cell_type": "code",
   "execution_count": 12,
   "id": "904aba8c-9dc8-4ba4-abee-51bd9270fb9e",
   "metadata": {},
   "outputs": [
    {
     "data": {
      "text/plain": [
       "True"
      ]
     },
     "execution_count": 12,
     "metadata": {},
     "output_type": "execute_result"
    }
   ],
   "source": [
    "1 < 2"
   ]
  },
  {
   "cell_type": "markdown",
   "id": "523a3d44-6841-46f2-a7d7-48f7cbd6ef41",
   "metadata": {},
   "source": [
    "#### Basic Data Types"
   ]
  },
  {
   "cell_type": "code",
   "execution_count": 24,
   "id": "0dbccbed-edfa-4858-a30f-ddacd91f68d2",
   "metadata": {},
   "outputs": [
    {
     "name": "stdout",
     "output_type": "stream",
     "text": [
      "Chester\n",
      "<class 'str'>\n"
     ]
    }
   ],
   "source": [
    "# String (text)\n",
    "name = 'Chester'\n",
    "print(name)\n",
    "print(type(name))"
   ]
  },
  {
   "cell_type": "code",
   "execution_count": 21,
   "id": "b4b8e24a-c39d-4901-a635-76faa42bf3fd",
   "metadata": {},
   "outputs": [
    {
     "name": "stdout",
     "output_type": "stream",
     "text": [
      "<class 'int'>\n"
     ]
    }
   ],
   "source": [
    "# Integer\n",
    "year = 2025\n",
    "print(year)\n",
    "print(type(year))"
   ]
  },
  {
   "cell_type": "code",
   "execution_count": 25,
   "id": "271bce9c-7953-4c3b-8171-8e86414f25e6",
   "metadata": {},
   "outputs": [
    {
     "name": "stdout",
     "output_type": "stream",
     "text": [
      "6.37\n",
      "<class 'float'>\n"
     ]
    }
   ],
   "source": [
    "# Float (decimal)\n",
    "miles = 6.37\n",
    "print(miles)\n",
    "print(type(miles))"
   ]
  },
  {
   "cell_type": "code",
   "execution_count": 26,
   "id": "8e9e1d57-e71b-450d-89b0-13b04e1c3c5d",
   "metadata": {},
   "outputs": [
    {
     "name": "stdout",
     "output_type": "stream",
     "text": [
      "False\n",
      "<class 'bool'>\n"
     ]
    }
   ],
   "source": [
    "# Boolean (true or false)\n",
    "a_age = 10\n",
    "b_age = 20\n",
    "a_older = a_age > b_age\n",
    "print(a_older)\n",
    "print(type(a_older))"
   ]
  },
  {
   "cell_type": "markdown",
   "id": "2c93b011-44ba-455d-89aa-b7a8f0ab8278",
   "metadata": {},
   "source": [
    "### Composite Data Types"
   ]
  },
  {
   "cell_type": "markdown",
   "id": "d1713c83-158a-444b-8fa3-64350bcdb6bd",
   "metadata": {},
   "source": [
    "#### List\n",
    "An ordered array of objects."
   ]
  },
  {
   "cell_type": "code",
   "execution_count": 22,
   "id": "d2b5d20b-a1ad-4678-912e-6031945d7c4e",
   "metadata": {},
   "outputs": [
    {
     "name": "stdout",
     "output_type": "stream",
     "text": [
      "<class 'list'>\n",
      "['milk', 'apple', 'celery', 'yogurt']\n"
     ]
    }
   ],
   "source": [
    "fridge_contents = ['milk','apple','celery','yogurt']\n",
    "print(type(fridge_contents))\n",
    "print(fridge_contents)"
   ]
  },
  {
   "cell_type": "code",
   "execution_count": 23,
   "id": "c0fb6686-a5dd-4cec-b0eb-617f86f70e02",
   "metadata": {},
   "outputs": [
    {
     "data": {
      "text/plain": [
       "['milk', 'apple', 'celery', 'yogurt', 'orange juice', 'leftovers']"
      ]
     },
     "execution_count": 23,
     "metadata": {},
     "output_type": "execute_result"
    }
   ],
   "source": [
    "# You can add lists together\n",
    "fridge_contents = fridge_contents + ['orange juice', 'leftovers']\n",
    "fridge_contents"
   ]
  },
  {
   "cell_type": "code",
   "execution_count": 24,
   "id": "07216695-3897-4d87-9869-debeaa4cf988",
   "metadata": {},
   "outputs": [
    {
     "data": {
      "text/plain": [
       "['milk', 'apple', 'celery', 'yogurt', 'orange juice', 'leftovers', 'cheese']"
      ]
     },
     "execution_count": 24,
     "metadata": {},
     "output_type": "execute_result"
    }
   ],
   "source": [
    "# Or append elements to a list\n",
    "fridge_contents.append('cheese')\n",
    "fridge_contents"
   ]
  },
  {
   "cell_type": "code",
   "execution_count": 25,
   "id": "cd699bbc-5407-474e-8181-4f9bc0c85a64",
   "metadata": {},
   "outputs": [
    {
     "data": {
      "text/plain": [
       "['milk', 'apple', 'celery', 'orange juice', 'leftovers', 'cheese']"
      ]
     },
     "execution_count": 25,
     "metadata": {},
     "output_type": "execute_result"
    }
   ],
   "source": [
    "# Or remove things\n",
    "fridge_contents.remove('yogurt')\n",
    "fridge_contents"
   ]
  },
  {
   "cell_type": "code",
   "execution_count": 26,
   "id": "a02b1fac-d0d0-45ad-8cb3-1170288a5652",
   "metadata": {},
   "outputs": [
    {
     "data": {
      "text/plain": [
       "'milk'"
      ]
     },
     "execution_count": 26,
     "metadata": {},
     "output_type": "execute_result"
    }
   ],
   "source": [
    "# You can look things up in a list by index number, starting with 0\n",
    "fridge_contents[0]"
   ]
  },
  {
   "cell_type": "code",
   "execution_count": 27,
   "id": "7e195a47-9cf8-4bc0-b219-27690c52fece",
   "metadata": {},
   "outputs": [
    {
     "data": {
      "text/plain": [
       "['milk', 'apple']"
      ]
     },
     "execution_count": 27,
     "metadata": {},
     "output_type": "execute_result"
    }
   ],
   "source": [
    "# Or get a slice from a list\n",
    "fridge_contents[:2]"
   ]
  },
  {
   "cell_type": "markdown",
   "id": "9c22560e-64ae-42d2-a18a-53d6fb1fa5f3",
   "metadata": {},
   "source": [
    "#### Dictionary\n",
    "\n",
    "Labeled data stored as key-value pairs.\n",
    "\n",
    "*Note*: Dictionaries used to be unordered, but as of Python 3.6 they technically maintain their order. Lists are still usually preferred when order matters. There's also something called an [ordered dictionary](https://realpython.com/python-ordereddict/), which makes it more explicit that you care about order and can make it easier to manage/change order."
   ]
  },
  {
   "cell_type": "code",
   "execution_count": 28,
   "id": "a4397468-f437-46bb-ba68-f88c3547fd85",
   "metadata": {},
   "outputs": [
    {
     "name": "stdout",
     "output_type": "stream",
     "text": [
      "<class 'dict'>\n",
      "{'basketball': 2, 'baseball': 1, 'skiing': 8, 'volleyball': 3}\n"
     ]
    }
   ],
   "source": [
    "goodness_at_sports = {\n",
    "    'basketball': 2,\n",
    "    'baseball': 1,\n",
    "    'skiing': 8,\n",
    "    'volleyball': 3,\n",
    "}\n",
    "print(type(goodness_at_sports))\n",
    "print(goodness_at_sports)"
   ]
  },
  {
   "cell_type": "code",
   "execution_count": 29,
   "id": "bbd92e3f-8953-4be4-9a21-51fcf7ec8119",
   "metadata": {},
   "outputs": [],
   "source": [
    "# You can add an element to a dictionary by assigning a new key\n",
    "goodness_at_sports['cornhole'] = 3"
   ]
  },
  {
   "cell_type": "code",
   "execution_count": 30,
   "id": "2f919b57-d88c-4545-b281-88c778d90ecd",
   "metadata": {},
   "outputs": [
    {
     "data": {
      "text/plain": [
       "1"
      ]
     },
     "execution_count": 30,
     "metadata": {},
     "output_type": "execute_result"
    }
   ],
   "source": [
    "# And remove one\n",
    "goodness_at_sports.pop('baseball')"
   ]
  },
  {
   "cell_type": "code",
   "execution_count": 31,
   "id": "01334be7-c7b9-4a88-8438-53c2ffabf17d",
   "metadata": {},
   "outputs": [
    {
     "data": {
      "text/plain": [
       "8"
      ]
     },
     "execution_count": 31,
     "metadata": {},
     "output_type": "execute_result"
    }
   ],
   "source": [
    "# And look up a value through its key\n",
    "goodness_at_sports['skiing']"
   ]
  },
  {
   "cell_type": "markdown",
   "id": "6570799e-3bdb-4559-8e59-1096cb92d183",
   "metadata": {},
   "source": [
    "### Programming logic\n",
    "\n",
    "Now that we've got basic building blocks, we can *do* things with them.\n",
    "\n",
    "This requires programming logic: using logical statements to control the flow of our code in productive ways."
   ]
  },
  {
   "cell_type": "markdown",
   "id": "73701067-a752-4018-a048-2f81062ddd43",
   "metadata": {},
   "source": [
    "#### [Conditions](https://realpython.com/python-conditional-statements/)"
   ]
  },
  {
   "cell_type": "code",
   "execution_count": 38,
   "id": "b5b91f40-b9e0-4eb0-aca3-22fabacce04a",
   "metadata": {},
   "outputs": [
    {
     "data": {
      "text/plain": [
       "False"
      ]
     },
     "execution_count": 38,
     "metadata": {},
     "output_type": "execute_result"
    }
   ],
   "source": [
    "age = 12\n",
    "if age < 18:\n",
    "    adult = False\n",
    "else:\n",
    "    adult = True\n",
    "adult"
   ]
  },
  {
   "cell_type": "markdown",
   "id": "9d0594b3-26a0-4df8-8965-00cf838cdf64",
   "metadata": {},
   "source": [
    "#### Loops\n",
    "\n",
    "Loops can iterate through composite data, like lists and dictionaries.\n",
    "\n",
    "'For' loops are the most common type used in data science."
   ]
  },
  {
   "cell_type": "code",
   "execution_count": 31,
   "id": "cc265766-0348-4bdb-8304-8f398ba96a82",
   "metadata": {},
   "outputs": [
    {
     "name": "stdout",
     "output_type": "stream",
     "text": [
      "False\n",
      "False\n",
      "True\n",
      "True\n",
      "True\n"
     ]
    }
   ],
   "source": [
    "# Looping through a list\n",
    "ages = [5, 10, 65, 81, 45]\n",
    "\n",
    "for age in ages:\n",
    "    if age < 18:\n",
    "        adult = False\n",
    "    else:\n",
    "        adult = True\n",
    "    print(adult)"
   ]
  },
  {
   "cell_type": "code",
   "execution_count": 32,
   "id": "164f4793-8a43-4c79-9de7-d471d39d2e19",
   "metadata": {},
   "outputs": [
    {
     "name": "stdout",
     "output_type": "stream",
     "text": [
      "Daniela: False\n",
      "Zoe: False\n",
      "Rowen: True\n",
      "Jude: True\n",
      "Austin: True\n"
     ]
    }
   ],
   "source": [
    "# Looping through key-value pairs in a dictionary using .items()\n",
    "people = {\n",
    "    'Daniela': 5, \n",
    "    'Zoe': 10,\n",
    "    'Rowen': 65,\n",
    "    'Jude': 81,\n",
    "    'Austin': 45,\n",
    "}\n",
    "\n",
    "for name, age in people.items():\n",
    "    if age < 18:\n",
    "        adult = False \n",
    "    else:\n",
    "        adult = True\n",
    "    print(f'{name}: {adult}')"
   ]
  },
  {
   "cell_type": "markdown",
   "id": "f7bd224f-cfe9-4d50-8fab-78a1af06e708",
   "metadata": {},
   "source": [
    "---\n",
    "We made it this far in class on Week 2\n",
    "\n",
    "---"
   ]
  },
  {
   "cell_type": "markdown",
   "id": "5db73da1-f8b1-4471-a167-de3a17343aa0",
   "metadata": {},
   "source": [
    "### Functions\n",
    "\n",
    "Functions are pre-defined programming components that do things. Often, they take inputs and produce outputs.\n",
    "\n",
    "<img src=\"https://miro.medium.com/v2/resize:fit:880/0*xMEO8AbXwdsgnHSH.png\" alt=\"Diagram of a function with input and output\" width=\"400\"/>\n",
    "\n",
    "- Some basic functions are built-in to Python (e.g., `print`)\n",
    "\n",
    "- We can write our own custom functions.\n",
    "\n",
    "- We can use custom functions other people have written."
   ]
  },
  {
   "cell_type": "code",
   "execution_count": 39,
   "id": "2d2c5a4e-dc7a-46c2-b3d7-024328240bcc",
   "metadata": {},
   "outputs": [],
   "source": [
    "# Let's write a function that takes an age as input and tells us whether a person is an adult\n",
    "def check_adult(age):\n",
    "    if age < 18:\n",
    "        adult = False\n",
    "    else:\n",
    "        adult = True\n",
    "    return adult"
   ]
  },
  {
   "cell_type": "code",
   "execution_count": 41,
   "id": "4cff1693-611e-4dcb-823d-d979b840f55f",
   "metadata": {},
   "outputs": [
    {
     "data": {
      "text/plain": [
       "True"
      ]
     },
     "execution_count": 41,
     "metadata": {},
     "output_type": "execute_result"
    }
   ],
   "source": [
    "check_adult(20)"
   ]
  },
  {
   "cell_type": "code",
   "execution_count": 42,
   "id": "3ce5079c-d6e5-402e-9fba-e564c08d8a41",
   "metadata": {},
   "outputs": [
    {
     "name": "stdout",
     "output_type": "stream",
     "text": [
      "False\n",
      "False\n",
      "True\n",
      "True\n",
      "True\n"
     ]
    }
   ],
   "source": [
    "for age in ages:\n",
    "    print(check_adult(age))"
   ]
  },
  {
   "cell_type": "markdown",
   "id": "89acaf1a-a772-4f22-bdd7-06e765bd1bb5",
   "metadata": {},
   "source": [
    "### Errors and debugging\n",
    "\n",
    "Errors are frustrating and inevitable. Even professional programmers probably spend most of their time debugging.\n",
    "\n",
    "Luckily, there are good tools and techniques for making debugging a little easier.\n",
    "\n",
    "Despite these, you will probably nearly tear your hair out with some frequency, especially as a beginner. It will get better with time.\n",
    "\n",
    "There are two types of errors in programming: logic and syntax. They both result in your program not achieving its goal, but the first may not be as easily detectable because the code may still run.\n",
    "\n",
    "#### Logic errors\n",
    "These are issues with how you have approached or executed your problem. If your code runs but produces nonsensical results, there is probably a logic error. However, your erroneous code might also produce logical but *wrong* results; you might never notice until the problem has rippled downstream. It's best to address this proactively by planning your code well so it's less likely to be illogical, and writing readable code that can be easily reviewed.\n",
    "\n",
    "Here's a logic error. Can you find it? (Hint: the issue is syntactical, but it's still a logic error because the code works without throwing an error.)"
   ]
  },
  {
   "cell_type": "code",
   "execution_count": 44,
   "id": "7ae245be-438c-4af0-88ff-4fbefd368015",
   "metadata": {},
   "outputs": [
    {
     "data": {
      "text/plain": [
       "False"
      ]
     },
     "execution_count": 44,
     "metadata": {},
     "output_type": "execute_result"
    }
   ],
   "source": [
    "def check_adult(age):\n",
    "    if age > 18:\n",
    "        adult = False\n",
    "    else:\n",
    "        adult = True\n",
    "    return adult\n",
    "\n",
    "check_adult(20)"
   ]
  },
  {
   "cell_type": "markdown",
   "id": "6c4200b2-2176-4329-9a12-68ff65efd852",
   "metadata": {},
   "source": [
    "#### Syntax errors\n",
    "These are more obvious because your code will simply fail. There are lots of tools for figuring out where and why.\n",
    "\n",
    "Error messages are usually the starting place for debugging a syntax error."
   ]
  },
  {
   "cell_type": "code",
   "execution_count": 45,
   "id": "1c4df4de-f47b-4f25-9074-4b0397cc5ea5",
   "metadata": {},
   "outputs": [
    {
     "ename": "TypeError",
     "evalue": "'<' not supported between instances of 'str' and 'int'",
     "output_type": "error",
     "traceback": [
      "\u001b[0;31m---------------------------------------------------------------------------\u001b[0m",
      "\u001b[0;31mTypeError\u001b[0m                                 Traceback (most recent call last)",
      "Cell \u001b[0;32mIn[45], line 8\u001b[0m\n\u001b[1;32m      5\u001b[0m         adult \u001b[38;5;241m=\u001b[39m \u001b[38;5;28;01mTrue\u001b[39;00m\n\u001b[1;32m      6\u001b[0m     \u001b[38;5;28;01mreturn\u001b[39;00m adult\n\u001b[0;32m----> 8\u001b[0m \u001b[43mcheck_adult\u001b[49m\u001b[43m(\u001b[49m\u001b[38;5;124;43m'\u001b[39;49m\u001b[38;5;124;43m20\u001b[39;49m\u001b[38;5;124;43m'\u001b[39;49m\u001b[43m)\u001b[49m\n",
      "Cell \u001b[0;32mIn[45], line 2\u001b[0m, in \u001b[0;36mcheck_adult\u001b[0;34m(age)\u001b[0m\n\u001b[1;32m      1\u001b[0m \u001b[38;5;28;01mdef\u001b[39;00m \u001b[38;5;21mcheck_adult\u001b[39m(age):\n\u001b[0;32m----> 2\u001b[0m     \u001b[38;5;28;01mif\u001b[39;00m \u001b[43mage\u001b[49m\u001b[43m \u001b[49m\u001b[38;5;241;43m<\u001b[39;49m\u001b[43m \u001b[49m\u001b[38;5;241;43m18\u001b[39;49m:\n\u001b[1;32m      3\u001b[0m         adult \u001b[38;5;241m=\u001b[39m \u001b[38;5;28;01mFalse\u001b[39;00m\n\u001b[1;32m      4\u001b[0m     \u001b[38;5;28;01melse\u001b[39;00m:\n",
      "\u001b[0;31mTypeError\u001b[0m: '<' not supported between instances of 'str' and 'int'"
     ]
    }
   ],
   "source": [
    "def check_adult(age):\n",
    "    if age < 18:\n",
    "        adult = False\n",
    "    else:\n",
    "        adult = True\n",
    "    return adult\n",
    "\n",
    "check_adult('20')"
   ]
  },
  {
   "cell_type": "markdown",
   "id": "e62b2d21-45dd-41c0-824f-b4496e7d45dd",
   "metadata": {},
   "source": [
    "The error message tells us where the problem is located.\n",
    "\n",
    "Sometimes, it can be helpful to turn on line numbers.\n",
    "- In Colab: `Tools -> Settings -> Editor -> Show line numbers`\n",
    "- In JupyterLab: `View -> Show Line Numbers`\n",
    "\n",
    "The `ValueError` tells us that the issue is related to the value of a variable on this line, but it's still pretty vague.\n",
    "\n",
    "Time to start [Googling](https://www.google.com/).\n"
   ]
  },
  {
   "cell_type": "markdown",
   "id": "1c418985-eb94-45c3-8790-f992b7f9621f",
   "metadata": {},
   "source": [
    "### Style guidelines for Python\n",
    "- At the very least, do things consistently\n",
    "- One statement per line\n",
    "- Try to limit line length to 72 characters\n",
    "- Use four spaces to indent\n",
    "- Put spaces around operators (e.g., `1 + 1` or `day = 'Monday'`) (except in keyword function arguments)\n",
    "- Use blank lines intentionally and consistently\n",
    "- Use meaningful names\n",
    "- Name variables and functions with `lowercase_underscores`\n",
    "- Constants are often named in `ALL_CAPS_WITH_UNDERSCORES` (e.g., `C = 2.99792458e+8`)\n",
    "- Name custom classes with `CapWords`\n",
    "- In general, avoid spaces in folder and filenames used for programming\n",
    "\n",
    "See [Code Readability](https://github.com/ncsg/ursp688y_sp2024/blob/main/README.md#code-readability) on the syllabus. [CS61A](https://cs61a.org/articles/composition/) has an excellent composition guide. [PEP 8](https://peps.python.org/pep-0008/) is a standard Python style guide. [Google](https://google.github.io/styleguide/pyguide.html) publishes their internal Python style guide."
   ]
  },
  {
   "cell_type": "code",
   "execution_count": null,
   "id": "262e2f5c-645f-4a3a-a9c2-a93808afcf44",
   "metadata": {},
   "outputs": [],
   "source": []
  },
  {
   "cell_type": "code",
   "execution_count": null,
   "id": "4dc7497e-5957-4b4d-944e-45f1f8341358",
   "metadata": {},
   "outputs": [],
   "source": []
  }
 ],
 "metadata": {
  "kernelspec": {
   "display_name": "Python 3 (ipykernel)",
   "language": "python",
   "name": "python3"
  },
  "language_info": {
   "codemirror_mode": {
    "name": "ipython",
    "version": 3
   },
   "file_extension": ".py",
   "mimetype": "text/x-python",
   "name": "python",
   "nbconvert_exporter": "python",
   "pygments_lexer": "ipython3",
   "version": "3.13.1"
  }
 },
 "nbformat": 4,
 "nbformat_minor": 5
}
