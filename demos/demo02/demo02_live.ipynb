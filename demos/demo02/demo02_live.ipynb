{
 "cells": [
  {
   "cell_type": "code",
   "execution_count": null,
   "id": "327c7658-3176-40a2-b6c5-c193265320d0",
   "metadata": {
    "editable": true,
    "slideshow": {
     "slide_type": ""
    },
    "tags": []
   },
   "outputs": [],
   "source": [
    "Urban Data Science & Smart Cities <br>\n",
    "URSP688Y Spring 2025<br>\n",
    "Instructor: Chester Harvey <br>\n",
    "Urban Studies & Planning <br>\n",
    "National Center for Smart Growth <br>\n",
    "University of Maryland"
   ]
  },
  {
   "attachments": {},
   "cell_type": "markdown",
   "id": "b7d7937e-5289-44bb-ac8b-1e0b03a74e0b",
   "metadata": {},
   "source": [
    "# Demo 2 - Development Environment & More Programming Fundamentals\n",
    "\n",
    "- Conda/Jupyter Setup\n",
    "- Hands-On Intro to Notebooks\n",
    "- Intro to programming (with Python)\n",
    "    - Review: variables, operators, and basic data types\n",
    "    - Composite data types\n",
    "        - Lists\n",
    "        - Dictionaries\n",
    "    - Conditions and loops\n",
    "    - Errors and debugging"
   ]
  },
  {
   "cell_type": "markdown",
   "id": "182cc980-d74b-4413-b358-7db661721535",
   "metadata": {},
   "source": [
    "## Conda & Jupyter Setup\n",
    "\n",
    "We're going to run Python on our computers using Conda, an open-source system for managing Python environments.\n",
    "\n",
    "We're going to use a distribution of Conda called [Miniconda (scroll down)](https://www.anaconda.com/download/success) that is designed to take up minimal space on your computer. It doesn't come with a bunch of additional junk.\n",
    "\n",
    "We'll install JupyterLab in a Conda environment and use it to open Jupyter notebooks, where we'll do our programming.\n",
    "\n",
    "### Initial Setup \n",
    "\n",
    "1. Download [Miniconda (scroll down)](https://www.anaconda.com/download/success)\n",
    "2. Open command line:\n",
    "    - In Windows: Anaconda Prompt (**not** the regular Windows command prompt)\n",
    "    - In MacOS: Terminal\n",
    "3. Make a new environment by typing or copying this prompt:\n",
    "    - `conda create -n 688y jupyterlab` [Enter]\n",
    "    - This will make a new environment named `688y` with the latest stable version of `jupyterlab` installed on it\n",
    "    - You can find complete [documentation for managing conda environments here](https://docs.conda.io/projects/conda/en/latest/user-guide/tasks/manage-environments.html)\n",
    "4. Activate your environment by typing or copying this prompt:\n",
    "    - `conda activate 688y` [Enter]\n",
    "5. Start JupyterLab by typing or copying this prompt:\n",
    "    - `jupyter lab` [Enter]\n",
    "  \n",
    "### Regular Startup\n",
    "1. Open command line:\n",
    "    - In Windows: Anaconda Prompt (**not** the regular Windows command prompt)\n",
    "    - In MacOS: Terminal\n",
    "        - Shortcut: In GitHub Desktop, right-click on repo in sidebar and click [Open in Terminal]\n",
    "- Optional `cd` into the directory you're working in:\n",
    "    - In Windows:\n",
    "        - Copy your directory path from Explorer or GitHub Desktop\n",
    "        - In the Anaconda Prompt, type `cd`, add a space, then paste the path [Enter]\n",
    "    - In MaOS:\n",
    "        - Right-click on your directory, press [Option] on keyboard, and click [Copy \"...\" as Pathname]\n",
    "        - In the Anaconda Prompt, type `cd`, add a space, then paste the path [Enter]\n",
    "2. Activate your environment by typing or copying this prompt:\n",
    "    - `conda activate 688y` [Enter]\n",
    "3. Start JupyterLab by typing or copying this prompt:\n",
    "    - `jupyter lab` [Enter]"
   ]
  },
  {
   "cell_type": "markdown",
   "id": "49f0274e-d0e3-41f5-85cd-51e55a0953f3",
   "metadata": {},
   "source": [
    "### Notebooks in JupyterLab\n",
    "\n",
    "Text cells in [Markdown](https://www.markdownguide.org/basic-syntax/)"
   ]
  },
  {
   "cell_type": "code",
   "execution_count": 1,
   "id": "3d5c2ab2-0623-4107-bb8e-d8b87e1f6730",
   "metadata": {},
   "outputs": [],
   "source": [
    "# Code cells to execute Python\n",
    "\n",
    "# ! Write a hello world program"
   ]
  },
  {
   "cell_type": "markdown",
   "id": "60ef21fb-15a5-451e-83b9-783c71735a6e",
   "metadata": {},
   "source": [
    "### Keyboard Shortcuts\n",
    "\n",
    "To execute a cell:\n",
    "- [Shift] + [Enter] executes and goes to next cell (cycle through notebook one cell at a time)\n",
    "- [Ctrl] + [Enter] executes and stays on same cell\n",
    "\n",
    "There are [***a lot*** more keyboard shortcuts](https://towardsdatascience.com/jypyter-notebook-shortcuts-bf0101a98330)."
   ]
  },
  {
   "cell_type": "code",
   "execution_count": 2,
   "id": "90f8688f-8d24-4283-a409-958cf0f03cf9",
   "metadata": {},
   "outputs": [
    {
     "data": {
      "text/plain": [
       "'Chester'"
      ]
     },
     "execution_count": 2,
     "metadata": {},
     "output_type": "execute_result"
    }
   ],
   "source": [
    "# Code cells preview the last line——often synonymous with 'print'\n",
    "name = 'Alex'\n",
    "name"
   ]
  },
  {
   "cell_type": "code",
   "execution_count": null,
   "id": "d5995326-20df-45cc-bda3-57c5b980e589",
   "metadata": {},
   "outputs": [],
   "source": []
  },
  {
   "cell_type": "code",
   "execution_count": 2,
   "id": "92e3f1e5-6e1c-4b05-b600-1f2a66bdcc20",
   "metadata": {},
   "outputs": [
    {
     "data": {
      "text/plain": [
       "'Chester'"
      ]
     },
     "execution_count": 2,
     "metadata": {},
     "output_type": "execute_result"
    }
   ],
   "source": [
    "# Code cells preview the last line——often synonymous with 'print'\n",
    "name = 'Alex'\n",
    "name"
   ]
  },
  {
   "cell_type": "code",
   "execution_count": null,
   "id": "772b4fc8-e7ff-474a-95ae-189ac62555a3",
   "metadata": {},
   "outputs": [],
   "source": []
  },
  {
   "cell_type": "markdown",
   "id": "bd42f0df-f9d8-453f-8aaf-c3af485ba436",
   "metadata": {},
   "source": [
    "For simplicity, it's good practice to keep cells in the order they should be run. You can move them with the little up and down arrows on the right."
   ]
  },
  {
   "cell_type": "markdown",
   "id": "ad256429-3d92-47fd-9021-ddbdc20378e3",
   "metadata": {},
   "source": [
    "### Review\n",
    "\n",
    "#### Variables\n",
    "\n",
    "- Name-based storage containers\n",
    "- Can be easily recalled\n",
    "- Can usually be updated"
   ]
  },
  {
   "cell_type": "code",
   "execution_count": 7,
   "id": "3e11e1b5-f765-4a00-aacb-547871596b4a",
   "metadata": {},
   "outputs": [
    {
     "data": {
      "text/plain": [
       "'Chester'"
      ]
     },
     "execution_count": 7,
     "metadata": {},
     "output_type": "execute_result"
    }
   ],
   "source": [
    "name = 'Chester'\n",
    "name"
   ]
  },
  {
   "cell_type": "markdown",
   "id": "47f0a61a-2b7f-41e4-832b-0c4438ec5409",
   "metadata": {},
   "source": [
    "Variables can be recalled in a program."
   ]
  },
  {
   "cell_type": "code",
   "execution_count": 10,
   "id": "3f86da41-2721-415e-b2fa-b0140670e588",
   "metadata": {},
   "outputs": [
    {
     "data": {
      "text/plain": [
       "'The day of the week is Monday'"
      ]
     },
     "execution_count": 10,
     "metadata": {},
     "output_type": "execute_result"
    }
   ],
   "source": [
    "day = 'Monday'\n",
    "calendar_text = f'The day of the week is {day}'\n",
    "calendar_text"
   ]
  },
  {
   "cell_type": "markdown",
   "id": "bc649bb8-61db-4066-8587-7a79a72e631a",
   "metadata": {},
   "source": [
    "#### [Operators](https://www.tutorialspoint.com/python/python_basic_operators.htm)"
   ]
  },
  {
   "cell_type": "code",
   "execution_count": 11,
   "id": "010c49ae-693c-4423-bbbd-d3ee38eb8d33",
   "metadata": {},
   "outputs": [
    {
     "data": {
      "text/plain": [
       "2"
      ]
     },
     "execution_count": 11,
     "metadata": {},
     "output_type": "execute_result"
    }
   ],
   "source": [
    "1 + 1"
   ]
  },
  {
   "cell_type": "code",
   "execution_count": 12,
   "id": "904aba8c-9dc8-4ba4-abee-51bd9270fb9e",
   "metadata": {},
   "outputs": [
    {
     "data": {
      "text/plain": [
       "True"
      ]
     },
     "execution_count": 12,
     "metadata": {},
     "output_type": "execute_result"
    }
   ],
   "source": [
    "1 < 2"
   ]
  },
  {
   "cell_type": "markdown",
   "id": "523a3d44-6841-46f2-a7d7-48f7cbd6ef41",
   "metadata": {},
   "source": [
    "#### Basic Data Types"
   ]
  },
  {
   "cell_type": "code",
   "execution_count": 24,
   "id": "0dbccbed-edfa-4858-a30f-ddacd91f68d2",
   "metadata": {},
   "outputs": [
    {
     "name": "stdout",
     "output_type": "stream",
     "text": [
      "Chester\n",
      "<class 'str'>\n"
     ]
    }
   ],
   "source": [
    "# String (text)\n",
    "name = 'Chester'\n",
    "print(name)\n",
    "print(type(name))"
   ]
  },
  {
   "cell_type": "code",
   "execution_count": 21,
   "id": "b4b8e24a-c39d-4901-a635-76faa42bf3fd",
   "metadata": {},
   "outputs": [
    {
     "name": "stdout",
     "output_type": "stream",
     "text": [
      "<class 'int'>\n"
     ]
    }
   ],
   "source": [
    "# Integer\n",
    "year = 2025\n",
    "print(year)\n",
    "print(type(year))"
   ]
  },
  {
   "cell_type": "code",
   "execution_count": 25,
   "id": "271bce9c-7953-4c3b-8171-8e86414f25e6",
   "metadata": {},
   "outputs": [
    {
     "name": "stdout",
     "output_type": "stream",
     "text": [
      "6.37\n",
      "<class 'float'>\n"
     ]
    }
   ],
   "source": [
    "# Float (decimal)\n",
    "miles = 6.37\n",
    "print(miles)\n",
    "print(type(miles))"
   ]
  },
  {
   "cell_type": "code",
   "execution_count": 26,
   "id": "8e9e1d57-e71b-450d-89b0-13b04e1c3c5d",
   "metadata": {},
   "outputs": [
    {
     "name": "stdout",
     "output_type": "stream",
     "text": [
      "False\n",
      "<class 'bool'>\n"
     ]
    }
   ],
   "source": [
    "# Boolean (true or false)\n",
    "a_age = 10\n",
    "b_age = 20\n",
    "a_older = a_age > b_age\n",
    "print(a_older)\n",
    "print(type(a_older))"
   ]
  },
  {
   "cell_type": "markdown",
   "id": "2c93b011-44ba-455d-89aa-b7a8f0ab8278",
   "metadata": {},
   "source": [
    "### Composite Data Types"
   ]
  },
  {
   "cell_type": "markdown",
   "id": "d1713c83-158a-444b-8fa3-64350bcdb6bd",
   "metadata": {
    "jp-MarkdownHeadingCollapsed": true
   },
   "source": [
    "#### List\n",
    "An ordered array of objects."
   ]
  },
  {
   "cell_type": "markdown",
   "id": "72eeaf81-a763-4b63-8ff0-ea3e1009a674",
   "metadata": {},
   "source": [
    "#### List\n",
    "An ordered array of objects."
   ]
  },
  {
   "cell_type": "code",
   "execution_count": null,
   "id": "b23b8436-308e-49bc-b5e8-52f998278e33",
   "metadata": {},
   "outputs": [],
   "source": []
  },
  {
   "cell_type": "code",
   "execution_count": 19,
   "id": "d2b5d20b-a1ad-4678-912e-6031945d7c4e",
   "metadata": {},
   "outputs": [
    {
     "data": {
      "text/plain": [
       "['apples', 'eggs', 'milk', 3, 7.098]"
      ]
     },
     "execution_count": 19,
     "metadata": {},
     "output_type": "execute_result"
    }
   ],
   "source": [
    "# ! Make a list of food items called fridge_contents\n",
    "fridge_contents = ['apples','eggs','milk',3,7.098]\n",
    "fridge_contents"
   ]
  },
  {
   "cell_type": "code",
   "execution_count": null,
   "id": "5b1ba250-9890-43f8-b3da-506cdc236ef8",
   "metadata": {},
   "outputs": [],
   "source": [
    "# ! make a list of food items\n",
    "fridge_contents = ['apples']\n",
    "fridge_contents"
   ]
  },
  {
   "cell_type": "code",
   "execution_count": 21,
   "id": "c0fb6686-a5dd-4cec-b0eb-617f86f70e02",
   "metadata": {},
   "outputs": [
    {
     "data": {
      "text/plain": [
       "['apples', 'eggs', 'milk', 3, 7.098, 'bread', 'cheese', 'bread', 'cheese']"
      ]
     },
     "execution_count": 21,
     "metadata": {},
     "output_type": "execute_result"
    }
   ],
   "source": [
    "# You can add lists together\n",
    "\n",
    "# ! Use + operator to add another list with more items to the end\n",
    "fridge_contents = fridge_contents + ['bread','cheese']\n",
    "fridge_contents"
   ]
  },
  {
   "cell_type": "code",
   "execution_count": 23,
   "id": "07216695-3897-4d87-9869-debeaa4cf988",
   "metadata": {
    "scrolled": true
   },
   "outputs": [
    {
     "data": {
      "text/plain": [
       "['apples',\n",
       " 'eggs',\n",
       " 'milk',\n",
       " 3,\n",
       " 7.098,\n",
       " 'bread',\n",
       " 'cheese',\n",
       " 'bread',\n",
       " 'cheese',\n",
       " 'beer',\n",
       " 'beer']"
      ]
     },
     "execution_count": 23,
     "metadata": {},
     "output_type": "execute_result"
    }
   ],
   "source": [
    "# Or append elements to a list\n",
    "\n",
    "# ! Use .append() to add an item\n",
    "fridge_contents.append('beer')\n",
    "fridge_contents"
   ]
  },
  {
   "cell_type": "code",
   "execution_count": 8,
   "id": "cd699bbc-5407-474e-8181-4f9bc0c85a64",
   "metadata": {},
   "outputs": [],
   "source": [
    "# Or remove things\n",
    "\n",
    "# ! Use .remove() to remove an item\n",
    "fridge_contents.remove('eggs')"
   ]
  },
  {
   "cell_type": "code",
   "execution_count": null,
   "id": "242fd947-b870-4091-9e10-9b4cf01e27c9",
   "metadata": {},
   "outputs": [],
   "source": []
  },
  {
   "cell_type": "code",
   "execution_count": null,
   "id": "02bd0ac9-96d0-445c-9e41-07ed3cd91a92",
   "metadata": {},
   "outputs": [],
   "source": []
  },
  {
   "cell_type": "code",
   "execution_count": 8,
   "id": "a21b2499-ce30-4fb4-8bde-950db1819168",
   "metadata": {},
   "outputs": [],
   "source": [
    "# Or remove things\n",
    "\n",
    "# ! Use .remove() to remove an item\n",
    "fridge_contents.remove('eggs')"
   ]
  },
  {
   "cell_type": "code",
   "execution_count": null,
   "id": "f923aecf-f40b-437d-b7b8-3467e5149b55",
   "metadata": {},
   "outputs": [],
   "source": []
  },
  {
   "cell_type": "code",
   "execution_count": null,
   "id": "90f14190-eef9-40c6-b2a0-31a26d598f32",
   "metadata": {},
   "outputs": [],
   "source": []
  },
  {
   "cell_type": "code",
   "execution_count": null,
   "id": "df9fbe08-d640-4b0a-943b-7514353f25ad",
   "metadata": {},
   "outputs": [],
   "source": []
  },
  {
   "cell_type": "code",
   "execution_count": null,
   "id": "a514cbc5-d1b4-4a50-988a-2174a80bcbf3",
   "metadata": {},
   "outputs": [],
   "source": []
  },
  {
   "cell_type": "code",
   "execution_count": 25,
   "id": "a02b1fac-d0d0-45ad-8cb3-1170288a5652",
   "metadata": {},
   "outputs": [
    {
     "data": {
      "text/plain": [
       "'beer'"
      ]
     },
     "execution_count": 25,
     "metadata": {},
     "output_type": "execute_result"
    }
   ],
   "source": [
    "# You can look things up in a list by index number, starting with 0\n",
    "fridge_contents[-1]\n",
    "# ! Index into the list with a position"
   ]
  },
  {
   "cell_type": "code",
   "execution_count": 29,
   "id": "7e195a47-9cf8-4bc0-b219-27690c52fece",
   "metadata": {},
   "outputs": [
    {
     "data": {
      "text/plain": [
       "['apples', 'eggs', 'milk']"
      ]
     },
     "execution_count": 29,
     "metadata": {},
     "output_type": "execute_result"
    }
   ],
   "source": [
    "# Or get a slice from a list\n",
    "fridge_contents[:3]\n",
    "# ! Get a slice with [:X] index"
   ]
  },
  {
   "cell_type": "markdown",
   "id": "9c22560e-64ae-42d2-a18a-53d6fb1fa5f3",
   "metadata": {},
   "source": [
    "#### Dictionary\n",
    "\n",
    "Labeled data stored as key-value pairs.\n",
    "\n",
    "*Note*: Dictionaries used to be unordered, but as of Python 3.6 they technically maintain their order. Lists are still usually preferred when order matters. There's also something called an [ordered dictionary](https://realpython.com/python-ordereddict/), which makes it more explicit that you care about order and can make it easier to manage/change order."
   ]
  },
  {
   "cell_type": "code",
   "execution_count": 2,
   "id": "a4397468-f437-46bb-ba68-f88c3547fd85",
   "metadata": {},
   "outputs": [],
   "source": [
    "# ! make a dictionary\n",
    "fav_colors = {\n",
    "    'Sam':'blue',\n",
    "    'David':'red',\n",
    "    'Cole':'blue',\n",
    "    'Nancy':'yellow' \n",
    "    \n",
    "}\n"
   ]
  },
  {
   "cell_type": "code",
   "execution_count": null,
   "id": "3ba58072-f22d-4329-a7db-cd7c620f979f",
   "metadata": {},
   "outputs": [],
   "source": []
  },
  {
   "cell_type": "code",
   "execution_count": null,
   "id": "ce4dc597-8e93-4c7e-9b6e-975b5f97f776",
   "metadata": {},
   "outputs": [],
   "source": []
  },
  {
   "cell_type": "code",
   "execution_count": null,
   "id": "a0b2f814-8e71-4e4e-8199-ebd167d6a86d",
   "metadata": {},
   "outputs": [],
   "source": []
  },
  {
   "cell_type": "code",
   "execution_count": null,
   "id": "9c6822e0-b2f4-431f-a989-3de89bb49b74",
   "metadata": {},
   "outputs": [],
   "source": []
  },
  {
   "cell_type": "code",
   "execution_count": 3,
   "id": "bbd92e3f-8953-4be4-9a21-51fcf7ec8119",
   "metadata": {},
   "outputs": [],
   "source": [
    "# You can add an element to a dictionary by assigning a new key\n",
    "fav_colors['Huan'] = 'pink'\n",
    "# ! add an element"
   ]
  },
  {
   "cell_type": "code",
   "execution_count": 31,
   "id": "2f919b57-d88c-4545-b281-88c778d90ecd",
   "metadata": {},
   "outputs": [
    {
     "data": {
      "text/plain": [
       "'blue'"
      ]
     },
     "execution_count": 31,
     "metadata": {},
     "output_type": "execute_result"
    }
   ],
   "source": [
    "# And remove one\n",
    "fav_colors.pop('Sam')\n",
    "# ! remove an element with .pop()"
   ]
  },
  {
   "cell_type": "code",
   "execution_count": null,
   "id": "8728c485-c4c0-4edf-9bc6-72ef57a02285",
   "metadata": {},
   "outputs": [],
   "source": []
  },
  {
   "cell_type": "code",
   "execution_count": 32,
   "id": "01334be7-c7b9-4a88-8438-53c2ffabf17d",
   "metadata": {},
   "outputs": [
    {
     "data": {
      "text/plain": [
       "{'David': 'red', 'Cole': 'blue', 'Nancy': 'yellow'}"
      ]
     },
     "execution_count": 32,
     "metadata": {},
     "output_type": "execute_result"
    }
   ],
   "source": [
    "# And look up a value through its key\n",
    "fav_colors\n",
    "# ! look up a value"
   ]
  },
  {
   "cell_type": "markdown",
   "id": "6570799e-3bdb-4559-8e59-1096cb92d183",
   "metadata": {},
   "source": [
    "### Programming logic\n",
    "\n",
    "Now that we've got basic building blocks, we can *do* things with them.\n",
    "\n",
    "This requires programming logic: using logical statements to control the flow of our code in productive ways."
   ]
  },
  {
   "cell_type": "markdown",
   "id": "73701067-a752-4018-a048-2f81062ddd43",
   "metadata": {},
   "source": [
    "#### [Conditions](https://realpython.com/python-conditional-statements/)"
   ]
  },
  {
   "cell_type": "code",
   "execution_count": 39,
   "id": "b5b91f40-b9e0-4eb0-aca3-22fabacce04a",
   "metadata": {},
   "outputs": [
    {
     "name": "stdout",
     "output_type": "stream",
     "text": [
      "adult\n"
     ]
    }
   ],
   "source": [
    "# ! write a conditional statement that determines whether an age is adult\n",
    "age = 30\n",
    "teen_age = 13\n",
    "adult_age = 22\n",
    "\n",
    "if age >= adult_age:\n",
    "    print('adult')\n",
    "elif age >= teen_age:\n",
    "    print('teen')\n",
    "else:\n",
    "    print('chid')\n"
   ]
  },
  {
   "cell_type": "code",
   "execution_count": null,
   "id": "bb765964-a99c-418b-8d7e-1ce1b23e278a",
   "metadata": {},
   "outputs": [],
   "source": []
  },
  {
   "cell_type": "markdown",
   "id": "9d0594b3-26a0-4df8-8965-00cf838cdf64",
   "metadata": {},
   "source": [
    "#### Loops\n",
    "\n",
    "Loops can iterate through composite data, like lists and dictionaries.\n",
    "\n",
    "'For' loops are the most common type used in data science."
   ]
  },
  {
   "cell_type": "code",
   "execution_count": null,
   "id": "65b09a47-0478-498b-84af-818f3a32de93",
   "metadata": {},
   "outputs": [],
   "source": []
  },
  {
   "cell_type": "code",
   "execution_count": null,
   "id": "72fc8b81-d803-429e-9707-0d756cc67afc",
   "metadata": {},
   "outputs": [],
   "source": []
  },
  {
   "cell_type": "code",
   "execution_count": 42,
   "id": "cc265766-0348-4bdb-8304-8f398ba96a82",
   "metadata": {},
   "outputs": [
    {
     "name": "stdout",
     "output_type": "stream",
     "text": [
      "adult\n",
      "adult\n",
      "adult\n",
      "adult\n",
      "chid\n",
      "chid\n"
     ]
    }
   ],
   "source": [
    "# ! loop through a list of ages to determine if an adult\n",
    "ages = [30,55,33,66,11,2]\n",
    "for age in ages:\n",
    "    if age >= adult_age:\n",
    "        print('adult')\n",
    "    elif age >= teen_age:\n",
    "        print('teen')\n",
    "    else:\n",
    "        print('chid')\n",
    "\n",
    "    \n",
    "    "
   ]
  },
  {
   "cell_type": "code",
   "execution_count": null,
   "id": "9afe425f-b763-4238-80e1-81293b22ee21",
   "metadata": {},
   "outputs": [],
   "source": []
  },
  {
   "cell_type": "code",
   "execution_count": null,
   "id": "7c7e86dc-39b2-46a1-822c-2cdc38650c9c",
   "metadata": {},
   "outputs": [],
   "source": []
  },
  {
   "cell_type": "code",
   "execution_count": null,
   "id": "b262cc41-217c-4ee5-801b-93413e6f104a",
   "metadata": {},
   "outputs": [],
   "source": []
  },
  {
   "cell_type": "code",
   "execution_count": null,
   "id": "ffb1f7f7-a48a-46dc-a611-6fa71acb5b30",
   "metadata": {},
   "outputs": [],
   "source": []
  },
  {
   "cell_type": "code",
   "execution_count": null,
   "id": "50e8186e-5d9a-4714-9a73-2df4e65f5100",
   "metadata": {},
   "outputs": [],
   "source": []
  },
  {
   "cell_type": "code",
   "execution_count": null,
   "id": "2c5b535a-0504-4752-8575-f175448d6eaf",
   "metadata": {},
   "outputs": [],
   "source": []
  },
  {
   "cell_type": "code",
   "execution_count": null,
   "id": "2e03a98a-6994-489c-8df0-72c2f5f8af9c",
   "metadata": {},
   "outputs": [],
   "source": []
  },
  {
   "cell_type": "code",
   "execution_count": 46,
   "id": "164f4793-8a43-4c79-9de7-d471d39d2e19",
   "metadata": {},
   "outputs": [
    {
     "name": "stdout",
     "output_type": "stream",
     "text": [
      "Ned is an adult\n",
      "Sal is an adult\n"
     ]
    }
   ],
   "source": [
    "#! look through a dictionary of names with ages to determine if an adult\n",
    "named_ages = {\n",
    "    'Ned':84,\n",
    "    'Sal':30,\n",
    "    }\n",
    "for name in named_ages:\n",
    "    age = named_ages[name]\n",
    "    if age >= adult_age:\n",
    "        print(f'{name} is an adult')\n",
    "    else:\n",
    "        Print(f'{name} is an teen')\n",
    "        "
   ]
  },
  {
   "cell_type": "code",
   "execution_count": null,
   "id": "3f686efe-d58f-407c-9f28-9cbec3d3d0fa",
   "metadata": {},
   "outputs": [],
   "source": []
  },
  {
   "cell_type": "code",
   "execution_count": null,
   "id": "14498af2-0020-4394-90d4-a689882ed1ff",
   "metadata": {},
   "outputs": [],
   "source": []
  },
  {
   "cell_type": "markdown",
   "id": "5db73da1-f8b1-4471-a167-de3a17343aa0",
   "metadata": {},
   "source": [
    "### Functions\n",
    "\n",
    "Functions are pre-defined programming components that do things. Often, they take inputs and produce outputs.\n",
    "\n",
    "<img src=\"https://miro.medium.com/v2/resize:fit:880/0*xMEO8AbXwdsgnHSH.png\" alt=\"Diagram of a function with input and output\" width=\"400\"/>\n",
    "\n",
    "- Some basic functions are built-in to Python (e.g., `print`)\n",
    "\n",
    "- We can write our own custom functions.\n",
    "\n",
    "- We can use custom functions other people have written."
   ]
  },
  {
   "cell_type": "code",
   "execution_count": 3,
   "id": "2d2c5a4e-dc7a-46c2-b3d7-024328240bcc",
   "metadata": {},
   "outputs": [
    {
     "data": {
      "text/plain": [
       "function"
      ]
     },
     "execution_count": 3,
     "metadata": {},
     "output_type": "execute_result"
    }
   ],
   "source": [
    "# Let's write a function that takes an age as input and tells us whether a person is an adult\n",
    "age = 20\n",
    "\n",
    "def check_adult(age):\n",
    "    if age <18:\n",
    "        adult = False\n",
    "    else:\n",
    "        adult = True\n",
    "    return adult\n",
    "\n",
    "\n",
    "\n",
    "\n",
    "# ! write a function to determine if an age is adult"
   ]
  },
  {
   "cell_type": "code",
   "execution_count": null,
   "id": "7023f84a-7205-4c14-bbef-b3759d3debc8",
   "metadata": {},
   "outputs": [],
   "source": [
    "type(check_adult)"
   ]
  },
  {
   "cell_type": "code",
   "execution_count": 4,
   "id": "d790957f-7363-47e3-bfd4-a79eeecdb06e",
   "metadata": {},
   "outputs": [
    {
     "data": {
      "text/plain": [
       "True"
      ]
     },
     "execution_count": 4,
     "metadata": {},
     "output_type": "execute_result"
    }
   ],
   "source": [
    "check_adult(20)"
   ]
  },
  {
   "cell_type": "code",
   "execution_count": 9,
   "id": "2445aa5f-902f-4083-96b2-2dd182d236e1",
   "metadata": {},
   "outputs": [],
   "source": [
    " # write a function with two arguments\n",
    "def check_adult2(name, age):\n",
    "    if age <18:\n",
    "        status = 'a child'\n",
    "    else:\n",
    "        status = 'an adult'\n",
    "    return f'{name} is {status}'"
   ]
  },
  {
   "cell_type": "code",
   "execution_count": 10,
   "id": "1615fb7a-8008-4015-9d43-aecdf0c1c8c5",
   "metadata": {},
   "outputs": [
    {
     "data": {
      "text/plain": [
       "'Huan is an adult'"
      ]
     },
     "execution_count": 10,
     "metadata": {},
     "output_type": "execute_result"
    }
   ],
   "source": [
    "check_adult2('Huan', 26)"
   ]
  },
  {
   "cell_type": "code",
   "execution_count": 20,
   "id": "4cff1693-611e-4dcb-823d-d979b840f55f",
   "metadata": {},
   "outputs": [],
   "source": [
    "# ! call the function"
   ]
  },
  {
   "cell_type": "code",
   "execution_count": 21,
   "id": "3ce5079c-d6e5-402e-9fba-e564c08d8a41",
   "metadata": {},
   "outputs": [],
   "source": [
    "# ! call the function in a loop for the list of ages"
   ]
  },
  {
   "cell_type": "code",
   "execution_count": 2,
   "id": "f239d6b2-bb77-4438-999d-cc9b986af964",
   "metadata": {},
   "outputs": [],
   "source": [
    "# open terminal\n",
    "# conda activate 688y\n",
    "# conda install pandas\n",
    "import pandas as pd"
   ]
  },
  {
   "cell_type": "code",
   "execution_count": 3,
   "id": "f8b541fd-9579-413c-82db-53abfdf50977",
   "metadata": {},
   "outputs": [
    {
     "data": {
      "text/html": [
       "<div>\n",
       "<style scoped>\n",
       "    .dataframe tbody tr th:only-of-type {\n",
       "        vertical-align: middle;\n",
       "    }\n",
       "\n",
       "    .dataframe tbody tr th {\n",
       "        vertical-align: top;\n",
       "    }\n",
       "\n",
       "    .dataframe thead th {\n",
       "        text-align: right;\n",
       "    }\n",
       "</style>\n",
       "<table border=\"1\" class=\"dataframe\">\n",
       "  <thead>\n",
       "    <tr style=\"text-align: right;\">\n",
       "      <th></th>\n",
       "      <th>english</th>\n",
       "      <th>math</th>\n",
       "      <th>science</th>\n",
       "      <th>school</th>\n",
       "    </tr>\n",
       "  </thead>\n",
       "  <tbody>\n",
       "    <tr>\n",
       "      <th>Daniela</th>\n",
       "      <td>83</td>\n",
       "      <td>95</td>\n",
       "      <td>90</td>\n",
       "      <td>Fairview</td>\n",
       "    </tr>\n",
       "    <tr>\n",
       "      <th>Zoe</th>\n",
       "      <td>97</td>\n",
       "      <td>83</td>\n",
       "      <td>87</td>\n",
       "      <td>New Vista</td>\n",
       "    </tr>\n",
       "    <tr>\n",
       "      <th>Rowen</th>\n",
       "      <td>77</td>\n",
       "      <td>73</td>\n",
       "      <td>95</td>\n",
       "      <td>Fairview</td>\n",
       "    </tr>\n",
       "    <tr>\n",
       "      <th>Jude</th>\n",
       "      <td>95</td>\n",
       "      <td>80</td>\n",
       "      <td>73</td>\n",
       "      <td>New Vista</td>\n",
       "    </tr>\n",
       "    <tr>\n",
       "      <th>Austin</th>\n",
       "      <td>87</td>\n",
       "      <td>100</td>\n",
       "      <td>80</td>\n",
       "      <td>New Vista</td>\n",
       "    </tr>\n",
       "    <tr>\n",
       "      <th>Jasper</th>\n",
       "      <td>92</td>\n",
       "      <td>94</td>\n",
       "      <td>99</td>\n",
       "      <td>Fairview</td>\n",
       "    </tr>\n",
       "    <tr>\n",
       "      <th>Liora</th>\n",
       "      <td>88</td>\n",
       "      <td>89</td>\n",
       "      <td>87</td>\n",
       "      <td>New Vista</td>\n",
       "    </tr>\n",
       "    <tr>\n",
       "      <th>Kieran</th>\n",
       "      <td>72</td>\n",
       "      <td>96</td>\n",
       "      <td>90</td>\n",
       "      <td>Fairview</td>\n",
       "    </tr>\n",
       "  </tbody>\n",
       "</table>\n",
       "</div>"
      ],
      "text/plain": [
       "         english  math  science     school\n",
       "Daniela       83    95       90   Fairview\n",
       "Zoe           97    83       87  New Vista\n",
       "Rowen         77    73       95   Fairview\n",
       "Jude          95    80       73  New Vista\n",
       "Austin        87   100       80  New Vista\n",
       "Jasper        92    94       99   Fairview\n",
       "Liora         88    89       87  New Vista\n",
       "Kieran        72    96       90   Fairview"
      ]
     },
     "execution_count": 3,
     "metadata": {},
     "output_type": "execute_result"
    }
   ],
   "source": [
    "columnwise_data = {\n",
    "    'english': {'Daniela': 83, 'Zoe': 97, 'Rowen': 77, 'Jude': 95, 'Austin': 87, 'Jasper': 92, 'Liora': 88, 'Kieran': 72},\n",
    "    'math': {'Daniela': 95, 'Zoe': 83, 'Rowen': 73, 'Jude': 80, 'Austin': 100, 'Jasper': 94, 'Liora': 89, 'Kieran': 96},\n",
    "    'science': {'Daniela': 90, 'Zoe': 87, 'Rowen': 95, 'Jude': 73, 'Austin': 80, 'Jasper': 99, 'Liora': 87, 'Kieran': 90},\n",
    "    'school':{'Daniela': 'Fairview', 'Zoe': 'New Vista', 'Rowen': 'Fairview', 'Jude': 'New Vista', 'Austin': 'New Vista', 'Jasper': 'Fairview', 'Liora': 'New Vista', 'Kieran': 'Fairview'},\n",
    "}\n",
    "\n",
    "df = pd.DataFrame(columnwise_data)\n",
    "df"
   ]
  },
  {
   "cell_type": "code",
   "execution_count": 4,
   "id": "8efff10b-fc4f-4644-b9c6-bd13d03728ea",
   "metadata": {},
   "outputs": [
    {
     "data": {
      "text/html": [
       "<div>\n",
       "<style scoped>\n",
       "    .dataframe tbody tr th:only-of-type {\n",
       "        vertical-align: middle;\n",
       "    }\n",
       "\n",
       "    .dataframe tbody tr th {\n",
       "        vertical-align: top;\n",
       "    }\n",
       "\n",
       "    .dataframe thead th {\n",
       "        text-align: right;\n",
       "    }\n",
       "</style>\n",
       "<table border=\"1\" class=\"dataframe\">\n",
       "  <thead>\n",
       "    <tr style=\"text-align: right;\">\n",
       "      <th></th>\n",
       "      <th>english</th>\n",
       "      <th>math</th>\n",
       "      <th>science</th>\n",
       "      <th>school</th>\n",
       "    </tr>\n",
       "  </thead>\n",
       "  <tbody>\n",
       "    <tr>\n",
       "      <th>Daniela</th>\n",
       "      <td>83</td>\n",
       "      <td>95</td>\n",
       "      <td>90</td>\n",
       "      <td>Fairview</td>\n",
       "    </tr>\n",
       "    <tr>\n",
       "      <th>Zoe</th>\n",
       "      <td>97</td>\n",
       "      <td>83</td>\n",
       "      <td>87</td>\n",
       "      <td>New Vista</td>\n",
       "    </tr>\n",
       "    <tr>\n",
       "      <th>Rowen</th>\n",
       "      <td>77</td>\n",
       "      <td>73</td>\n",
       "      <td>95</td>\n",
       "      <td>Fairview</td>\n",
       "    </tr>\n",
       "    <tr>\n",
       "      <th>Jude</th>\n",
       "      <td>95</td>\n",
       "      <td>80</td>\n",
       "      <td>73</td>\n",
       "      <td>New Vista</td>\n",
       "    </tr>\n",
       "    <tr>\n",
       "      <th>Austin</th>\n",
       "      <td>87</td>\n",
       "      <td>100</td>\n",
       "      <td>80</td>\n",
       "      <td>New Vista</td>\n",
       "    </tr>\n",
       "  </tbody>\n",
       "</table>\n",
       "</div>"
      ],
      "text/plain": [
       "         english  math  science     school\n",
       "Daniela       83    95       90   Fairview\n",
       "Zoe           97    83       87  New Vista\n",
       "Rowen         77    73       95   Fairview\n",
       "Jude          95    80       73  New Vista\n",
       "Austin        87   100       80  New Vista"
      ]
     },
     "execution_count": 4,
     "metadata": {},
     "output_type": "execute_result"
    }
   ],
   "source": [
    "df.head()"
   ]
  },
  {
   "cell_type": "code",
   "execution_count": 10,
   "id": "05b8f0a0-b0b3-4a7f-8069-85acfaea1f6f",
   "metadata": {},
   "outputs": [],
   "source": [
    "#help(df.head())"
   ]
  },
  {
   "cell_type": "code",
   "execution_count": 7,
   "id": "a9697b52-d733-45f5-90e1-17f9a85dace3",
   "metadata": {},
   "outputs": [
    {
     "data": {
      "text/plain": [
       "['english', 'math', 'science', 'school']"
      ]
     },
     "execution_count": 7,
     "metadata": {},
     "output_type": "execute_result"
    }
   ],
   "source": [
    "df.columns.tolist()"
   ]
  },
  {
   "cell_type": "code",
   "execution_count": 9,
   "id": "497e6100-7f7c-4ee9-98ba-3f2fca14a7a4",
   "metadata": {},
   "outputs": [
    {
     "data": {
      "text/plain": [
       "Index(['english', 'math', 'science', 'school'], dtype='object')"
      ]
     },
     "execution_count": 9,
     "metadata": {},
     "output_type": "execute_result"
    }
   ],
   "source": [
    "df.columns"
   ]
  },
  {
   "cell_type": "code",
   "execution_count": 12,
   "id": "1a2bc927-ce18-43fc-87cb-6d586f1ad533",
   "metadata": {},
   "outputs": [
    {
     "ename": "AttributeError",
     "evalue": "'DataFrame' object has no attribute 'value'",
     "output_type": "error",
     "traceback": [
      "\u001b[0;31m---------------------------------------------------------------------------\u001b[0m",
      "\u001b[0;31mAttributeError\u001b[0m                            Traceback (most recent call last)",
      "\u001b[0;32m/var/folders/hz/vfghrljj3vx2y4q32zkszc040000gp/T/ipykernel_53080/1595293006.py\u001b[0m in \u001b[0;36m?\u001b[0;34m()\u001b[0m\n\u001b[0;32m----> 1\u001b[0;31m \u001b[0mdf\u001b[0m\u001b[0;34m.\u001b[0m\u001b[0mvalue\u001b[0m\u001b[0;34m.\u001b[0m\u001b[0mcount\u001b[0m\u001b[0;34m(\u001b[0m\u001b[0;34m'school'\u001b[0m\u001b[0;34m)\u001b[0m\u001b[0;34m\u001b[0m\u001b[0;34m\u001b[0m\u001b[0m\n\u001b[0m",
      "\u001b[0;32m/opt/miniconda3/envs/688y/lib/python3.12/site-packages/pandas/core/generic.py\u001b[0m in \u001b[0;36m?\u001b[0;34m(self, name)\u001b[0m\n\u001b[1;32m   6295\u001b[0m             \u001b[0;32mand\u001b[0m \u001b[0mname\u001b[0m \u001b[0;32mnot\u001b[0m \u001b[0;32min\u001b[0m \u001b[0mself\u001b[0m\u001b[0;34m.\u001b[0m\u001b[0m_accessors\u001b[0m\u001b[0;34m\u001b[0m\u001b[0;34m\u001b[0m\u001b[0m\n\u001b[1;32m   6296\u001b[0m             \u001b[0;32mand\u001b[0m \u001b[0mself\u001b[0m\u001b[0;34m.\u001b[0m\u001b[0m_info_axis\u001b[0m\u001b[0;34m.\u001b[0m\u001b[0m_can_hold_identifiers_and_holds_name\u001b[0m\u001b[0;34m(\u001b[0m\u001b[0mname\u001b[0m\u001b[0;34m)\u001b[0m\u001b[0;34m\u001b[0m\u001b[0;34m\u001b[0m\u001b[0m\n\u001b[1;32m   6297\u001b[0m         \u001b[0;34m)\u001b[0m\u001b[0;34m:\u001b[0m\u001b[0;34m\u001b[0m\u001b[0;34m\u001b[0m\u001b[0m\n\u001b[1;32m   6298\u001b[0m             \u001b[0;32mreturn\u001b[0m \u001b[0mself\u001b[0m\u001b[0;34m[\u001b[0m\u001b[0mname\u001b[0m\u001b[0;34m]\u001b[0m\u001b[0;34m\u001b[0m\u001b[0;34m\u001b[0m\u001b[0m\n\u001b[0;32m-> 6299\u001b[0;31m         \u001b[0;32mreturn\u001b[0m \u001b[0mobject\u001b[0m\u001b[0;34m.\u001b[0m\u001b[0m__getattribute__\u001b[0m\u001b[0;34m(\u001b[0m\u001b[0mself\u001b[0m\u001b[0;34m,\u001b[0m \u001b[0mname\u001b[0m\u001b[0;34m)\u001b[0m\u001b[0;34m\u001b[0m\u001b[0;34m\u001b[0m\u001b[0m\n\u001b[0m",
      "\u001b[0;31mAttributeError\u001b[0m: 'DataFrame' object has no attribute 'value'"
     ]
    }
   ],
   "source": [
    "df.value.count('school')"
   ]
  },
  {
   "cell_type": "code",
   "execution_count": 11,
   "id": "f15c5152-5a3b-47fb-94d0-ac703c62ca8c",
   "metadata": {},
   "outputs": [
    {
     "data": {
      "text/plain": [
       "Daniela     Fairview\n",
       "Zoe        New Vista\n",
       "Rowen       Fairview\n",
       "Jude       New Vista\n",
       "Austin     New Vista\n",
       "Jasper      Fairview\n",
       "Liora      New Vista\n",
       "Kieran      Fairview\n",
       "Name: school, dtype: object"
      ]
     },
     "execution_count": 11,
     "metadata": {},
     "output_type": "execute_result"
    }
   ],
   "source": [
    "df['school']"
   ]
  },
  {
   "cell_type": "code",
   "execution_count": 13,
   "id": "f514b868-92f6-4da3-b7bd-d271ddb0adad",
   "metadata": {},
   "outputs": [
    {
     "data": {
      "text/plain": [
       "english          83\n",
       "math             95\n",
       "science          90\n",
       "school     Fairview\n",
       "Name: Daniela, dtype: object"
      ]
     },
     "execution_count": 13,
     "metadata": {},
     "output_type": "execute_result"
    }
   ],
   "source": [
    "df.loc['Daniela']"
   ]
  },
  {
   "cell_type": "code",
   "execution_count": 14,
   "id": "1f16e95f-decd-4d5a-9861-30c76adf8999",
   "metadata": {},
   "outputs": [
    {
     "data": {
      "text/plain": [
       "english          83\n",
       "math             95\n",
       "science          90\n",
       "school     Fairview\n",
       "Name: Daniela, dtype: object"
      ]
     },
     "execution_count": 14,
     "metadata": {},
     "output_type": "execute_result"
    }
   ],
   "source": [
    "df.iloc[0]"
   ]
  },
  {
   "cell_type": "code",
   "execution_count": 15,
   "id": "584c1927-cbe0-48af-800d-e82b3a405013",
   "metadata": {},
   "outputs": [
    {
     "data": {
      "text/html": [
       "<div>\n",
       "<style scoped>\n",
       "    .dataframe tbody tr th:only-of-type {\n",
       "        vertical-align: middle;\n",
       "    }\n",
       "\n",
       "    .dataframe tbody tr th {\n",
       "        vertical-align: top;\n",
       "    }\n",
       "\n",
       "    .dataframe thead th {\n",
       "        text-align: right;\n",
       "    }\n",
       "</style>\n",
       "<table border=\"1\" class=\"dataframe\">\n",
       "  <thead>\n",
       "    <tr style=\"text-align: right;\">\n",
       "      <th></th>\n",
       "      <th>english</th>\n",
       "      <th>math</th>\n",
       "      <th>science</th>\n",
       "      <th>school</th>\n",
       "    </tr>\n",
       "  </thead>\n",
       "  <tbody>\n",
       "    <tr>\n",
       "      <th>Daniela</th>\n",
       "      <td>83</td>\n",
       "      <td>95</td>\n",
       "      <td>90</td>\n",
       "      <td>Fairview</td>\n",
       "    </tr>\n",
       "    <tr>\n",
       "      <th>Zoe</th>\n",
       "      <td>97</td>\n",
       "      <td>83</td>\n",
       "      <td>87</td>\n",
       "      <td>New Vista</td>\n",
       "    </tr>\n",
       "    <tr>\n",
       "      <th>Rowen</th>\n",
       "      <td>77</td>\n",
       "      <td>73</td>\n",
       "      <td>95</td>\n",
       "      <td>Fairview</td>\n",
       "    </tr>\n",
       "    <tr>\n",
       "      <th>Jude</th>\n",
       "      <td>95</td>\n",
       "      <td>80</td>\n",
       "      <td>73</td>\n",
       "      <td>New Vista</td>\n",
       "    </tr>\n",
       "    <tr>\n",
       "      <th>Austin</th>\n",
       "      <td>87</td>\n",
       "      <td>100</td>\n",
       "      <td>80</td>\n",
       "      <td>New Vista</td>\n",
       "    </tr>\n",
       "  </tbody>\n",
       "</table>\n",
       "</div>"
      ],
      "text/plain": [
       "         english  math  science     school\n",
       "Daniela       83    95       90   Fairview\n",
       "Zoe           97    83       87  New Vista\n",
       "Rowen         77    73       95   Fairview\n",
       "Jude          95    80       73  New Vista\n",
       "Austin        87   100       80  New Vista"
      ]
     },
     "execution_count": 15,
     "metadata": {},
     "output_type": "execute_result"
    }
   ],
   "source": [
    "df.iloc[0:5]"
   ]
  },
  {
   "cell_type": "code",
   "execution_count": 16,
   "id": "5787cdf1-ca51-4d97-81b2-096f68890407",
   "metadata": {},
   "outputs": [
    {
     "data": {
      "text/plain": [
       "Daniela     True\n",
       "Zoe        False\n",
       "Rowen       True\n",
       "Jude       False\n",
       "Austin     False\n",
       "Jasper      True\n",
       "Liora      False\n",
       "Kieran      True\n",
       "Name: school, dtype: bool"
      ]
     },
     "execution_count": 16,
     "metadata": {},
     "output_type": "execute_result"
    }
   ],
   "source": [
    "# Filtering\n",
    "df.school == 'Fairview'"
   ]
  },
  {
   "cell_type": "code",
   "execution_count": 17,
   "id": "975f0d59-3231-419e-a8b8-f8c9521c82f5",
   "metadata": {},
   "outputs": [
    {
     "data": {
      "text/plain": [
       "Daniela     True\n",
       "Zoe        False\n",
       "Rowen       True\n",
       "Jude       False\n",
       "Austin     False\n",
       "Jasper      True\n",
       "Liora      False\n",
       "Kieran      True\n",
       "Name: school, dtype: bool"
      ]
     },
     "execution_count": 17,
     "metadata": {},
     "output_type": "execute_result"
    }
   ],
   "source": [
    "df['school'] == 'Fairview'"
   ]
  },
  {
   "cell_type": "code",
   "execution_count": 18,
   "id": "b23bb781-9748-4ff5-9a23-ff9997cbd226",
   "metadata": {},
   "outputs": [
    {
     "data": {
      "text/html": [
       "<div>\n",
       "<style scoped>\n",
       "    .dataframe tbody tr th:only-of-type {\n",
       "        vertical-align: middle;\n",
       "    }\n",
       "\n",
       "    .dataframe tbody tr th {\n",
       "        vertical-align: top;\n",
       "    }\n",
       "\n",
       "    .dataframe thead th {\n",
       "        text-align: right;\n",
       "    }\n",
       "</style>\n",
       "<table border=\"1\" class=\"dataframe\">\n",
       "  <thead>\n",
       "    <tr style=\"text-align: right;\">\n",
       "      <th></th>\n",
       "      <th>english</th>\n",
       "      <th>math</th>\n",
       "      <th>science</th>\n",
       "      <th>school</th>\n",
       "    </tr>\n",
       "  </thead>\n",
       "  <tbody>\n",
       "    <tr>\n",
       "      <th>Daniela</th>\n",
       "      <td>83</td>\n",
       "      <td>95</td>\n",
       "      <td>90</td>\n",
       "      <td>Fairview</td>\n",
       "    </tr>\n",
       "    <tr>\n",
       "      <th>Rowen</th>\n",
       "      <td>77</td>\n",
       "      <td>73</td>\n",
       "      <td>95</td>\n",
       "      <td>Fairview</td>\n",
       "    </tr>\n",
       "    <tr>\n",
       "      <th>Jasper</th>\n",
       "      <td>92</td>\n",
       "      <td>94</td>\n",
       "      <td>99</td>\n",
       "      <td>Fairview</td>\n",
       "    </tr>\n",
       "    <tr>\n",
       "      <th>Kieran</th>\n",
       "      <td>72</td>\n",
       "      <td>96</td>\n",
       "      <td>90</td>\n",
       "      <td>Fairview</td>\n",
       "    </tr>\n",
       "  </tbody>\n",
       "</table>\n",
       "</div>"
      ],
      "text/plain": [
       "         english  math  science    school\n",
       "Daniela       83    95       90  Fairview\n",
       "Rowen         77    73       95  Fairview\n",
       "Jasper        92    94       99  Fairview\n",
       "Kieran        72    96       90  Fairview"
      ]
     },
     "execution_count": 18,
     "metadata": {},
     "output_type": "execute_result"
    }
   ],
   "source": [
    "df[df['school']== 'Fairview']"
   ]
  },
  {
   "cell_type": "code",
   "execution_count": null,
   "id": "74ab28aa-2699-4911-ad64-097d48606d66",
   "metadata": {},
   "outputs": [],
   "source": [
    "df['english'].mean()\n",
    "\n",
    "df.groupby('school').mean()"
   ]
  },
  {
   "cell_type": "code",
   "execution_count": 21,
   "id": "59239ecf-2c36-41af-be55-cb88da92f8f2",
   "metadata": {},
   "outputs": [
    {
     "data": {
      "text/plain": [
       "<pandas.core.groupby.generic.DataFrameGroupBy object at 0x11eab6870>"
      ]
     },
     "execution_count": 21,
     "metadata": {},
     "output_type": "execute_result"
    }
   ],
   "source": [
    "df.groupby('school')"
   ]
  },
  {
   "cell_type": "markdown",
   "id": "89acaf1a-a772-4f22-bdd7-06e765bd1bb5",
   "metadata": {},
   "source": [
    "### Errors and debugging\n",
    "\n",
    "Errors are frustrating and inevitable. Even professional programmers probably spend most of their time debugging.\n",
    "\n",
    "Luckily, there are good tools and techniques for making debugging a little easier.\n",
    "\n",
    "Despite these, you will probably nearly tear your hair out with some frequency, especially as a beginner. It will get better with time.\n",
    "\n",
    "There are two types of errors in programming: logic and syntax. They both result in your program not achieving its goal, but the first may not be as easily detectable because the code may still run.\n",
    "\n",
    "#### Logic errors\n",
    "These are issues with how you have approached or executed your problem. If your code runs but produces nonsensical results, there is probably a logic error. However, your erroneous code might also produce logical but *wrong* results; you might never notice until the problem has rippled downstream. It's best to address this proactively by planning your code well so it's less likely to be illogical, and writing readable code that can be easily reviewed.\n",
    "\n",
    "Here's a logic error. Can you find it? (Hint: the issue is syntactical, but it's still a logic error because the code works without throwing an error.)"
   ]
  },
  {
   "cell_type": "code",
   "execution_count": null,
   "id": "67eff452-b042-42a2-a56a-e83a86e50948",
   "metadata": {},
   "outputs": [],
   "source": []
  },
  {
   "cell_type": "code",
   "execution_count": 22,
   "id": "7ae245be-438c-4af0-88ff-4fbefd368015",
   "metadata": {},
   "outputs": [],
   "source": [
    "# ! make a logic error in the adult-finding condition"
   ]
  },
  {
   "cell_type": "markdown",
   "id": "6c4200b2-2176-4329-9a12-68ff65efd852",
   "metadata": {},
   "source": [
    "#### Syntax errors\n",
    "These are more obvious because your code will simply fail. There are lots of tools for figuring out where and why.\n",
    "\n",
    "Error messages are usually the starting place for debugging a syntax error."
   ]
  },
  {
   "cell_type": "code",
   "execution_count": 23,
   "id": "1c4df4de-f47b-4f25-9074-4b0397cc5ea5",
   "metadata": {},
   "outputs": [],
   "source": [
    "# ! try to call the adult-finding function with string input"
   ]
  },
  {
   "cell_type": "markdown",
   "id": "e62b2d21-45dd-41c0-824f-b4496e7d45dd",
   "metadata": {},
   "source": [
    "The error message tells us where the problem is located.\n",
    "\n",
    "Sometimes, it can be helpful to turn on line numbers.\n",
    "- In Colab: `Tools -> Settings -> Editor -> Show line numbers`\n",
    "- In JupyterLab: `View -> Show Line Numbers`\n",
    "\n",
    "The `ValueError` tells us that the issue is related to the value of a variable on this line, but it's still pretty vague.\n",
    "\n",
    "Time to start [Googling](https://www.google.com/).\n"
   ]
  },
  {
   "cell_type": "markdown",
   "id": "1c418985-eb94-45c3-8790-f992b7f9621f",
   "metadata": {},
   "source": [
    "### Style guidelines for Python\n",
    "- At the very least, do things consistently\n",
    "- One statement per line\n",
    "- Try to limit line length to 72 characters\n",
    "- Use four spaces to indent\n",
    "- Put spaces around operators (e.g., `1 + 1` or `day = 'Monday'`) (except in keyword function arguments)\n",
    "- Use blank lines intentionally and consistently\n",
    "- Use meaningful names\n",
    "- Name variables and functions with `lowercase_underscores`\n",
    "- Constants are often named in `ALL_CAPS_WITH_UNDERSCORES` (e.g., `C = 2.99792458e+8`)\n",
    "- Name custom classes with `CapWords`\n",
    "- In general, avoid spaces in folder and filenames used for programming\n",
    "\n",
    "See [Code Readability](https://github.com/ncsg/ursp688y_sp2024/blob/main/README.md#code-readability) on the syllabus. [CS61A](https://cs61a.org/articles/composition/) has an excellent composition guide. [PEP 8](https://peps.python.org/pep-0008/) is a standard Python style guide. [Google](https://google.github.io/styleguide/pyguide.html) publishes their internal Python style guide."
   ]
  }
 ],
 "metadata": {
  "kernelspec": {
   "display_name": "Python 3 (ipykernel)",
   "language": "python",
   "name": "python3"
  },
  "language_info": {
   "codemirror_mode": {
    "name": "ipython",
    "version": 3
   },
   "file_extension": ".py",
   "mimetype": "text/x-python",
   "name": "python",
   "nbconvert_exporter": "python",
   "pygments_lexer": "ipython3",
   "version": "3.12.8"
  }
 },
 "nbformat": 4,
 "nbformat_minor": 5
}
