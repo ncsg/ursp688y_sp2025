{
 "cells": [
  {
   "cell_type": "markdown",
   "id": "13b62af4-9c03-46d7-805c-cebadd28185e",
   "metadata": {
    "editable": true,
    "slideshow": {
     "slide_type": ""
    },
    "tags": []
   },
   "source": [
    "Urban Data Science & Smart Cities <br>\n",
    "URSP688Y Spring 2025<br>\n",
    "Instructor: Chester Harvey <br>\n",
    "Urban Studies & Planning <br>\n",
    "National Center for Smart Growth <br>\n",
    "University of Maryland"
   ]
  },
  {
   "attachments": {},
   "cell_type": "markdown",
   "id": "b7d7937e-5289-44bb-ac8b-1e0b03a74e0b",
   "metadata": {},
   "source": [
    "# Demo 6 - Data Visualization\n",
    "\n",
    "- Principles of graphic communication\n",
    "- Matplotlib\n",
    "- Seaborn\n",
    "- Export to Illustrator"
   ]
  },
  {
   "cell_type": "markdown",
   "id": "22c4a8c1-ff67-41a4-9612-9affec070a11",
   "metadata": {},
   "source": [
    "## Principles of graphic communication\n",
    "\n",
    "### More is less\n",
    "Remove ink until the last thing you removed changes the meaning; add that back and quit.\n",
    "\n",
    "#### \"Chartjunk\"\n",
    "\n",
    "<img src=\"https://www.qimacros.com/free-excel-tips/graphical-excellence/bar-chartjunk1.png\" alt=\"chartjunk\"/>\n",
    "\n",
    "([Source: qimacros.com](https://www.qimacros.com/free-excel-tips/graphical-excellence/))\n",
    "\n",
    "- Legend is redundant with title\n",
    "- X-axis labels are redundant (\"Project\")\n",
    "- Gridlines are unnecessary\n",
    "- Frame around the plot (neat line) doesn't have meaning\n",
    "- Bar style (with outline) is unnecessarily complicated\n",
    "\n",
    "#### An editing sequence\n",
    "\n",
    "<img src=\"https://www.qimacros.com/free-excel-tips/graphical-excellence/bar-chartjunk2.png\" alt=\"excel graph\"/>\n",
    "\n",
    "Better to order values?\n",
    "\n",
    "<img src=\"https://www.qimacros.com/free-excel-tips/graphical-excellence/bar-chartjunk3.png\" alt=\"even better graph\"/>\n",
    "\n",
    "Can we make it even better?\n",
    "\n",
    "<img src=\"https://github.com/ncsg/ursp688y_sp2024/blob/main/demos/demo05/error_rate_graph.png?raw=true\" alt=\"can we make it even better?\" width=\"600\"/>"
   ]
  },
  {
   "cell_type": "markdown",
   "id": "287c655a-ce01-4fed-8b27-bd63997e9443",
   "metadata": {},
   "source": [
    "### Visual hierarchy (figure-ground)\n",
    "\n",
    "The most important information should stand out. \n",
    "\n",
    "Visual variables at your disposal for communicating hierarchy:\n",
    "- Size\n",
    "- Order\n",
    "- Spacing\n",
    "- Color saturation/value/contrast\n",
    "- Texture\n",
    "\n",
    "<img src=\"https://www.graphicdesignforum.com/uploads/default/original/2X/d/d9cf78fffdcf72b0179dcb26efc14cdbd39854ff.jpeg\" alt=\"graphic design has rules\" width=\"300\"/>\n",
    "\n",
    "([Source: graphicdesignforum.com](https://www.graphicdesignforum.com/t/you-will-read-this-first/13726))"
   ]
  },
  {
   "cell_type": "markdown",
   "id": "6df55a83-e0e7-43d4-b7b1-95c49b7eedcd",
   "metadata": {},
   "source": [
    "#### Good figure-ground\n",
    "\n",
    "\"Color and brightness contrast let the land come forward from the ocean, and things like the river come forward from the land.\" ([Axis Maps](https://www.axismaps.com/guide/visual-hierarchy))\n",
    "\n",
    "<img src=\"https://uploads-ssl.webflow.com/5f6a4786fa53db61032919f9/5fa4480f73455816dc71ace1_figure_ground_good.jpeg\" alt=\"bad figure-ground\"/>\n",
    "\n",
    "#### Less good figure-ground\n",
    "\n",
    "\"Low contrasts make it harder and slower to pick out any salient elements.\" ([Axis Maps](https://www.axismaps.com/guide/visual-hierarchy))\n",
    "\n",
    "<img src=\"https://uploads-ssl.webflow.com/5f6a4786fa53db61032919f9/5fa4480f6854b572eb93b9a1_figure_ground_bad.jpeg\" alt=\"less good figure-ground\"/>\n",
    "\n",
    "([Source: Axis Maps](https://www.axismaps.com/guide/visual-hierarchy))"
   ]
  },
  {
   "cell_type": "markdown",
   "id": "16668caf-8f4f-4568-b064-c2e87e83ad5b",
   "metadata": {},
   "source": [
    "### Alignment and consistency\n",
    "\n",
    "Messiness looks like sloppiness looks like ineptitude.\n",
    "\n",
    "<img src=\"https://visme.co/blog/wp-content/uploads/2015/12/alignment.jpg\" alt=\"bad alignment\" width=\"500\"/>\n",
    "\n",
    "<img src=\"https://visme.co/blog/wp-content/uploads/2015/12/fixed3.jpg\" alt=\"2-3 fonts, different weights of same typeface\" width=\"500\"/>\n",
    "\n",
    "([Source: visme.co](https://visme.co/blog/graphic-design-rules/))\n",
    "\n",
    "[Examples of bad maps.](https://storymaps.arcgis.com/stories/6b168cb3aeb44c84b3ce04ca7fe5222e)"
   ]
  },
  {
   "cell_type": "markdown",
   "id": "69ee660a-a529-4b49-b624-c822d972e7dc",
   "metadata": {},
   "source": [
    "### Gestalt principles\n",
    "\n",
    "<img src=\"https://assets-global.website-files.com/5b69a01ba2e409501de055d1/642188a15110ca0a392afaab_Gestalt%20Principles.png\" alt=\"gestalt principles\"/>\n",
    "\n",
    "([Source: Structural Learning](https://www.structural-learning.com/post/gestalt-psychology))"
   ]
  },
  {
   "cell_type": "markdown",
   "id": "2bca7885-5548-462f-a5cb-9340d9e277ae",
   "metadata": {},
   "source": [
    "### Visual variables\n",
    "\n",
    "<img src=\"https://uploads-ssl.webflow.com/5f6a4786fa53db61032919f9/5fa44835ab735150a7e18135_visual_variables.png\" alt=\"bertin's visual variables\" width=\"800\"/>\n",
    "\n",
    "([Source: Axis Maps](https://www.axismaps.com/guide/visual-variables))"
   ]
  },
  {
   "cell_type": "markdown",
   "id": "f07e69ac-a93e-4582-b530-707368358c17",
   "metadata": {},
   "source": [
    "### Use an appropriate chart type\n",
    "\n",
    "#### Bar: Discrete quantities\n",
    "<img src=\"https://chartio.com/images/tutorials/charts/essential-chart-types/bar-chart.png\" alt=\"bar plot example\"/>\n",
    "\n",
    "#### Line: Quantities that vary continuously, even if only sampled sporadically\n",
    "<img src=\"https://chartio.com/images/tutorials/charts/essential-chart-types/line-chart.png\" alt=\"line plot example\"/>\n",
    "\n",
    "#### Scatter: Discrete (or continuous) quantities in two dimensions\n",
    "<img src=\"https://chartio.com/images/tutorials/charts/essential-chart-types/scatter-plot.png\" alt=\"scatter plot example\"/>\n",
    "\n",
    "#### Box plot: Distribution of a sample\n",
    "<img src=\"https://chartio.com/images/tutorials/charts/essential-chart-types/box-plot.png\" alt=\"box plot example\"/>\n",
    "\n",
    "#### Notice I haven't shown you a pie chart?\n",
    "- ***Use sparingly***\n",
    "- Useful in certain circumstances: to emphasize balance or imbalance in quantities\n",
    "- Very difficult to make comparisons between slices or pies\n",
    "- Usually terrible with more than five slices\n",
    "- <ins>Always</ins> put labels directly on/in/next to slices\n",
    "- Consider a stacked bar chart instead\n",
    "\n",
    "([Source: Chartio](https://chartio.com/learn/charts/essential-chart-types-for-data-visualization/))"
   ]
  },
  {
   "cell_type": "markdown",
   "id": "ad1dac2f-2cd4-48bf-ba3d-f0908a48a967",
   "metadata": {},
   "source": [
    "## [Matplotlib](https://matplotlib.org/)\n",
    "\n",
    "Now let's think about how to make charts in Python.\n",
    "\n",
    "Matplotlib is the package behind the scenes for nearly all plotting in Python.\n",
    "\n",
    "It's very flexible/capable/customizable, but also very clunky and non-intuitive.\n",
    "\n",
    "It often feels like it requires an inordinate amount of code to produce a chart.\n",
    "\n",
    "Nonetheless, you will run into it as a way to customize plots from other packages.\n",
    "\n",
    "To install Matplotlib, let's install a different graph-making package, [Seaborn](https://seaborn.pydata.org/index.html), that uses Matplotlib as a dependency, so it will automatically be installed along the way. We'll try using Seaborn a bit later."
   ]
  },
  {
   "cell_type": "code",
   "execution_count": null,
   "id": "83676a75-c5c0-474b-aa0a-6212c659abfa",
   "metadata": {},
   "outputs": [],
   "source": [
    "# Install Seaborn\n",
    "\n",
    "# ! conda install -y seaborn"
   ]
  },
  {
   "cell_type": "code",
   "execution_count": null,
   "id": "861b350a-ad49-49ba-a38c-31390d415861",
   "metadata": {},
   "outputs": [],
   "source": [
    "import matplotlib.pyplot as plt"
   ]
  },
  {
   "cell_type": "markdown",
   "id": "ef68f086-d705-476c-bcef-cb908c62fde0",
   "metadata": {},
   "source": [
    "### Building from Basics\n",
    "\n",
    "Before we get into automated plotting tools, I want to show how plotting is, at a basic level, just drawing things with coordinates. If you need to make something highly customized, you can program it with Matplotlib."
   ]
  },
  {
   "cell_type": "code",
   "execution_count": null,
   "id": "43b3986e-5258-49f1-adeb-b444cdf53906",
   "metadata": {},
   "outputs": [],
   "source": [
    "import numpy as np\n",
    "\n",
    "def construct_polygon(num_vertices):\n",
    "    \"\"\"\n",
    "    Adapted from ChatGPT4.0 query: \"write a python function to draw a pentagon in matplotlib\"\n",
    "    \"\"\"\n",
    "    # Angle between vertices\n",
    "    angle = 2 * np.pi / num_vertices\n",
    "    # Generate the vertices\n",
    "    vertices = [(np.cos(i * angle), np.sin(i * angle)) for i in range(num_vertices)]\n",
    "    # Adding the first vertex at the end to close the pentagon\n",
    "    vertices.append(vertices[0])\n",
    "    # Return the coordinates as x and y lists\n",
    "    return zip(*vertices)\n",
    "\n",
    "def plot_polygon(num_vertices):\n",
    "    \"\"\"\n",
    "    Adapted from ChatGPT4.0 query: \"write a python function to draw a pentagon in matplotlib\"\n",
    "    \"\"\"\n",
    "    x, y = construct_polygon(num_vertices)\n",
    "    plt.figure(figsize=(5,5))\n",
    "    plt.fill(x, y, 'w', edgecolor='k')\n",
    "    plt.xlim(-1.5, 1.5)\n",
    "    plt.ylim(-1.5, 1.5)\n",
    "    plt.gca().set_aspect('equal', adjustable='box')  # Equal aspect ratio to ensure the pentagon looks correct\n",
    "    plt.show()\n",
    "\n",
    "plot_polygon(5)"
   ]
  },
  {
   "cell_type": "markdown",
   "id": "d1b6abf0-c6c7-43bd-b6d3-bf5051272566",
   "metadata": {},
   "source": [
    "### Plotting data from a DataFrame\n",
    "\n",
    "Let's try plotting data from a Pandas Dataframe.\n",
    "\n",
    "We'll use data from the Washington, D.C. Open Data Portal on [affordable housing units](https://opendata.dc.gov/datasets/DCGIS::affordable-housing/about)."
   ]
  },
  {
   "cell_type": "code",
   "execution_count": null,
   "id": "a420cef2-f209-4269-b560-005a135d0531",
   "metadata": {},
   "outputs": [],
   "source": [
    "# Import dependencies\n",
    "import pandas as pd"
   ]
  },
  {
   "cell_type": "code",
   "execution_count": null,
   "id": "68ab2a31-8735-4573-9c3e-1e9af3c0d785",
   "metadata": {},
   "outputs": [],
   "source": [
    "# Load data table\n",
    "# ! Download affordable housing csv and load as a dataframe"
   ]
  },
  {
   "cell_type": "code",
   "execution_count": null,
   "id": "18b230cb-debf-4201-a68b-e77badce9d36",
   "metadata": {},
   "outputs": [],
   "source": [
    "# Let's make a bar chart showing the number of projects in each ward\n",
    "# ! assign value_counts for 'MAR_WARD' to 'ward_counts'"
   ]
  },
  {
   "cell_type": "code",
   "execution_count": null,
   "id": "117f9277-94b6-4d40-b06a-9d6144001751",
   "metadata": {},
   "outputs": [],
   "source": [
    "# First, it looks like we need to do a little bit of data cleaning\n",
    "# for a record with an inconsistent ward label\n",
    "\n",
    "# ! Replace '1' value with 'Ward 1'"
   ]
  },
  {
   "cell_type": "code",
   "execution_count": null,
   "id": "46554a86-425b-4074-9b34-2363c67af5ee",
   "metadata": {},
   "outputs": [],
   "source": [
    "# ! Make lists called 'names' and 'counts' containing the wards and counts from .value_counts"
   ]
  },
  {
   "cell_type": "code",
   "execution_count": null,
   "id": "b3b2b866-8e1e-4cf0-8c81-e093fb65dba4",
   "metadata": {},
   "outputs": [],
   "source": [
    "# Can we make the names simpler?\n",
    "\n",
    "# This is a \"list comprehension.\" It's a mini for loop.\n",
    "# names = [name.split()[1] for name in names]\n",
    "# names"
   ]
  },
  {
   "cell_type": "code",
   "execution_count": null,
   "id": "afb2548e-cb1f-4d73-ac33-fe32eccb8b58",
   "metadata": {},
   "outputs": [],
   "source": [
    "# Define the figure object (like a piece of paper)\n",
    "fig = plt.figure()\n",
    "# Define an axis within the figure (coordinate space) \n",
    "ax = fig.add_subplot(111) # an axis on a 1x1 grid in first position\n",
    "# Draw a bar chart within the axis\n",
    "ax.bar(names, counts)\n",
    "\n",
    "# # Customize the plot\n",
    "# # Remove frames on right and top\n",
    "# ax.spines['right'].set_visible(False)\n",
    "# ax.spines['top'].set_visible(False)\n",
    "# # Define fonts\n",
    "# font = {'fontname': 'Arial'}\n",
    "# title_font = {**font, **{'fontweight':'bold'}} # {**dict1, **dict2} combines two dictionaries\n",
    "# # Set font for ticks\n",
    "# plt.yticks(**font) # **dict in a function call expands the dictionary keys into keyword arguments\n",
    "# plt.xticks(**font)\n",
    "# # Set title and axis labels\n",
    "# plt.title('Projects by Ward', title_font)\n",
    "# plt.xlabel('Ward', title_font) \n",
    "# plt.ylabel('Projects', title_font)\n",
    "\n",
    "# Show the completed plot\n",
    "plt.show()"
   ]
  },
  {
   "cell_type": "markdown",
   "id": "f716699c-0bec-4c6a-adb1-394477fa58ee",
   "metadata": {},
   "source": [
    "## Pandas `plot` method"
   ]
  },
  {
   "cell_type": "code",
   "execution_count": null,
   "id": "597c8851-db9d-4786-941f-3abea6dd383a",
   "metadata": {},
   "outputs": [],
   "source": [
    "ward_counts"
   ]
  },
  {
   "cell_type": "code",
   "execution_count": null,
   "id": "43cc4594-6213-4af6-8a62-5cf554d24fa0",
   "metadata": {},
   "outputs": [],
   "source": [
    "# Plotting a series\n",
    "ax = ward_counts.plot.bar()\n",
    "\n",
    "# You can still customize with Matplotlib\n",
    "# ax.spines['right'].set_visible(False)\n",
    "# ax.spines['top'].set_visible(False)\n",
    "\n",
    "plt.show() # This just avoids a text output"
   ]
  },
  {
   "cell_type": "markdown",
   "id": "9d421e66-3bd4-45f5-992d-f6de23d3fe25",
   "metadata": {},
   "source": [
    "## [Seaborn](https://seaborn.pydata.org/)\n",
    "\n",
    "Seaborn is the most common Python package for (marginally) better plotting in ways that are similar to the popular ggplot package in R. \n",
    "\n",
    "It has some great default styles and some additional methods for customization.\n",
    "\n",
    "[Examples](https://seaborn.pydata.org/examples/index.html)"
   ]
  },
  {
   "cell_type": "code",
   "execution_count": null,
   "id": "c612d550-ad97-4140-a30e-004c15a9a2d2",
   "metadata": {},
   "outputs": [],
   "source": [
    "import seaborn as sns\n",
    "sns.set_style('ticks') # Set a default style for this Python session"
   ]
  },
  {
   "cell_type": "markdown",
   "id": "9d8cf640-c6de-4bef-9e52-0058e47f2faa",
   "metadata": {},
   "source": [
    "Let's use Seaborn's [`countplot` function](https://seaborn.pydata.org/generated/seaborn.countplot.html) to plot the number of projects in each ward."
   ]
  },
  {
   "cell_type": "code",
   "execution_count": null,
   "id": "d152151a-317e-439c-b392-1d12538eb842",
   "metadata": {},
   "outputs": [],
   "source": [
    "sns.countplot(df, x='MAR_WARD', order=df['MAR_WARD'].value_counts().index)\n",
    "sns.despine()"
   ]
  },
  {
   "cell_type": "markdown",
   "id": "a33a7701-854c-459a-a625-bb03a57ebbc4",
   "metadata": {},
   "source": [
    "Let's use the `set` method on the axis to clean up the labels."
   ]
  },
  {
   "cell_type": "code",
   "execution_count": null,
   "id": "c09c36e8-cd4b-48d4-bd70-07f64f472c33",
   "metadata": {},
   "outputs": [],
   "source": [
    "sns.countplot(df, x='MAR_WARD', order=df['MAR_WARD'].value_counts().index)\n",
    "ax.set(\n",
    "    xlabel=None, \n",
    "    ylabel='Average Affordable Units per Project'\n",
    ")\n",
    "sns.despine()"
   ]
  },
  {
   "cell_type": "markdown",
   "id": "a329bfa1-5a3a-4f55-a33d-7abece16cea4",
   "metadata": {},
   "source": [
    "Now let's flex Seaborn's muscles with a more complex plot that groups and aggregates by category, and also gives us some statistical inference with error bars.\n",
    "\n",
    "We'll use the [`barplot` function](https://seaborn.pydata.org/generated/seaborn.barplot.html) to compare the average number of affordable units with each status in each ward.\n",
    "\n",
    "Is this plot too busy? How could we simplify it visually?"
   ]
  },
  {
   "cell_type": "code",
   "execution_count": null,
   "id": "21cb2207-fd1a-4e8b-9c43-556dc4234956",
   "metadata": {},
   "outputs": [],
   "source": [
    "fig = plt.figure() # Not entirely necessary, but helpful for ensuring you're starting with a blank canvas\n",
    "ax = sns.barplot(df, x='MAR_WARD', y='TOTAL_AFFORDABLE_UNITS', hue=\"STATUS_PUBLIC\")\n",
    "ax.set(\n",
    "    xlabel=None, \n",
    "    ylabel='Average Affordable Units per Project'\n",
    ")\n",
    "plt.legend(title=None, frameon=False)\n",
    "sns.despine()"
   ]
  },
  {
   "cell_type": "markdown",
   "id": "9f7ce076-c50e-407c-b959-f678866068e4",
   "metadata": {},
   "source": [
    "And, of course, we can tidy up our code by writing a custom plot function."
   ]
  },
  {
   "cell_type": "code",
   "execution_count": null,
   "id": "55898354-e791-407f-ab6a-17faaae36052",
   "metadata": {},
   "outputs": [],
   "source": [
    "def plot_average_affordable_units_by_status(df):\n",
    "    fig = plt.figure()\n",
    "    ax = sns.barplot(df, x='MAR_WARD', y='TOTAL_AFFORDABLE_UNITS', hue=\"STATUS_PUBLIC\")\n",
    "    ax.set(\n",
    "        xlabel=None, \n",
    "        ylabel='Average Affordable Units per Project'\n",
    "    )\n",
    "    plt.legend(title=None, frameon=False)\n",
    "    sns.despine()\n",
    "    return fig\n",
    "\n",
    "fig = plot_average_affordable_units_by_status(df)"
   ]
  },
  {
   "cell_type": "markdown",
   "id": "c878814d-2108-415a-b1c0-20f7ebfafbe6",
   "metadata": {},
   "source": [
    "## Exporting to Illustrator\n",
    "\n",
    "Sometimes, it's just plain easier to clean up and further customize a messy plot in Illustrator. For this, export to EPS, a vector graphic format."
   ]
  },
  {
   "cell_type": "code",
   "execution_count": null,
   "id": "78c936ad-1202-4f19-8a08-e8f6e5dc28c2",
   "metadata": {},
   "outputs": [],
   "source": [
    "# Let's check what's stored in the `fig` variable\n",
    "fig"
   ]
  },
  {
   "cell_type": "code",
   "execution_count": null,
   "id": "0c46c6bc-8570-436f-ba7b-127e570b1505",
   "metadata": {},
   "outputs": [],
   "source": [
    "fig.savefig('affordable_housing_units_per_ward.png', format='png')"
   ]
  },
  {
   "cell_type": "code",
   "execution_count": null,
   "id": "3590de3f-de94-4e35-94a6-157875d458bd",
   "metadata": {},
   "outputs": [],
   "source": [
    "fig.savefig('affordable_housing_units_per_ward.eps', format='eps')"
   ]
  }
 ],
 "metadata": {
  "kernelspec": {
   "display_name": "Python 3 (ipykernel)",
   "language": "python",
   "name": "python3"
  },
  "language_info": {
   "codemirror_mode": {
    "name": "ipython",
    "version": 3
   },
   "file_extension": ".py",
   "mimetype": "text/x-python",
   "name": "python",
   "nbconvert_exporter": "python",
   "pygments_lexer": "ipython3",
   "version": "3.13.1"
  }
 },
 "nbformat": 4,
 "nbformat_minor": 5
}
