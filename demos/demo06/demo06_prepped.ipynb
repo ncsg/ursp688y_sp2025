{
 "cells": [
  {
   "cell_type": "markdown",
   "id": "13b62af4-9c03-46d7-805c-cebadd28185e",
   "metadata": {
    "editable": true,
    "slideshow": {
     "slide_type": ""
    },
    "tags": []
   },
   "source": [
    "Urban Data Science & Smart Cities <br>\n",
    "URSP688Y Spring 2025<br>\n",
    "Instructor: Chester Harvey <br>\n",
    "Urban Studies & Planning <br>\n",
    "National Center for Smart Growth <br>\n",
    "University of Maryland"
   ]
  },
  {
   "attachments": {},
   "cell_type": "markdown",
   "id": "b7d7937e-5289-44bb-ac8b-1e0b03a74e0b",
   "metadata": {},
   "source": [
    "# Demo 6 - Data Visualization\n",
    "\n",
    "- Principles of graphic communication\n",
    "- Matplotlib\n",
    "- Seaborn\n",
    "- Export to Illustrator"
   ]
  },
  {
   "cell_type": "markdown",
   "id": "22c4a8c1-ff67-41a4-9612-9affec070a11",
   "metadata": {},
   "source": [
    "## Principles of graphic communication\n",
    "\n",
    "### More is less\n",
    "Remove ink until the last thing you removed changes the meaning; add that back and quit.\n",
    "\n",
    "#### \"Chartjunk\"\n",
    "\n",
    "<img src=\"https://www.qimacros.com/free-excel-tips/graphical-excellence/bar-chartjunk1.png\" alt=\"chartjunk\"/>\n",
    "\n",
    "([Source: qimacros.com](https://www.qimacros.com/free-excel-tips/graphical-excellence/))\n",
    "\n",
    "- Legend is redundant with title\n",
    "- X-axis labels are redundant (\"Project\")\n",
    "- Gridlines are unnecessary\n",
    "- Frame around the plot (neat line) doesn't have meaning\n",
    "- Bar style (with outline) is unnecessarily complicated\n",
    "\n",
    "#### An editing sequence\n",
    "\n",
    "<img src=\"https://www.qimacros.com/free-excel-tips/graphical-excellence/bar-chartjunk2.png\" alt=\"excel graph\"/>\n",
    "\n",
    "Better to order values?\n",
    "\n",
    "<img src=\"https://www.qimacros.com/free-excel-tips/graphical-excellence/bar-chartjunk3.png\" alt=\"even better graph\"/>\n",
    "\n",
    "Can we make it even better?\n",
    "\n",
    "<img src=\"https://github.com/ncsg/ursp688y_sp2024/blob/main/demos/demo05/error_rate_graph.png?raw=true\" alt=\"can we make it even better?\" width=\"600\"/>"
   ]
  },
  {
   "cell_type": "markdown",
   "id": "287c655a-ce01-4fed-8b27-bd63997e9443",
   "metadata": {},
   "source": [
    "### Visual hierarchy (figure-ground)\n",
    "\n",
    "The most important information should stand out. \n",
    "\n",
    "Visual variables at your disposal for communicating hierarchy:\n",
    "- Size\n",
    "- Order\n",
    "- Spacing\n",
    "- Color saturation/value/contrast\n",
    "- Texture\n",
    "\n",
    "<img src=\"https://www.graphicdesignforum.com/uploads/default/original/2X/d/d9cf78fffdcf72b0179dcb26efc14cdbd39854ff.jpeg\" alt=\"graphic design has rules\" width=\"300\"/>\n",
    "\n",
    "([Source: graphicdesignforum.com](https://www.graphicdesignforum.com/t/you-will-read-this-first/13726))"
   ]
  },
  {
   "cell_type": "markdown",
   "id": "6df55a83-e0e7-43d4-b7b1-95c49b7eedcd",
   "metadata": {},
   "source": [
    "#### Good figure-ground\n",
    "\n",
    "\"Color and brightness contrast let the land come forward from the ocean, and things like the river come forward from the land.\" ([Axis Maps](https://www.axismaps.com/guide/visual-hierarchy))\n",
    "\n",
    "<img src=\"https://uploads-ssl.webflow.com/5f6a4786fa53db61032919f9/5fa4480f73455816dc71ace1_figure_ground_good.jpeg\" alt=\"bad figure-ground\"/>\n",
    "\n",
    "#### Less good figure-ground\n",
    "\n",
    "\"Low contrasts make it harder and slower to pick out any salient elements.\" ([Axis Maps](https://www.axismaps.com/guide/visual-hierarchy))\n",
    "\n",
    "<img src=\"https://uploads-ssl.webflow.com/5f6a4786fa53db61032919f9/5fa4480f6854b572eb93b9a1_figure_ground_bad.jpeg\" alt=\"less good figure-ground\"/>\n",
    "\n",
    "([Source: Axis Maps](https://www.axismaps.com/guide/visual-hierarchy))"
   ]
  },
  {
   "cell_type": "markdown",
   "id": "16668caf-8f4f-4568-b064-c2e87e83ad5b",
   "metadata": {},
   "source": [
    "### Alignment and consistency\n",
    "\n",
    "Messiness looks like sloppiness looks like ineptitude.\n",
    "\n",
    "<img src=\"https://visme.co/blog/wp-content/uploads/2015/12/alignment.jpg\" alt=\"bad alignment\" width=\"500\"/>\n",
    "\n",
    "<img src=\"https://visme.co/blog/wp-content/uploads/2015/12/fixed3.jpg\" alt=\"2-3 fonts, different weights of same typeface\" width=\"500\"/>\n",
    "\n",
    "([Source: visme.co](https://visme.co/blog/graphic-design-rules/))\n",
    "\n",
    "[Examples of bad maps.](https://storymaps.arcgis.com/stories/6b168cb3aeb44c84b3ce04ca7fe5222e)"
   ]
  },
  {
   "cell_type": "markdown",
   "id": "69ee660a-a529-4b49-b624-c822d972e7dc",
   "metadata": {},
   "source": [
    "### Gestalt principles\n",
    "\n",
    "<img src=\"https://assets-global.website-files.com/5b69a01ba2e409501de055d1/642188a15110ca0a392afaab_Gestalt%20Principles.png\" alt=\"gestalt principles\"/>\n",
    "\n",
    "([Source: Structural Learning](https://www.structural-learning.com/post/gestalt-psychology))"
   ]
  },
  {
   "cell_type": "markdown",
   "id": "2bca7885-5548-462f-a5cb-9340d9e277ae",
   "metadata": {},
   "source": [
    "### Visual variables\n",
    "\n",
    "<img src=\"https://uploads-ssl.webflow.com/5f6a4786fa53db61032919f9/5fa44835ab735150a7e18135_visual_variables.png\" alt=\"bertin's visual variables\" width=\"800\"/>\n",
    "\n",
    "([Source: Axis Maps](https://www.axismaps.com/guide/visual-variables))"
   ]
  },
  {
   "cell_type": "markdown",
   "id": "f07e69ac-a93e-4582-b530-707368358c17",
   "metadata": {},
   "source": [
    "### Use an appropriate chart type\n",
    "\n",
    "#### Bar: Discrete quantities\n",
    "<img src=\"https://chartio.com/images/tutorials/charts/essential-chart-types/bar-chart.png\" alt=\"bar plot example\"/>\n",
    "\n",
    "#### Line: Quantities that vary continuously, even if only sampled sporadically\n",
    "<img src=\"https://chartio.com/images/tutorials/charts/essential-chart-types/line-chart.png\" alt=\"line plot example\"/>\n",
    "\n",
    "#### Scatter: Discrete (or continuous) quantities in two dimensions\n",
    "<img src=\"https://chartio.com/images/tutorials/charts/essential-chart-types/scatter-plot.png\" alt=\"scatter plot example\"/>\n",
    "\n",
    "#### Box plot: Distribution of a sample\n",
    "<img src=\"https://chartio.com/images/tutorials/charts/essential-chart-types/box-plot.png\" alt=\"box plot example\"/>\n",
    "\n",
    "#### Notice I haven't shown you a pie chart?\n",
    "- ***Use sparingly***\n",
    "- Useful in certain circumstances: to emphasize balance or imbalance in quantities\n",
    "- Very difficult to make comparisons between slices or pies\n",
    "- Usually terrible with more than five slices\n",
    "- <ins>Always</ins> put labels directly on/in/next to slices\n",
    "- Consider a stacked bar chart instead\n",
    "\n",
    "([Source: Chartio](https://chartio.com/learn/charts/essential-chart-types-for-data-visualization/))"
   ]
  },
  {
   "cell_type": "markdown",
   "id": "ad1dac2f-2cd4-48bf-ba3d-f0908a48a967",
   "metadata": {},
   "source": [
    "## [Matplotlib](https://matplotlib.org/)\n",
    "\n",
    "Now let's think about how to make charts in Python.\n",
    "\n",
    "Matplotlib is the package behind the scenes for nearly all plotting in Python.\n",
    "\n",
    "It's very flexible/capable/customizable, but also very clunky and non-intuitive.\n",
    "\n",
    "It often feels like it requires an inordinate amount of code to produce a chart.\n",
    "\n",
    "Nonetheless, you will run into it as a way to customize plots from other packages.\n",
    "\n",
    "To install Matplotlib, let's install a different graph-making package, [Seaborn](https://seaborn.pydata.org/index.html), that uses Matplotlib as a dependency, so it will automatically be installed along the way. We'll try using Seaborn a bit later."
   ]
  },
  {
   "cell_type": "code",
   "execution_count": 1,
   "id": "83676a75-c5c0-474b-aa0a-6212c659abfa",
   "metadata": {},
   "outputs": [],
   "source": [
    "# Install Seaborn\n",
    "\n",
    "# ! conda install -y seaborn"
   ]
  },
  {
   "cell_type": "code",
   "execution_count": 2,
   "id": "861b350a-ad49-49ba-a38c-31390d415861",
   "metadata": {},
   "outputs": [],
   "source": [
    "import matplotlib.pyplot as plt"
   ]
  },
  {
   "cell_type": "markdown",
   "id": "ef68f086-d705-476c-bcef-cb908c62fde0",
   "metadata": {},
   "source": [
    "### Building from Basics\n",
    "\n",
    "Before we get into automated plotting tools, I want to show how plotting is, at a basic level, just drawing things with coordinates. If you need to make something highly customized, you can program it with Matplotlib."
   ]
  },
  {
   "cell_type": "code",
   "execution_count": 3,
   "id": "43b3986e-5258-49f1-adeb-b444cdf53906",
   "metadata": {},
   "outputs": [
    {
     "data": {
      "image/png": "[encoded data removed]",
      "text/plain": [
       "<Figure size 500x500 with 1 Axes>"
      ]
     },
     "metadata": {},
     "output_type": "display_data"
    }
   ],
   "source": [
    "import numpy as np\n",
    "\n",
    "def construct_polygon(num_vertices):\n",
    "    \"\"\"\n",
    "    Adapted from ChatGPT4.0 query: \"write a python function to draw a pentagon in matplotlib\"\n",
    "    \"\"\"\n",
    "    # Angle between vertices\n",
    "    angle = 2 * np.pi / num_vertices\n",
    "    # Generate the vertices\n",
    "    vertices = [(np.cos(i * angle), np.sin(i * angle)) for i in range(num_vertices)]\n",
    "    # Adding the first vertex at the end to close the pentagon\n",
    "    vertices.append(vertices[0])\n",
    "    # Return the coordinates as x and y lists\n",
    "    return zip(*vertices)\n",
    "\n",
    "def plot_polygon(num_vertices):\n",
    "    \"\"\"\n",
    "    Adapted from ChatGPT4.0 query: \"write a python function to draw a pentagon in matplotlib\"\n",
    "    \"\"\"\n",
    "    x, y = construct_polygon(num_vertices)\n",
    "    plt.figure(figsize=(5,5))\n",
    "    plt.fill(x, y, 'w', edgecolor='k')\n",
    "    plt.xlim(-1.5, 1.5)\n",
    "    plt.ylim(-1.5, 1.5)\n",
    "    plt.gca().set_aspect('equal', adjustable='box')  # Equal aspect ratio to ensure the pentagon looks correct\n",
    "    plt.show()\n",
    "\n",
    "plot_polygon(5)"
   ]
  },
  {
   "cell_type": "markdown",
   "id": "d1b6abf0-c6c7-43bd-b6d3-bf5051272566",
   "metadata": {},
   "source": [
    "### Plotting data from a DataFrame\n",
    "\n",
    "Let's try plotting data from a Pandas Dataframe.\n",
    "\n",
    "We'll use data from the Washington, D.C. Open Data Portal on [affordable housing units](https://opendata.dc.gov/datasets/DCGIS::affordable-housing/about)."
   ]
  },
  {
   "cell_type": "code",
   "execution_count": 4,
   "id": "a420cef2-f209-4269-b560-005a135d0531",
   "metadata": {},
   "outputs": [],
   "source": [
    "# Import dependencies\n",
    "import pandas as pd"
   ]
  },
  {
   "cell_type": "code",
   "execution_count": 5,
   "id": "68ab2a31-8735-4573-9c3e-1e9af3c0d785",
   "metadata": {},
   "outputs": [],
   "source": [
    "# Load data table\n",
    "df = pd.read_csv('Affordable_Housing.csv')"
   ]
  },
  {
   "cell_type": "code",
   "execution_count": 6,
   "id": "856fb236-22b6-41dd-a8ce-6052e389d868",
   "metadata": {},
   "outputs": [
    {
     "data": {
      "text/html": [
       "<div>\n",
       "<style scoped>\n",
       "    .dataframe tbody tr th:only-of-type {\n",
       "        vertical-align: middle;\n",
       "    }\n",
       "\n",
       "    .dataframe tbody tr th {\n",
       "        vertical-align: top;\n",
       "    }\n",
       "\n",
       "    .dataframe thead th {\n",
       "        text-align: right;\n",
       "    }\n",
       "</style>\n",
       "<table border=\"1\" class=\"dataframe\">\n",
       "  <thead>\n",
       "    <tr style=\"text-align: right;\">\n",
       "      <th></th>\n",
       "      <th>X</th>\n",
       "      <th>Y</th>\n",
       "      <th>OBJECTID</th>\n",
       "      <th>MAR_WARD</th>\n",
       "      <th>ADDRESS</th>\n",
       "      <th>PROJECT_NAME</th>\n",
       "      <th>STATUS_PUBLIC</th>\n",
       "      <th>AGENCY_CALCULATED</th>\n",
       "      <th>TOTAL_AFFORDABLE_UNITS</th>\n",
       "      <th>LATITUDE</th>\n",
       "      <th>...</th>\n",
       "      <th>AFFORDABLE_UNITS_AT_31_50_AMI</th>\n",
       "      <th>AFFORDABLE_UNITS_AT_51_60_AMI</th>\n",
       "      <th>AFFORDABLE_UNITS_AT_61_80_AMI</th>\n",
       "      <th>AFFORDABLE_UNITS_AT_81_AMI</th>\n",
       "      <th>CASE_ID</th>\n",
       "      <th>MAR_ID</th>\n",
       "      <th>XCOORD</th>\n",
       "      <th>YCOORD</th>\n",
       "      <th>FULLADDRESS</th>\n",
       "      <th>GIS_LAST_MOD_DTTM</th>\n",
       "    </tr>\n",
       "  </thead>\n",
       "  <tbody>\n",
       "    <tr>\n",
       "      <th>0</th>\n",
       "      <td>-8.569449e+06</td>\n",
       "      <td>4.708038e+06</td>\n",
       "      <td>119968</td>\n",
       "      <td>Ward 5</td>\n",
       "      <td>1122 Bladensburg Road Northeast, Washington, D...</td>\n",
       "      <td>1122-1124 Bladensburg Rd NE</td>\n",
       "      <td>Completed 2015 to Date</td>\n",
       "      <td>DHCD</td>\n",
       "      <td>4</td>\n",
       "      <td>38.904778</td>\n",
       "      <td>...</td>\n",
       "      <td>1</td>\n",
       "      <td>3</td>\n",
       "      <td>0</td>\n",
       "      <td>0</td>\n",
       "      <td>NaN</td>\n",
       "      <td>73518.0</td>\n",
       "      <td>401676.80</td>\n",
       "      <td>137432.93</td>\n",
       "      <td>1122 BLADENSBURG ROAD NE</td>\n",
       "      <td>2024/09/23 09:00:26+00</td>\n",
       "    </tr>\n",
       "    <tr>\n",
       "      <th>1</th>\n",
       "      <td>-8.570638e+06</td>\n",
       "      <td>4.704845e+06</td>\n",
       "      <td>120961</td>\n",
       "      <td>Ward 6</td>\n",
       "      <td>1101 Pennsylvania Avenue Southeast, Washington...</td>\n",
       "      <td>Penn 11</td>\n",
       "      <td>Completed 2015 to Date</td>\n",
       "      <td>DHCD</td>\n",
       "      <td>3</td>\n",
       "      <td>38.882384</td>\n",
       "      <td>...</td>\n",
       "      <td>2</td>\n",
       "      <td>0</td>\n",
       "      <td>1</td>\n",
       "      <td>0</td>\n",
       "      <td>NaN</td>\n",
       "      <td>74406.0</td>\n",
       "      <td>400750.26</td>\n",
       "      <td>134954.45</td>\n",
       "      <td>1101 PENNSYLVANIA AVENUE SE</td>\n",
       "      <td>2024/09/23 09:00:26+00</td>\n",
       "    </tr>\n",
       "    <tr>\n",
       "      <th>2</th>\n",
       "      <td>-8.568991e+06</td>\n",
       "      <td>4.703461e+06</td>\n",
       "      <td>120962</td>\n",
       "      <td>Ward 8</td>\n",
       "      <td>1928 Naylor Road Southeast, Washington, Distri...</td>\n",
       "      <td>MEDES</td>\n",
       "      <td>Completed 2015 to Date</td>\n",
       "      <td>DHCD</td>\n",
       "      <td>3</td>\n",
       "      <td>38.872759</td>\n",
       "      <td>...</td>\n",
       "      <td>0</td>\n",
       "      <td>3</td>\n",
       "      <td>0</td>\n",
       "      <td>0</td>\n",
       "      <td>NaN</td>\n",
       "      <td>53759.0</td>\n",
       "      <td>402034.95</td>\n",
       "      <td>133880.20</td>\n",
       "      <td>1928 NAYLOR ROAD SE</td>\n",
       "      <td>2024/09/23 09:00:26+00</td>\n",
       "    </tr>\n",
       "    <tr>\n",
       "      <th>3</th>\n",
       "      <td>-8.570112e+06</td>\n",
       "      <td>4.704872e+06</td>\n",
       "      <td>120963</td>\n",
       "      <td>Ward 6</td>\n",
       "      <td>1339 E Street Southeast, Washington, District ...</td>\n",
       "      <td>Lockwood Apartments</td>\n",
       "      <td>Completed 2015 to Date</td>\n",
       "      <td>DHCD OP</td>\n",
       "      <td>13</td>\n",
       "      <td>38.882642</td>\n",
       "      <td>...</td>\n",
       "      <td>8</td>\n",
       "      <td>0</td>\n",
       "      <td>5</td>\n",
       "      <td>0</td>\n",
       "      <td>15-33</td>\n",
       "      <td>289426.0</td>\n",
       "      <td>401160.61</td>\n",
       "      <td>134975.43</td>\n",
       "      <td>1339 E STREET SE</td>\n",
       "      <td>2024/09/23 09:00:26+00</td>\n",
       "    </tr>\n",
       "    <tr>\n",
       "      <th>4</th>\n",
       "      <td>-8.573605e+06</td>\n",
       "      <td>4.709245e+06</td>\n",
       "      <td>120964</td>\n",
       "      <td>Ward 6</td>\n",
       "      <td>1720 New Jersey Avenue Northwest, Washington, ...</td>\n",
       "      <td>The Hoxton</td>\n",
       "      <td>Completed 2015 to Date</td>\n",
       "      <td>DHCD</td>\n",
       "      <td>1</td>\n",
       "      <td>38.913194</td>\n",
       "      <td>...</td>\n",
       "      <td>1</td>\n",
       "      <td>0</td>\n",
       "      <td>0</td>\n",
       "      <td>0</td>\n",
       "      <td>NaN</td>\n",
       "      <td>218457.0</td>\n",
       "      <td>398438.64</td>\n",
       "      <td>138369.63</td>\n",
       "      <td>1720 NEW JERSEY AVENUE NW</td>\n",
       "      <td>2024/09/23 09:00:26+00</td>\n",
       "    </tr>\n",
       "  </tbody>\n",
       "</table>\n",
       "<p>5 rows × 22 columns</p>\n",
       "</div>"
      ],
      "text/plain": [
       "              X             Y  OBJECTID MAR_WARD  \\\n",
       "0 -8.569449e+06  4.708038e+06    119968   Ward 5   \n",
       "1 -8.570638e+06  4.704845e+06    120961   Ward 6   \n",
       "2 -8.568991e+06  4.703461e+06    120962   Ward 8   \n",
       "3 -8.570112e+06  4.704872e+06    120963   Ward 6   \n",
       "4 -8.573605e+06  4.709245e+06    120964   Ward 6   \n",
       "\n",
       "                                             ADDRESS  \\\n",
       "0  1122 Bladensburg Road Northeast, Washington, D...   \n",
       "1  1101 Pennsylvania Avenue Southeast, Washington...   \n",
       "2  1928 Naylor Road Southeast, Washington, Distri...   \n",
       "3  1339 E Street Southeast, Washington, District ...   \n",
       "4  1720 New Jersey Avenue Northwest, Washington, ...   \n",
       "\n",
       "                  PROJECT_NAME           STATUS_PUBLIC AGENCY_CALCULATED  \\\n",
       "0  1122-1124 Bladensburg Rd NE  Completed 2015 to Date              DHCD   \n",
       "1                      Penn 11  Completed 2015 to Date              DHCD   \n",
       "2                        MEDES  Completed 2015 to Date              DHCD   \n",
       "3          Lockwood Apartments  Completed 2015 to Date           DHCD OP   \n",
       "4                   The Hoxton  Completed 2015 to Date              DHCD   \n",
       "\n",
       "   TOTAL_AFFORDABLE_UNITS   LATITUDE  ...  AFFORDABLE_UNITS_AT_31_50_AMI  \\\n",
       "0                       4  38.904778  ...                              1   \n",
       "1                       3  38.882384  ...                              2   \n",
       "2                       3  38.872759  ...                              0   \n",
       "3                      13  38.882642  ...                              8   \n",
       "4                       1  38.913194  ...                              1   \n",
       "\n",
       "   AFFORDABLE_UNITS_AT_51_60_AMI  AFFORDABLE_UNITS_AT_61_80_AMI  \\\n",
       "0                              3                              0   \n",
       "1                              0                              1   \n",
       "2                              3                              0   \n",
       "3                              0                              5   \n",
       "4                              0                              0   \n",
       "\n",
       "   AFFORDABLE_UNITS_AT_81_AMI  CASE_ID    MAR_ID     XCOORD     YCOORD  \\\n",
       "0                           0      NaN   73518.0  401676.80  137432.93   \n",
       "1                           0      NaN   74406.0  400750.26  134954.45   \n",
       "2                           0      NaN   53759.0  402034.95  133880.20   \n",
       "3                           0    15-33  289426.0  401160.61  134975.43   \n",
       "4                           0      NaN  218457.0  398438.64  138369.63   \n",
       "\n",
       "                   FULLADDRESS       GIS_LAST_MOD_DTTM  \n",
       "0     1122 BLADENSBURG ROAD NE  2024/09/23 09:00:26+00  \n",
       "1  1101 PENNSYLVANIA AVENUE SE  2024/09/23 09:00:26+00  \n",
       "2          1928 NAYLOR ROAD SE  2024/09/23 09:00:26+00  \n",
       "3             1339 E STREET SE  2024/09/23 09:00:26+00  \n",
       "4    1720 NEW JERSEY AVENUE NW  2024/09/23 09:00:26+00  \n",
       "\n",
       "[5 rows x 22 columns]"
      ]
     },
     "execution_count": 6,
     "metadata": {},
     "output_type": "execute_result"
    }
   ],
   "source": [
    "# Preview\n",
    "df.head()"
   ]
  },
  {
   "cell_type": "code",
   "execution_count": 7,
   "id": "18b230cb-debf-4201-a68b-e77badce9d36",
   "metadata": {},
   "outputs": [
    {
     "data": {
      "text/plain": [
       "MAR_WARD\n",
       "Ward 5    188\n",
       "Ward 4    154\n",
       "Ward 6    150\n",
       "Ward 8    133\n",
       "Ward 1    124\n",
       "Ward 7     92\n",
       "Ward 2     50\n",
       "Ward 3     31\n",
       "1           1\n",
       "Name: count, dtype: int64"
      ]
     },
     "execution_count": 7,
     "metadata": {},
     "output_type": "execute_result"
    }
   ],
   "source": [
    "# Let's make a bar chart showing the number of projects in each ward\n",
    "df['MAR_WARD'].value_counts()"
   ]
  },
  {
   "cell_type": "code",
   "execution_count": 8,
   "id": "117f9277-94b6-4d40-b06a-9d6144001751",
   "metadata": {},
   "outputs": [
    {
     "name": "stdout",
     "output_type": "stream",
     "text": [
      "inconsistent ward label is at index 55\n"
     ]
    },
    {
     "data": {
      "text/plain": [
       "MAR_WARD\n",
       "Ward 5    188\n",
       "Ward 4    154\n",
       "Ward 6    150\n",
       "Ward 8    133\n",
       "Ward 1    125\n",
       "Ward 7     92\n",
       "Ward 2     50\n",
       "Ward 3     31\n",
       "Name: count, dtype: int64"
      ]
     },
     "execution_count": 8,
     "metadata": {},
     "output_type": "execute_result"
    }
   ],
   "source": [
    "# First, it looks like we need to do a little bit of data cleaning\n",
    "# for a record with an inconsistent ward label\n",
    "\n",
    "# Only fix the record if the problem still exists\n",
    "try:\n",
    "    # Find the index of the record \n",
    "    idx = df[df['MAR_WARD'] == '1'].index[0] # This statement will throw an 'IndexError' if there are no '1' values in 'MAR_WARD'\n",
    "    print(f'inconsistent ward label is at index {idx}')\n",
    "    # Assign that cell a more consistently formatted value\n",
    "    df.at[idx, 'MAR_WARD'] = 'Ward 1'\n",
    "# If the above code throws an error, just move on\n",
    "except IndexError:\n",
    "    pass\n",
    "\n",
    "# Check that it's not longer inconsistent\n",
    "ward_counts = df['MAR_WARD'].value_counts()\n",
    "ward_counts"
   ]
  },
  {
   "cell_type": "code",
   "execution_count": 9,
   "id": "46554a86-425b-4074-9b34-2363c67af5ee",
   "metadata": {},
   "outputs": [
    {
     "name": "stdout",
     "output_type": "stream",
     "text": [
      "Index(['Ward 5', 'Ward 4', 'Ward 6', 'Ward 8', 'Ward 1', 'Ward 7', 'Ward 2',\n",
      "       'Ward 3'],\n",
      "      dtype='object', name='MAR_WARD')\n",
      "[188 154 150 133 125  92  50  31]\n"
     ]
    }
   ],
   "source": [
    "names = ward_counts.index\n",
    "counts = ward_counts.values\n",
    "\n",
    "print(names)\n",
    "print(counts)"
   ]
  },
  {
   "cell_type": "code",
   "execution_count": 10,
   "id": "b3b2b866-8e1e-4cf0-8c81-e093fb65dba4",
   "metadata": {},
   "outputs": [],
   "source": [
    "# Can we make the names simpler?\n",
    "\n",
    "# This is a \"list comprehension.\" It's a mini for loop.\n",
    "# names = [name.split()[1] for name in names]\n",
    "# names"
   ]
  },
  {
   "cell_type": "code",
   "execution_count": 11,
   "id": "525640e6-2700-49bd-a0a3-8ac042e4c6fa",
   "metadata": {},
   "outputs": [
    {
     "data": {
      "image/png": "[encoded data removed]",
      "text/plain": [
       "<Figure size 640x480 with 1 Axes>"
      ]
     },
     "metadata": {},
     "output_type": "display_data"
    }
   ],
   "source": [
    "# Define the figure object (like a piece of paper)\n",
    "fig = plt.figure()\n",
    "# Define an axis within the figure (coordinate space) \n",
    "ax = fig.add_subplot(111) # an axis on a 1x1 grid in first position\n",
    "# Draw a bar chart within the axis\n",
    "ax.bar(names, counts)\n",
    "\n",
    "# # Customize the plot\n",
    "# # Remove frames on right and top\n",
    "# ax.spines['right'].set_visible(False)\n",
    "# ax.spines['top'].set_visible(False)\n",
    "# # Define fonts\n",
    "# font = {'fontname': 'Arial'}\n",
    "# title_font = {**font, **{'fontweight':'bold'}} # {**dict1, **dict2} combines two dictionaries\n",
    "# # Set font for ticks\n",
    "# plt.yticks(**font) # **dict in a function call expands the dictionary keys into keyword arguments\n",
    "# plt.xticks(**font)\n",
    "# # Set title and axis labels\n",
    "# plt.title('Projects by Ward', title_font)\n",
    "# plt.xlabel('Ward', title_font) \n",
    "# plt.ylabel('Projects', title_font)\n",
    "\n",
    "# Show the completed plot\n",
    "plt.show()"
   ]
  },
  {
   "cell_type": "markdown",
   "id": "f716699c-0bec-4c6a-adb1-394477fa58ee",
   "metadata": {},
   "source": [
    "## Pandas `plot` method"
   ]
  },
  {
   "cell_type": "code",
   "execution_count": 12,
   "id": "597c8851-db9d-4786-941f-3abea6dd383a",
   "metadata": {},
   "outputs": [
    {
     "data": {
      "text/plain": [
       "MAR_WARD\n",
       "Ward 5    188\n",
       "Ward 4    154\n",
       "Ward 6    150\n",
       "Ward 8    133\n",
       "Ward 1    125\n",
       "Ward 7     92\n",
       "Ward 2     50\n",
       "Ward 3     31\n",
       "Name: count, dtype: int64"
      ]
     },
     "execution_count": 12,
     "metadata": {},
     "output_type": "execute_result"
    }
   ],
   "source": [
    "ward_counts"
   ]
  },
  {
   "cell_type": "code",
   "execution_count": 13,
   "id": "43cc4594-6213-4af6-8a62-5cf554d24fa0",
   "metadata": {},
   "outputs": [
    {
     "data": {
      "image/png": "[encoded data removed]",
      "text/plain": [
       "<Figure size 640x480 with 1 Axes>"
      ]
     },
     "metadata": {},
     "output_type": "display_data"
    }
   ],
   "source": [
    "# Plotting a series\n",
    "ax = ward_counts.plot.bar()\n",
    "\n",
    "# You can still customize with Matplotlib\n",
    "# ax.spines['right'].set_visible(False)\n",
    "# ax.spines['top'].set_visible(False)\n",
    "\n",
    "plt.show() # This just avoids a text output"
   ]
  },
  {
   "cell_type": "markdown",
   "id": "9d421e66-3bd4-45f5-992d-f6de23d3fe25",
   "metadata": {},
   "source": [
    "## [Seaborn](https://seaborn.pydata.org/)\n",
    "\n",
    "Seaborn is the most common Python package for (marginally) better plotting in ways that are similar to the popular ggplot package in R. \n",
    "\n",
    "It has some great default styles and some additional methods for customization.\n",
    "\n",
    "[Examples](https://seaborn.pydata.org/examples/index.html)"
   ]
  },
  {
   "cell_type": "code",
   "execution_count": 14,
   "id": "c612d550-ad97-4140-a30e-004c15a9a2d2",
   "metadata": {},
   "outputs": [],
   "source": [
    "import seaborn as sns\n",
    "sns.set_style('ticks') # Set a default style for this Python session"
   ]
  },
  {
   "cell_type": "markdown",
   "id": "9d8cf640-c6de-4bef-9e52-0058e47f2faa",
   "metadata": {},
   "source": [
    "Let's use Seaborn's [`countplot` function](https://seaborn.pydata.org/generated/seaborn.countplot.html) to plot the number of projects in each ward."
   ]
  },
  {
   "cell_type": "code",
   "execution_count": 15,
   "id": "d152151a-317e-439c-b392-1d12538eb842",
   "metadata": {},
   "outputs": [
    {
     "data": {
      "image/png": "[encoded data removed]",
      "text/plain": [
       "<Figure size 640x480 with 1 Axes>"
      ]
     },
     "metadata": {},
     "output_type": "display_data"
    }
   ],
   "source": [
    "sns.countplot(df, x='MAR_WARD', order=df['MAR_WARD'].value_counts().index)\n",
    "sns.despine()"
   ]
  },
  {
   "cell_type": "markdown",
   "id": "a33a7701-854c-459a-a625-bb03a57ebbc4",
   "metadata": {},
   "source": [
    "Let's use the `set` method on the axis to clean up the labels."
   ]
  },
  {
   "cell_type": "code",
   "execution_count": 16,
   "id": "c09c36e8-cd4b-48d4-bd70-07f64f472c33",
   "metadata": {},
   "outputs": [
    {
     "data": {
      "image/png": "[encoded data removed]",
      "text/plain": [
       "<Figure size 640x480 with 1 Axes>"
      ]
     },
     "metadata": {},
     "output_type": "display_data"
    }
   ],
   "source": [
    "sns.countplot(df, x='MAR_WARD', order=df['MAR_WARD'].value_counts().index)\n",
    "ax.set(\n",
    "    xlabel=None, \n",
    "    ylabel='Average Affordable Units per Project'\n",
    ")\n",
    "sns.despine()"
   ]
  },
  {
   "cell_type": "markdown",
   "id": "a329bfa1-5a3a-4f55-a33d-7abece16cea4",
   "metadata": {},
   "source": [
    "Now let's flex Seaborn's muscles with a more complex plot that groups and aggregates by category, and also gives us some statistical inference with error bars.\n",
    "\n",
    "We'll use the [`barplot` function](https://seaborn.pydata.org/generated/seaborn.barplot.html) to compare the average number of affordable units with each status in each ward.\n",
    "\n",
    "Is this plot too busy? How could we simplify it visually?"
   ]
  },
  {
   "cell_type": "code",
   "execution_count": 17,
   "id": "21cb2207-fd1a-4e8b-9c43-556dc4234956",
   "metadata": {},
   "outputs": [
    {
     "data": {
      "image/png": "[encoded data removed]",
      "text/plain": [
       "<Figure size 640x480 with 1 Axes>"
      ]
     },
     "metadata": {},
     "output_type": "display_data"
    }
   ],
   "source": [
    "fig = plt.figure() # Not entirely necessary, but helpful for ensuring you're starting with a blank canvas\n",
    "ax = sns.barplot(df, x='MAR_WARD', y='TOTAL_AFFORDABLE_UNITS', hue=\"STATUS_PUBLIC\")\n",
    "ax.set(\n",
    "    xlabel=None, \n",
    "    ylabel='Average Affordable Units per Project'\n",
    ")\n",
    "plt.legend(title=None, frameon=False)\n",
    "sns.despine()"
   ]
  },
  {
   "cell_type": "markdown",
   "id": "9f7ce076-c50e-407c-b959-f678866068e4",
   "metadata": {},
   "source": [
    "And, of course, we can tidy up our code by writing a custom plot function."
   ]
  },
  {
   "cell_type": "code",
   "execution_count": 18,
   "id": "55898354-e791-407f-ab6a-17faaae36052",
   "metadata": {},
   "outputs": [
    {
     "data": {
      "image/png": "[encoded data removed]",
      "text/plain": [
       "<Figure size 640x480 with 1 Axes>"
      ]
     },
     "metadata": {},
     "output_type": "display_data"
    }
   ],
   "source": [
    "def plot_average_affordable_units_by_status(df):\n",
    "    fig = plt.figure()\n",
    "    ax = sns.barplot(df, x='MAR_WARD', y='TOTAL_AFFORDABLE_UNITS', hue=\"STATUS_PUBLIC\")\n",
    "    ax.set(\n",
    "        xlabel=None, \n",
    "        ylabel='Average Affordable Units per Project'\n",
    "    )\n",
    "    plt.legend(title=None, frameon=False)\n",
    "    sns.despine()\n",
    "    return fig\n",
    "\n",
    "fig = plot_average_affordable_units_by_status(df)"
   ]
  },
  {
   "cell_type": "markdown",
   "id": "c878814d-2108-415a-b1c0-20f7ebfafbe6",
   "metadata": {},
   "source": [
    "## Exporting to Illustrator\n",
    "\n",
    "Sometimes, it's just plain easier to clean up and further customize a messy plot in Illustrator. For this, export to EPS, a vector graphic format."
   ]
  },
  {
   "cell_type": "code",
   "execution_count": 19,
   "id": "78c936ad-1202-4f19-8a08-e8f6e5dc28c2",
   "metadata": {},
   "outputs": [
    {
     "data": {
      "image/png": "[encoded data removed]",
      "text/plain": [
       "<Figure size 640x480 with 1 Axes>"
      ]
     },
     "execution_count": 19,
     "metadata": {},
     "output_type": "execute_result"
    }
   ],
   "source": [
    "# Let's check what's stored in the `fig` variable\n",
    "fig"
   ]
  },
  {
   "cell_type": "code",
   "execution_count": 20,
   "id": "0c46c6bc-8570-436f-ba7b-127e570b1505",
   "metadata": {},
   "outputs": [],
   "source": [
    "fig.savefig('affordable_housing_units_per_ward.png', format='png')"
   ]
  },
  {
   "cell_type": "code",
   "execution_count": 21,
   "id": "3590de3f-de94-4e35-94a6-157875d458bd",
   "metadata": {},
   "outputs": [],
   "source": [
    "fig.savefig('affordable_housing_units_per_ward.eps', format='eps')"
   ]
  }
 ],
 "metadata": {
  "kernelspec": {
   "display_name": "Python 3 (ipykernel)",
   "language": "python",
   "name": "python3"
  },
  "language_info": {
   "codemirror_mode": {
    "name": "ipython",
    "version": 3
   },
   "file_extension": ".py",
   "mimetype": "text/x-python",
   "name": "python",
   "nbconvert_exporter": "python",
   "pygments_lexer": "ipython3",
   "version": "3.13.1"
  }
 },
 "nbformat": 4,
 "nbformat_minor": 5
}
