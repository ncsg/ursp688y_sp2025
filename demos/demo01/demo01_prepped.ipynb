{
 "cells": [
  {
   "cell_type": "markdown",
   "id": "13b62af4-9c03-46d7-805c-cebadd28185e",
   "metadata": {
    "editable": true,
    "slideshow": {
     "slide_type": ""
    },
    "tags": []
   },
   "source": [
    "Urban Data Science & Smart Cities <br>\n",
    "URSP688Y Spring 2025<br>\n",
    "Instructor: Chester Harvey <br>\n",
    "Urban Studies & Planning <br>\n",
    "National Center for Smart Growth <br>\n",
    "University of Maryland"
   ]
  },
  {
   "attachments": {},
   "cell_type": "markdown",
   "id": "b7d7937e-5289-44bb-ac8b-1e0b03a74e0b",
   "metadata": {},
   "source": [
    "# Demo 1 - Programming fundamentals\n",
    "\n",
    "- Pseudocode\n",
    "- Notebooks\n",
    "- Intro to programming (with Python)\n",
    "    - Why Python?\n",
    "    - Variables\n",
    "    - Syntax vs. style\n",
    "    - Basic data types\n",
    "    - Conditions and loops\n",
    "    - Errors and debugging"
   ]
  },
  {
   "cell_type": "markdown",
   "id": "c03e2ff0-f5d0-4c43-9e9d-24c06259a5f1",
   "metadata": {},
   "source": [
    "## Pseudocode\n",
    "\n",
    "You can hash out programming logic without even writing code.\n",
    "\n",
    "In fact, it's a great idea to start with pseudocode.\n",
    "\n",
    "That way you can think big-picture without getting distracted by the intricacies of syntax or availability of pre-existing components."
   ]
  },
  {
   "cell_type": "code",
   "execution_count": 5,
   "id": "30dae4af-b689-4864-97d3-b3c866ac0f8d",
   "metadata": {},
   "outputs": [],
   "source": [
    "# Pseudocode for making grilled cheese sandwiches with two different approaches\n",
    "\n",
    "# HIGHER-LEVEL Option A (one-at-a-time style)\n",
    "# ============\n",
    "# Count people\n",
    "# Cook a sandwich for each person\n",
    "\n",
    "# HIGHER-LEVEL Option B (batch style)\n",
    "# ============\n",
    "# Count people\n",
    "# Do assembly step 1 for all sandwiches at once\n",
    "# Do assembly step 1 for all sandwiches at once\n",
    "# ....\n",
    "# Do assembly step n for all sandwiches at once\n",
    "# Cook all sandwiches\n",
    "\n",
    "# LOWER-LEVEL based on Option B\n",
    "# =============\n",
    "# Make a list of who wants a sandwich\n",
    "# Count the number of names on the list\n",
    "# Get out a griddle large enough to fit that many sandwiches; preheat the griddle\n",
    "# Get out bread slices for that number of people x 2\n",
    "# Figure out how many cheese slices you need per sandwich\n",
    "# Cut the number of cheese slices per sandwich times the number of people\n",
    "# Butter one side of each bread slice\n",
    "# Group bread slices into pairs\n",
    "# Assemble each pair into a sandwich with cheese between two bread slices with butter facing out\n",
    "# Put all sandwiches on the hot griddle; wait 4 minutes\n",
    "# Flip all sandwiches"
   ]
  },
  {
   "cell_type": "markdown",
   "id": "b579a71c-160a-4270-aa22-363a76522b09",
   "metadata": {},
   "source": [
    "## Notebooks\n",
    "  - An easy-to-use interface for basic coding\n",
    "  - \"Interactive\"\n",
    "    - This means that you can run code in small blocks and see the output immediately\n",
    "    - Facilitates iterative coding, where you try something, see if it works, change it, and try again\n",
    "  - Good for documenting and sharing your work\n",
    "    - Mix code blocks with text blocks (in [Markdown](https://www.markdownguide.org/basic-syntax/))\n",
    "    - Easily shareable with others on a team\n",
    "  - Runnable in the cloud\n",
    "    - You can run notebooks in the cloud with [Google CoLab](https://colab.research.google.com/).\n",
    "    - Just replace `https://github.com` with `https://colab.research.google.com/github` in the path for any notebook stored a GitHub repo in CoLab.\n",
    "        - For example, to open `https://github.com/ncsg/ursp688y_sp2025/blob/main/demos/demo01/demo01.ipynb`, go to [`https://colab.research.google.com/github/ncsg/ursp688y_sp2025/blob/main/demos/demo01/demo01.ipynb`](https://colab.research.google.com/github/ncsg/ursp688y_sp2025/blob/main/demos/demo01/demo01.ipynb)\n",
    "    - CoLab notebooks are very limited. It's hard to:\n",
    "      - Connect to data files\n",
    "      - Commit code to GitHub\n",
    "      - Run code that needs more than mimimal computing resources\n",
    "    - CoLab is great for experimentation and demonstration, but bad for building code and conducting analyses.\n",
    "  - Running Python and Jupyter directly on your computer offers far more capability and makes it easier to work with GitHub.\n",
    "    - We'll be installing these next week.\n",
    "\n",
    "[Keyboard shortcuts](https://towardsdatascience.com/jypyter-notebook-shortcuts-bf0101a98330)"
   ]
  },
  {
   "cell_type": "markdown",
   "id": "cc8dad58-aa68-4bd7-808f-ef634288eaa3",
   "metadata": {},
   "source": [
    "### Everything is in cells. There are two major types of cells:\n",
    "- `Text`: for writing notes (In JupyterLab, this is called a `Markdown` cell)\n",
    "- `Code`: for writing code\n",
    "\n",
    "*NOTE*: In JupyterLab there are also 'Raw' cells, which we're not going to get into. They're more flexible, but rarely used in practice.\n",
    "\n",
    "### To run a cell:\n",
    "- Press the play button\n",
    "- Keyboard shortcuts:\n",
    "    - Run and stay on the current cell:  `Ctrl (Command) + Enter (Return)`\n",
    "    - Run and move to the next cell:     `Shift + Enter (Return)`"
   ]
  },
  {
   "cell_type": "markdown",
   "id": "b9512900-978d-4325-965d-71ccef4dc18e",
   "metadata": {},
   "source": [
    "Here's a markdown cell. You can **bold**, _italicize_, both _**both**_!\n",
    "\n",
    "To edit a markdown cell, double click on it.\n",
    "\n",
    "[Here's a cheat sheet for markdown styling.](https://www.kaggle.com/code/cuecacuela/the-ultimate-markdown-cheat-sheet)"
   ]
  },
  {
   "cell_type": "code",
   "execution_count": 1,
   "id": "25b381c6-5b06-41a4-81a0-fad7bd1de50e",
   "metadata": {},
   "outputs": [
    {
     "name": "stdout",
     "output_type": "stream",
     "text": [
      "Hello world\n",
      "2\n"
     ]
    }
   ],
   "source": [
    "# Here's a code cell. Try executing it and see what happens.\n",
    "\n",
    "print('Hello world')\n",
    "print(1 + 1)"
   ]
  },
  {
   "cell_type": "markdown",
   "id": "be832636-8e75-4aa0-bea7-30c39a867406",
   "metadata": {},
   "source": [
    "### To make a new cell:\n",
    "- In Colab: Press the `+ Code` or `+ Text` button\n",
    "- In JupyterLab: Press the `+` button"
   ]
  },
  {
   "cell_type": "markdown",
   "id": "cca5ec78-6507-429b-a9aa-ac0a9e7051b3",
   "metadata": {},
   "source": [
    "### To delete a cell:\n",
    "- Click the trash botton"
   ]
  },
  {
   "cell_type": "markdown",
   "id": "326d46ad-dd87-4938-9f1b-f939bac82df7",
   "metadata": {},
   "source": [
    "### Cell order\n",
    "When you run a cell, you're running code in an order. If your cell relies on something from a previous cell, you have to run that cell first. What's important is the order you *run* a cell, not their order in the notebook.\n",
    "\n",
    "*NOTE*: This is a key exception to the idea that code runs from top to bottom, which we'll talk about soon."
   ]
  },
  {
   "cell_type": "code",
   "execution_count": 2,
   "id": "9f53c6df-fe2e-4a4f-b8b8-143bd269ae20",
   "metadata": {},
   "outputs": [
    {
     "ename": "NameError",
     "evalue": "name 'favorite_color' is not defined",
     "output_type": "error",
     "traceback": [
      "\u001b[0;31m---------------------------------------------------------------------------\u001b[0m",
      "\u001b[0;31mNameError\u001b[0m                                 Traceback (most recent call last)",
      "Cell \u001b[0;32mIn[2], line 1\u001b[0m\n\u001b[0;32m----> 1\u001b[0m \u001b[38;5;28mprint\u001b[39m(\u001b[43mfavorite_color\u001b[49m)\n",
      "\u001b[0;31mNameError\u001b[0m: name 'favorite_color' is not defined"
     ]
    }
   ],
   "source": [
    "print(favorite_color)"
   ]
  },
  {
   "cell_type": "code",
   "execution_count": 3,
   "id": "3049b459-b663-48a8-8862-56edb926c6b9",
   "metadata": {},
   "outputs": [],
   "source": [
    "favorite_color = 'blue'"
   ]
  },
  {
   "cell_type": "markdown",
   "id": "bd42f0df-f9d8-453f-8aaf-c3af485ba436",
   "metadata": {},
   "source": [
    "For simplicity, it's good practice to keep cells in the order they should be run. You can move them with the little up and down arrows on the right."
   ]
  },
  {
   "cell_type": "markdown",
   "id": "66b92b9f-6395-460a-b954-8fe894e68be9",
   "metadata": {},
   "source": [
    "## Intro to Python Programming\n",
    "\n",
    "### Python is:  \n",
    "  - A scripting language\n",
    "    - *fairly* human-readable (not just 0s and 1s)\n",
    "  - Used for a wide range of applications\n",
    "    - Scientific programming (R is also a popular scientific language, but not nearly as widely used for production software)\n",
    "    - Production software development\n",
    "  - Open source\n",
    "    - Free to use and adapt for your own purposes\n",
    "  - *Very* large support community\n",
    "    - Google is your best friend\n",
    "  - Highly extensible\n",
    "    - Many freely-available packages with pre-built tools\n",
    "    - You can modify existing packages\n",
    "    - You can write your own custom package\n",
    "  - Multi-platform\n",
    "    - Run on a Mac, PC, Linux, Unix, in the cloud, etc."
   ]
  },
  {
   "cell_type": "markdown",
   "id": "cb74b16b-e7c2-4ce6-bf5f-c7bbab2b4593",
   "metadata": {},
   "source": [
    "<big><big><big><big>NOTE: We are going to spend some extra time on programming fundamentals.</big></big></big></big>\n",
    "\n",
    "Many data science classes skip the basics and head straight for tabular analysis and machine learning.\n",
    "\n",
    "However, learning basic programming will make you a better programmer, scientist, and, dare I say, *thinker*. It is often more:\n",
    "- Efficient\n",
    "- Flexible\n",
    "- Reliable\n",
    "- Transferable"
   ]
  },
  {
   "cell_type": "markdown",
   "id": "88b595f8-edac-46a6-9bc5-9411932abf76",
   "metadata": {},
   "source": [
    "### Syntax\n",
    "\n",
    "How code is written as a language that is understandable by a computer.\n",
    "\n",
    "Code has to follow grammatical rules, just like any language. \n",
    "\n",
    "### Some basic syntax\n",
    "- Variable assignment\n",
    "- Operators\n",
    "- Statements\n",
    "- Indentation\n",
    "- Comments\n",
    "\n",
    "### Style\n",
    "\n",
    "Some aspects of how code is written don't change how a computer interprets it, but do make it easier or harder for a human to understand.\n",
    "\n",
    "- *Syntax*: will my code run (be readable by the computer)?\n",
    "- *Style*: will my code be easily readable by a human (including myself!)?"
   ]
  },
  {
   "cell_type": "markdown",
   "id": "ad256429-3d92-47fd-9021-ddbdc20378e3",
   "metadata": {},
   "source": [
    "#### Variables\n",
    "\n",
    "- Name-based storage containers\n",
    "- Can be easily recalled\n",
    "- Can usually be updated\n",
    "\n",
    "Variable names are completely arbitrary. They can be any combination of letters and numbers. BUT, there can't be any spaces and they can't start with a numeral."
   ]
  },
  {
   "cell_type": "code",
   "execution_count": 4,
   "id": "3e11e1b5-f765-4a00-aacb-547871596b4a",
   "metadata": {},
   "outputs": [
    {
     "name": "stdout",
     "output_type": "stream",
     "text": [
      "Chester\n"
     ]
    }
   ],
   "source": [
    "name = 'Chester'\n",
    "print(name)"
   ]
  },
  {
   "cell_type": "code",
   "execution_count": 5,
   "id": "3d61ca38-6ea8-4d3a-800b-0b50d4b01fe9",
   "metadata": {},
   "outputs": [],
   "source": [
    "day = 'Monday'"
   ]
  },
  {
   "cell_type": "markdown",
   "id": "47f0a61a-2b7f-41e4-832b-0c4438ec5409",
   "metadata": {},
   "source": [
    "The abstraction of variables is useful for changing inputs to make new outputs."
   ]
  },
  {
   "cell_type": "code",
   "execution_count": 6,
   "id": "3f86da41-2721-415e-b2fa-b0140670e588",
   "metadata": {},
   "outputs": [
    {
     "name": "stdout",
     "output_type": "stream",
     "text": [
      "The day of the week is Monday\n"
     ]
    }
   ],
   "source": [
    "calendar_text = f'The day of the week is {day}'\n",
    "print(calendar_text)"
   ]
  },
  {
   "cell_type": "code",
   "execution_count": 7,
   "id": "d456cef1-ffdd-473d-8eed-2c759090aab9",
   "metadata": {},
   "outputs": [
    {
     "name": "stdout",
     "output_type": "stream",
     "text": [
      "The day of the week is Monday\n"
     ]
    }
   ],
   "source": [
    "day = 'Thursday'\n",
    "print(calendar_text)"
   ]
  },
  {
   "cell_type": "markdown",
   "id": "152b1a7f-c8cb-4dc2-86d8-5d934f403af0",
   "metadata": {},
   "source": [
    "What's wrong with this code?"
   ]
  },
  {
   "cell_type": "code",
   "execution_count": 8,
   "id": "7294ed7a-b14b-49d2-bac6-538c69108a7f",
   "metadata": {},
   "outputs": [
    {
     "ename": "SyntaxError",
     "evalue": "invalid decimal literal (3013576040.py, line 1)",
     "output_type": "error",
     "traceback": [
      "\u001b[0;36m  Cell \u001b[0;32mIn[8], line 1\u001b[0;36m\u001b[0m\n\u001b[0;31m    1st_day_of_the_week = 'Monday'\u001b[0m\n\u001b[0m    ^\u001b[0m\n\u001b[0;31mSyntaxError\u001b[0m\u001b[0;31m:\u001b[0m invalid decimal literal\n"
     ]
    }
   ],
   "source": [
    "1st_day_of_the_week = 'Monday'"
   ]
  },
  {
   "cell_type": "markdown",
   "id": "bc649bb8-61db-4066-8587-7a79a72e631a",
   "metadata": {},
   "source": [
    "#### Operators\n",
    "\n",
    "[Here's a complete list](https://www.tutorialspoint.com/python/python_basic_operators.htm)"
   ]
  },
  {
   "cell_type": "code",
   "execution_count": 9,
   "id": "010c49ae-693c-4423-bbbd-d3ee38eb8d33",
   "metadata": {},
   "outputs": [
    {
     "data": {
      "text/plain": [
       "1"
      ]
     },
     "execution_count": 9,
     "metadata": {},
     "output_type": "execute_result"
    }
   ],
   "source": [
    "# Arithmetic (returns a number)\n",
    "1 + 1\n",
    "1 - 1\n",
    "1 * 1\n",
    "1 / 1\n",
    "1**1 # exponent\n",
    "1 % 1 # modulus: remainder after division\n",
    "1//1 # floor division: decimals removed from quotient"
   ]
  },
  {
   "cell_type": "code",
   "execution_count": 10,
   "id": "904aba8c-9dc8-4ba4-abee-51bd9270fb9e",
   "metadata": {},
   "outputs": [
    {
     "data": {
      "text/plain": [
       "True"
      ]
     },
     "execution_count": 10,
     "metadata": {},
     "output_type": "execute_result"
    }
   ],
   "source": [
    "# Comparison (returns True or False)\n",
    "1 == 1 # equivalence\n",
    "1 != 1 # non-equivalence\n",
    "1 > 1\n",
    "1 >= 1"
   ]
  },
  {
   "cell_type": "code",
   "execution_count": 1,
   "id": "c05540e6-7cc4-404b-9fed-e8e2c0d7d23c",
   "metadata": {},
   "outputs": [
    {
     "data": {
      "text/plain": [
       "2"
      ]
     },
     "execution_count": 1,
     "metadata": {},
     "output_type": "execute_result"
    }
   ],
   "source": [
    "# Assignment\n",
    "x = 1\n",
    "x += 1\n",
    "x"
   ]
  },
  {
   "cell_type": "code",
   "execution_count": 12,
   "id": "6e06ef7c-342e-41e8-b1cb-27b32d1a2e8b",
   "metadata": {},
   "outputs": [
    {
     "data": {
      "text/plain": [
       "True"
      ]
     },
     "execution_count": 12,
     "metadata": {},
     "output_type": "execute_result"
    }
   ],
   "source": [
    "# Logical (inputs must be True or False; returns True or False)\n",
    "a = True\n",
    "b = False\n",
    "a and b\n",
    "a or b"
   ]
  },
  {
   "cell_type": "code",
   "execution_count": 13,
   "id": "21ba703b-6d5f-45cb-b3e0-c00542fd73f9",
   "metadata": {},
   "outputs": [
    {
     "data": {
      "text/plain": [
       "True"
      ]
     },
     "execution_count": 13,
     "metadata": {},
     "output_type": "execute_result"
    }
   ],
   "source": [
    "# Membership (returns True or False)\n",
    "'e' in 'Chester'"
   ]
  },
  {
   "cell_type": "markdown",
   "id": "5665880a-0883-42c1-b40a-b38908395eb5",
   "metadata": {},
   "source": [
    "#### Statements"
   ]
  },
  {
   "cell_type": "code",
   "execution_count": 14,
   "id": "96d4b3c8-5c85-4ba9-a093-785cd1e22f28",
   "metadata": {},
   "outputs": [
    {
     "data": {
      "text/plain": [
       "3"
      ]
     },
     "execution_count": 14,
     "metadata": {},
     "output_type": "execute_result"
    }
   ],
   "source": [
    "# A single unit of instruction, usually written on one line.\n",
    "# Statements are executed in order.\n",
    "a = 1\n",
    "a + 2"
   ]
  },
  {
   "cell_type": "markdown",
   "id": "55176a31-9035-4e51-976d-5ea2b48ba445",
   "metadata": {},
   "source": [
    "#### Comments\n",
    "\n",
    "Quickly comment or uncomment a line of code (or multiple selected lines) with `Ctrl (Command) + /`"
   ]
  },
  {
   "cell_type": "code",
   "execution_count": 16,
   "id": "b3013e3a-b34f-46ae-a555-3a4156549c2f",
   "metadata": {},
   "outputs": [],
   "source": [
    "# Super helpful for annotating your code, especially outside of notebooks, where you don't have text cells\n",
    "\n",
    "# They're also helpful for temporarily \"commenting out\" code you don't want to run, but don't want to delete\n",
    "# 1 + 1"
   ]
  },
  {
   "cell_type": "markdown",
   "id": "70c72dd2-448e-46c7-881f-b37f21282cfd",
   "metadata": {},
   "source": [
    "### Basic Data Types"
   ]
  },
  {
   "cell_type": "markdown",
   "id": "33b57f67-e6c4-4a1c-ac3a-95c7695012e8",
   "metadata": {},
   "source": [
    "#### String\n",
    "Text. Must be surrounded by either double (\") or single (') quotes"
   ]
  },
  {
   "cell_type": "code",
   "execution_count": 17,
   "id": "045bfe67-def4-4f85-afda-cd8245bf744f",
   "metadata": {},
   "outputs": [
    {
     "name": "stdout",
     "output_type": "stream",
     "text": [
      "<class 'str'>\n",
      "Chester\n"
     ]
    }
   ],
   "source": [
    "name = \"Chester\"\n",
    "print(type(name)) # This statement uses the type and print functions to show that example_string is, in fact, a string\n",
    "print(name) # This statement uses the print function to show the contents of example_string"
   ]
  },
  {
   "cell_type": "markdown",
   "id": "dec8be96-ed22-46c6-bc45-4c78d7100888",
   "metadata": {},
   "source": [
    "[F-strings](https://realpython.com/python-f-strings/) are a super handy syntax for building strings with variables."
   ]
  },
  {
   "cell_type": "code",
   "execution_count": 18,
   "id": "f922fc5b-00bd-4ca9-96af-f17ca056b76c",
   "metadata": {},
   "outputs": [
    {
     "data": {
      "text/plain": [
       "'My name is Chester'"
      ]
     },
     "execution_count": 18,
     "metadata": {},
     "output_type": "execute_result"
    }
   ],
   "source": [
    "f'My name is {name}'"
   ]
  },
  {
   "cell_type": "markdown",
   "id": "137c1252-9b98-48d5-b719-5de5c7b74a4b",
   "metadata": {},
   "source": [
    "#### Integer\n",
    "Number without decimal places"
   ]
  },
  {
   "cell_type": "code",
   "execution_count": 19,
   "id": "99276988-e30e-4aef-95f5-b10a81c5f0b2",
   "metadata": {},
   "outputs": [
    {
     "name": "stdout",
     "output_type": "stream",
     "text": [
      "<class 'int'>\n",
      "25\n"
     ]
    }
   ],
   "source": [
    "age = 25\n",
    "print(type(age))\n",
    "print(age)"
   ]
  },
  {
   "cell_type": "markdown",
   "id": "995b449e-0d5a-4b53-8df3-ecf294f8ac1b",
   "metadata": {},
   "source": [
    "#### Float\n",
    "Number with decimal places"
   ]
  },
  {
   "cell_type": "code",
   "execution_count": 20,
   "id": "0795703d-dd36-4438-8ea0-3de4520fa6a7",
   "metadata": {},
   "outputs": [
    {
     "name": "stdout",
     "output_type": "stream",
     "text": [
      "<class 'float'>\n",
      "5.95\n"
     ]
    }
   ],
   "source": [
    "height = 5.95\n",
    "print(type(height))\n",
    "print(height)"
   ]
  },
  {
   "cell_type": "markdown",
   "id": "de8e7847-bb11-4901-b906-c9fe6df2772a",
   "metadata": {},
   "source": [
    "#### Boolean\n",
    "True or False"
   ]
  },
  {
   "cell_type": "code",
   "execution_count": 21,
   "id": "caab6c9b-9d42-427d-b7ba-abece0a5d76b",
   "metadata": {},
   "outputs": [
    {
     "name": "stdout",
     "output_type": "stream",
     "text": [
      "<class 'bool'>\n",
      "False\n"
     ]
    }
   ],
   "source": [
    "private_jet = False\n",
    "print(type(private_jet))\n",
    "print(private_jet)"
   ]
  },
  {
   "cell_type": "markdown",
   "id": "434c21ee-37b9-488f-ab3a-2bb7ca5c58c7",
   "metadata": {},
   "source": [
    "---\n",
    "We made it this far in class on Week 1\n",
    "\n",
    "---"
   ]
  },
  {
   "cell_type": "markdown",
   "id": "1c418985-eb94-45c3-8790-f992b7f9621f",
   "metadata": {
    "jp-MarkdownHeadingCollapsed": true
   },
   "source": [
    "### Basic style guidelines for Python\n",
    "- At the very least, do *everything* consistently\n",
    "- One statement per line\n",
    "- Try to limit line length to 72 characters\n",
    "- Use four spaces to indent\n",
    "- Put spaces around operators (e.g., `1 + 1` or `day = 'Monday'`) (except in keyword function arguments)\n",
    "- Use blank lines intentionally and consistently\n",
    "- Use meaningful names\n",
    "- Name variables and functions with `lowercase_underscores`\n",
    "- Constants are often named in `ALL_CAPS_WITH_UNDERSCORES` (e.g., `C = 2.99792458e+8`)\n",
    "- Name custom classes with `CapWords`\n",
    "- In general, avoid spaces in folder and filenames used for programming\n",
    "\n",
    "See [Code Readability](https://github.com/ncsg/ursp688y_sp2024/blob/main/README.md#code-readability) on the syllabus. [CS61A](https://cs61a.org/articles/composition/) has an excellent composition guide. [PEP 8](https://peps.python.org/pep-0008/) is a standard Python style guide. [Google](https://google.github.io/styleguide/pyguide.html) publishes their internal Python style guide."
   ]
  },
  {
   "cell_type": "markdown",
   "id": "2c93b011-44ba-455d-89aa-b7a8f0ab8278",
   "metadata": {},
   "source": [
    "### Composite Data Types"
   ]
  },
  {
   "cell_type": "markdown",
   "id": "d1713c83-158a-444b-8fa3-64350bcdb6bd",
   "metadata": {},
   "source": [
    "#### List\n",
    "An ordered array of objects."
   ]
  },
  {
   "cell_type": "code",
   "execution_count": 22,
   "id": "d2b5d20b-a1ad-4678-912e-6031945d7c4e",
   "metadata": {},
   "outputs": [
    {
     "name": "stdout",
     "output_type": "stream",
     "text": [
      "<class 'list'>\n",
      "['milk', 'apple', 'celery', 'yogurt']\n"
     ]
    }
   ],
   "source": [
    "fridge_contents = ['milk','apple','celery','yogurt']\n",
    "print(type(fridge_contents))\n",
    "print(fridge_contents)"
   ]
  },
  {
   "cell_type": "code",
   "execution_count": 23,
   "id": "c0fb6686-a5dd-4cec-b0eb-617f86f70e02",
   "metadata": {},
   "outputs": [
    {
     "data": {
      "text/plain": [
       "['milk', 'apple', 'celery', 'yogurt', 'orange juice', 'leftovers']"
      ]
     },
     "execution_count": 23,
     "metadata": {},
     "output_type": "execute_result"
    }
   ],
   "source": [
    "# You can add lists together\n",
    "fridge_contents = fridge_contents + ['orange juice', 'leftovers']\n",
    "fridge_contents"
   ]
  },
  {
   "cell_type": "code",
   "execution_count": 24,
   "id": "07216695-3897-4d87-9869-debeaa4cf988",
   "metadata": {},
   "outputs": [
    {
     "data": {
      "text/plain": [
       "['milk', 'apple', 'celery', 'yogurt', 'orange juice', 'leftovers', 'cheese']"
      ]
     },
     "execution_count": 24,
     "metadata": {},
     "output_type": "execute_result"
    }
   ],
   "source": [
    "# Or append elements to a list\n",
    "fridge_contents.append('cheese')\n",
    "fridge_contents"
   ]
  },
  {
   "cell_type": "code",
   "execution_count": 25,
   "id": "cd699bbc-5407-474e-8181-4f9bc0c85a64",
   "metadata": {},
   "outputs": [
    {
     "data": {
      "text/plain": [
       "['milk', 'apple', 'celery', 'orange juice', 'leftovers', 'cheese']"
      ]
     },
     "execution_count": 25,
     "metadata": {},
     "output_type": "execute_result"
    }
   ],
   "source": [
    "# Or remove things\n",
    "fridge_contents.remove('yogurt')\n",
    "fridge_contents"
   ]
  },
  {
   "cell_type": "code",
   "execution_count": 26,
   "id": "a02b1fac-d0d0-45ad-8cb3-1170288a5652",
   "metadata": {},
   "outputs": [
    {
     "data": {
      "text/plain": [
       "'milk'"
      ]
     },
     "execution_count": 26,
     "metadata": {},
     "output_type": "execute_result"
    }
   ],
   "source": [
    "# You can look things up in a list by index number, starting with 0\n",
    "fridge_contents[0]"
   ]
  },
  {
   "cell_type": "code",
   "execution_count": 27,
   "id": "7e195a47-9cf8-4bc0-b219-27690c52fece",
   "metadata": {},
   "outputs": [
    {
     "data": {
      "text/plain": [
       "['milk', 'apple']"
      ]
     },
     "execution_count": 27,
     "metadata": {},
     "output_type": "execute_result"
    }
   ],
   "source": [
    "# Or get just a part of a list with \"indexing\"\n",
    "fridge_contents[:2]"
   ]
  },
  {
   "cell_type": "markdown",
   "id": "9c22560e-64ae-42d2-a18a-53d6fb1fa5f3",
   "metadata": {},
   "source": [
    "#### Dictionary\n",
    "\n",
    "Labeled data stored as key-value pairs.\n",
    "\n",
    "*Note*: Dictionaries used to be unordered, but as of Python 3.6 they technically maintain their order. Lists are still usually preferred when order matters. There's also something called an [ordered dictionary](https://realpython.com/python-ordereddict/), which makes it more explicit that you care about order and can make it easier to manage/change order."
   ]
  },
  {
   "cell_type": "code",
   "execution_count": 28,
   "id": "a4397468-f437-46bb-ba68-f88c3547fd85",
   "metadata": {},
   "outputs": [
    {
     "name": "stdout",
     "output_type": "stream",
     "text": [
      "<class 'dict'>\n",
      "{'basketball': 2, 'baseball': 1, 'skiing': 8, 'volleyball': 3}\n"
     ]
    }
   ],
   "source": [
    "goodness_at_sports = {\n",
    "    'basketball': 2,\n",
    "    'baseball': 1,\n",
    "    'skiing': 8,\n",
    "    'volleyball': 3,\n",
    "}\n",
    "print(type(goodness_at_sports))\n",
    "print(goodness_at_sports)"
   ]
  },
  {
   "cell_type": "code",
   "execution_count": 29,
   "id": "bbd92e3f-8953-4be4-9a21-51fcf7ec8119",
   "metadata": {},
   "outputs": [],
   "source": [
    "# You can add an entry to a dictionary\n",
    "goodness_at_sports['cornhole'] = 3"
   ]
  },
  {
   "cell_type": "code",
   "execution_count": 30,
   "id": "2f919b57-d88c-4545-b281-88c778d90ecd",
   "metadata": {},
   "outputs": [
    {
     "data": {
      "text/plain": [
       "1"
      ]
     },
     "execution_count": 30,
     "metadata": {},
     "output_type": "execute_result"
    }
   ],
   "source": [
    "# And remove one\n",
    "goodness_at_sports.pop('baseball')"
   ]
  },
  {
   "cell_type": "code",
   "execution_count": 31,
   "id": "01334be7-c7b9-4a88-8438-53c2ffabf17d",
   "metadata": {},
   "outputs": [
    {
     "data": {
      "text/plain": [
       "8"
      ]
     },
     "execution_count": 31,
     "metadata": {},
     "output_type": "execute_result"
    }
   ],
   "source": [
    "# And look up values based on keys\n",
    "goodness_at_sports['skiing']"
   ]
  },
  {
   "cell_type": "markdown",
   "id": "54cbb4e7-dffa-4423-af81-27b732556096",
   "metadata": {},
   "source": [
    "#### Indentation\n",
    "\n",
    "Python relies on indentation as a part of its syntax, so it's very important.\n",
    "\n",
    "Indents tell the code how statements are logically nested.\n",
    "\n",
    "Press `Tab` to indent, or `Shift + Tab` to unindent.\n",
    "\n",
    "Colab and JupyterLab will automatically insert four spaces per tab."
   ]
  },
  {
   "cell_type": "code",
   "execution_count": 15,
   "id": "82c4c6aa-1642-44b1-bb7b-2328b675a492",
   "metadata": {},
   "outputs": [
    {
     "name": "stdout",
     "output_type": "stream",
     "text": [
      "Five is greater than two!\n"
     ]
    }
   ],
   "source": [
    "if 5 > 2:\n",
    "    print('Five is greater than two!')"
   ]
  },
  {
   "cell_type": "markdown",
   "id": "6570799e-3bdb-4559-8e59-1096cb92d183",
   "metadata": {},
   "source": [
    "### Programming logic\n",
    "\n",
    "Now that we've got basic building blocks, we can *do* things with them.\n",
    "\n",
    "This requires programming logic: using logical statements to control the flow of our code in productive ways."
   ]
  },
  {
   "cell_type": "markdown",
   "id": "73701067-a752-4018-a048-2f81062ddd43",
   "metadata": {},
   "source": [
    "#### [Conditions](https://realpython.com/python-conditional-statements/)"
   ]
  },
  {
   "cell_type": "code",
   "execution_count": 32,
   "id": "b5b91f40-b9e0-4eb0-aca3-22fabacce04a",
   "metadata": {},
   "outputs": [
    {
     "name": "stdout",
     "output_type": "stream",
     "text": [
      "child\n"
     ]
    }
   ],
   "source": [
    "age = 10\n",
    "if age < 18:\n",
    "    print('child')\n",
    "else:\n",
    "    print('adult')\n",
    "\n",
    "# Can we add a third condition for teenager?"
   ]
  },
  {
   "cell_type": "markdown",
   "id": "9d0594b3-26a0-4df8-8965-00cf838cdf64",
   "metadata": {},
   "source": [
    "#### Loops\n",
    "\n",
    "Python has both [`for` loops](https://realpython.com/python-for-loop/) and [`while` loops](https://realpython.com/python-while-loop/).\n",
    "\n",
    "We're going to focus on `for` loops because they're most commonly used in data science. While loops are particularly handy in applications that respond to dynamic inputs from users or data streams."
   ]
  },
  {
   "cell_type": "code",
   "execution_count": 33,
   "id": "cc265766-0348-4bdb-8304-8f398ba96a82",
   "metadata": {},
   "outputs": [
    {
     "name": "stdout",
     "output_type": "stream",
     "text": [
      "child\n",
      "child\n",
      "adult\n",
      "adult\n",
      "adult\n"
     ]
    }
   ],
   "source": [
    "ages = [5, 10, 65, 81, 45]\n",
    "\n",
    "for age in ages:\n",
    "    if age < 18:\n",
    "        print('child')\n",
    "    else:\n",
    "        print('adult')"
   ]
  },
  {
   "cell_type": "code",
   "execution_count": 2,
   "id": "164f4793-8a43-4c79-9de7-d471d39d2e19",
   "metadata": {},
   "outputs": [
    {
     "name": "stdout",
     "output_type": "stream",
     "text": [
      "Daniela is a child\n",
      "Zoe is a child\n",
      "Rowen is an adult\n",
      "Jude is an adult\n",
      "Austin is an adult\n"
     ]
    }
   ],
   "source": [
    "people = {\n",
    "    'Daniela': 5, \n",
    "    'Zoe': 10,\n",
    "    'Rowen': 65,\n",
    "    'Jude': 81,\n",
    "    'Austin': 45,\n",
    "}\n",
    "\n",
    "for name, age in people.items():\n",
    "    if age < 18:\n",
    "        age_desc = 'a child'\n",
    "    else:\n",
    "        age_desc = 'an adult'\n",
    "    print(f'{name} is {age_desc}')"
   ]
  },
  {
   "cell_type": "markdown",
   "id": "89acaf1a-a772-4f22-bdd7-06e765bd1bb5",
   "metadata": {},
   "source": [
    "### Errors and debugging\n",
    "\n",
    "Errors are frustrating and inevitable. Even professional programmers probably spend most of their time debugging.\n",
    "\n",
    "Luckily, there are good tools and techniques for making debugging a little easier.\n",
    "\n",
    "Despite these, you will probably nearly tear your hair out with some frequency, especially as a beginner. It will get better with time.\n",
    "\n",
    "There are two types of errors in programming: logic and syntax. They both result in your program not achieving its goal, but the first may not be as easily detectable because the code may still run.\n",
    "\n",
    "#### Logic errors\n",
    "These are issues with how you have approached or executed your problem. If your code runs but produces nonsensical results, there is probably a logic error. However, your erroneous code might also produce logical but *wrong* results; you might never notice until the problem has rippled downstream. It's best to address this proactively by planning your code well so it's less likely to be illogical, and writing readable code that can be easily reviewed.\n",
    "\n",
    "Here's a logic error. Can you find it? (Hint: the issue is syntactical, but it's still a logic error because the code works without throwing an error.)"
   ]
  },
  {
   "cell_type": "code",
   "execution_count": 3,
   "id": "7ae245be-438c-4af0-88ff-4fbefd368015",
   "metadata": {},
   "outputs": [
    {
     "name": "stdout",
     "output_type": "stream",
     "text": [
      "Daniela is a child\n",
      "Zoe is a child\n",
      "Rowen is a child\n",
      "Jude is a child\n",
      "Austin is a child\n"
     ]
    }
   ],
   "source": [
    "for name, age in people.items():\n",
    "    if age < 18:\n",
    "        age_desc = 'a child'\n",
    "    else:\n",
    "        age_des = 'an adult'\n",
    "    print(f'{name} is {age_desc}')"
   ]
  },
  {
   "cell_type": "markdown",
   "id": "6c4200b2-2176-4329-9a12-68ff65efd852",
   "metadata": {},
   "source": [
    "#### Syntax errors\n",
    "These are more obvious because your code will simply fail. There are lots of tools for figuring out where and why.\n",
    "\n",
    "Error messages are usually the starting place for debugging a syntax error."
   ]
  },
  {
   "cell_type": "code",
   "execution_count": 4,
   "id": "1c4df4de-f47b-4f25-9074-4b0397cc5ea5",
   "metadata": {},
   "outputs": [
    {
     "ename": "ValueError",
     "evalue": "too many values to unpack (expected 2)",
     "output_type": "error",
     "traceback": [
      "\u001b[0;31m---------------------------------------------------------------------------\u001b[0m",
      "\u001b[0;31mValueError\u001b[0m                                Traceback (most recent call last)",
      "Cell \u001b[0;32mIn[4], line 1\u001b[0m\n\u001b[0;32m----> 1\u001b[0m \u001b[38;5;28;01mfor\u001b[39;00m name, age \u001b[38;5;129;01min\u001b[39;00m people:\n\u001b[1;32m      2\u001b[0m     \u001b[38;5;28;01mif\u001b[39;00m agete \u001b[38;5;241m<\u001b[39m \u001b[38;5;241m18\u001b[39m:\n\u001b[1;32m      3\u001b[0m         age_desc \u001b[38;5;241m=\u001b[39m \u001b[38;5;124m'\u001b[39m\u001b[38;5;124ma child\u001b[39m\u001b[38;5;124m'\u001b[39m\n",
      "\u001b[0;31mValueError\u001b[0m: too many values to unpack (expected 2)"
     ]
    }
   ],
   "source": [
    "for name, age in people:\n",
    "    if agete < 18:\n",
    "        age_desc = 'a child'\n",
    "    else:\n",
    "        age_desc = 'an adult'\n",
    "    print(f'{name} is {age_desc}')"
   ]
  },
  {
   "cell_type": "markdown",
   "id": "e62b2d21-45dd-41c0-824f-b4496e7d45dd",
   "metadata": {},
   "source": [
    "The error message tells us where the problem is located.\n",
    "\n",
    "Sometimes, it can be helpful to turn on line numbers.\n",
    "- In Colab: `Tools -> Settings -> Editor -> Show line numbers`\n",
    "- In JupyterLab: `View -> Show Line Numbers`\n",
    "\n",
    "The `ValueError` tells us that the issue is related to the value of a variable on this line, but it's still pretty vague.\n",
    "\n",
    "Time to start [Googling](https://www.google.com/).\n"
   ]
  }
 ],
 "metadata": {
  "kernelspec": {
   "display_name": "Python 3 (ipykernel)",
   "language": "python",
   "name": "python3"
  },
  "language_info": {
   "codemirror_mode": {
    "name": "ipython",
    "version": 3
   },
   "file_extension": ".py",
   "mimetype": "text/x-python",
   "name": "python",
   "nbconvert_exporter": "python",
   "pygments_lexer": "ipython3",
   "version": "3.13.1"
  }
 },
 "nbformat": 4,
 "nbformat_minor": 5
}
