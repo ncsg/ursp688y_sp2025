{
 "cells": [
  {
   "cell_type": "markdown",
   "id": "13b62af4-9c03-46d7-805c-cebadd28185e",
   "metadata": {
    "editable": true,
    "slideshow": {
     "slide_type": ""
    },
    "tags": []
   },
   "source": [
    "Urban Data Science & Smart Cities <br>\n",
    "URSP688Y Spring 2025<br>\n",
    "Instructor: Chester Harvey <br>\n",
    "Urban Studies & Planning <br>\n",
    "National Center for Smart Growth <br>\n",
    "University of Maryland"
   ]
  },
  {
   "attachments": {},
   "cell_type": "markdown",
   "id": "b7d7937e-5289-44bb-ac8b-1e0b03a74e0b",
   "metadata": {},
   "source": [
    "# Demo 4 - Loading and Joining Data From Files\n",
    "\n",
    "- Table gymnastics (a.k.a., data wrangling)\n",
    "    - Load data from a CSV\n",
    "    - Practice exploring the data\n",
    "    - Convert dates stored as strings to `datetime` data types\n",
    "    - Drop duplicate rows\n",
    "    - Count rows withing groups\n",
    "    - Concatenate tables\n",
    "    - Join columns from another table\n",
    "- Debugging"
   ]
  },
  {
   "cell_type": "code",
   "execution_count": 1,
   "id": "f208dcae-d230-4bf1-9cc2-4c936c70bd4e",
   "metadata": {},
   "outputs": [],
   "source": [
    "# Import packages\n",
    "import pandas as pd"
   ]
  },
  {
   "cell_type": "markdown",
   "id": "19473389-6158-4a83-bdef-d7a13bbb18e8",
   "metadata": {},
   "source": [
    "## Loading Data from a File\n",
    "\n",
    "Let's get our hands on some real-world data by loading a table from a file.\n",
    "\n",
    "Let's load data from the [Maryland Eviction Case Database](https://opendata.maryland.gov/Housing/District-Court-of-Maryland-Eviction-Case-Data/mvqb-b4hf/data).\n",
    "\n",
    "A CSV file that is stored in the same directory as our notebook can be opened by entering just the file name as an argument to `pd.read_csv`."
   ]
  },
  {
   "cell_type": "code",
   "execution_count": 2,
   "id": "caa4313e-cb9a-4850-9153-7ea0302eabec",
   "metadata": {},
   "outputs": [],
   "source": [
    "df = pd.read_csv('District_Court_of_Maryland_Eviction_Case_Data_MG_PG.csv')"
   ]
  },
  {
   "cell_type": "markdown",
   "id": "198c1733-0608-49f6-af3e-a41da2e7daf5",
   "metadata": {},
   "source": [
    "Let's practice navigating and doing some analysis with our DataFrame."
   ]
  },
  {
   "cell_type": "markdown",
   "id": "0f0b2ad7-ced8-4d8c-90b4-2620c5ae5e6c",
   "metadata": {},
   "source": [
    "Preview the dataframe"
   ]
  },
  {
   "cell_type": "code",
   "execution_count": 3,
   "id": "04f15f12-e99c-4a2d-8c34-e1680bf7eb64",
   "metadata": {},
   "outputs": [
    {
     "data": {
      "text/html": [
       "<div>\n",
       "<style scoped>\n",
       "    .dataframe tbody tr th:only-of-type {\n",
       "        vertical-align: middle;\n",
       "    }\n",
       "\n",
       "    .dataframe tbody tr th {\n",
       "        vertical-align: top;\n",
       "    }\n",
       "\n",
       "    .dataframe thead th {\n",
       "        text-align: right;\n",
       "    }\n",
       "</style>\n",
       "<table border=\"1\" class=\"dataframe\">\n",
       "  <thead>\n",
       "    <tr style=\"text-align: right;\">\n",
       "      <th></th>\n",
       "      <th>Unnamed: 0</th>\n",
       "      <th>Event Date</th>\n",
       "      <th>Event Type</th>\n",
       "      <th>Event Comment</th>\n",
       "      <th>County</th>\n",
       "      <th>Location</th>\n",
       "      <th>Tenant City</th>\n",
       "      <th>Tenant State</th>\n",
       "      <th>Tenant ZIP Code</th>\n",
       "      <th>Case Type</th>\n",
       "      <th>Case Number</th>\n",
       "      <th>Evicted Date</th>\n",
       "      <th>Event Year</th>\n",
       "      <th>Eviction Year</th>\n",
       "    </tr>\n",
       "  </thead>\n",
       "  <tbody>\n",
       "    <tr>\n",
       "      <th>0</th>\n",
       "      <td>0</td>\n",
       "      <td>01/03/2023</td>\n",
       "      <td>Warrant of Restitution - Return of Service - E...</td>\n",
       "      <td>NaN</td>\n",
       "      <td>Montgomery</td>\n",
       "      <td>Rockville</td>\n",
       "      <td>Silver Spring</td>\n",
       "      <td>MD</td>\n",
       "      <td>20910.0</td>\n",
       "      <td>Failure to Pay Rent</td>\n",
       "      <td>D-061-LT-22-004107</td>\n",
       "      <td>12/08/2022</td>\n",
       "      <td>2023.0</td>\n",
       "      <td>2022.0</td>\n",
       "    </tr>\n",
       "    <tr>\n",
       "      <th>1</th>\n",
       "      <td>1</td>\n",
       "      <td>01/03/2023</td>\n",
       "      <td>Warrant of Restitution - Return of Service - E...</td>\n",
       "      <td>NaN</td>\n",
       "      <td>Montgomery</td>\n",
       "      <td>Rockville</td>\n",
       "      <td>Silver Spring</td>\n",
       "      <td>MD</td>\n",
       "      <td>20910.0</td>\n",
       "      <td>Failure to Pay Rent</td>\n",
       "      <td>D-061-LT-22-000755</td>\n",
       "      <td>12/08/2022</td>\n",
       "      <td>2023.0</td>\n",
       "      <td>2022.0</td>\n",
       "    </tr>\n",
       "  </tbody>\n",
       "</table>\n",
       "</div>"
      ],
      "text/plain": [
       "   Unnamed: 0  Event Date                                         Event Type  \\\n",
       "0           0  01/03/2023  Warrant of Restitution - Return of Service - E...   \n",
       "1           1  01/03/2023  Warrant of Restitution - Return of Service - E...   \n",
       "\n",
       "  Event Comment      County   Location    Tenant City Tenant State  \\\n",
       "0           NaN  Montgomery  Rockville  Silver Spring           MD   \n",
       "1           NaN  Montgomery  Rockville  Silver Spring           MD   \n",
       "\n",
       "   Tenant ZIP Code            Case Type         Case Number Evicted Date  \\\n",
       "0          20910.0  Failure to Pay Rent  D-061-LT-22-004107   12/08/2022   \n",
       "1          20910.0  Failure to Pay Rent  D-061-LT-22-000755   12/08/2022   \n",
       "\n",
       "   Event Year  Eviction Year  \n",
       "0      2023.0         2022.0  \n",
       "1      2023.0         2022.0  "
      ]
     },
     "execution_count": 3,
     "metadata": {},
     "output_type": "execute_result"
    }
   ],
   "source": [
    "df.head(2)"
   ]
  },
  {
   "cell_type": "markdown",
   "id": "3bc96145-a1d8-4e94-bd5a-56d1dae42d84",
   "metadata": {},
   "source": [
    "How many rows does it have?"
   ]
  },
  {
   "cell_type": "code",
   "execution_count": 4,
   "id": "e5c3a812-c1f1-4112-8e0d-7162c84f7c99",
   "metadata": {},
   "outputs": [
    {
     "data": {
      "text/plain": [
       "96077"
      ]
     },
     "execution_count": 4,
     "metadata": {},
     "output_type": "execute_result"
    }
   ],
   "source": [
    "len(df)"
   ]
  },
  {
   "cell_type": "markdown",
   "id": "78e478ac-e043-4f2c-8cad-65e5b4811937",
   "metadata": {},
   "source": [
    "What columns does it have?"
   ]
  },
  {
   "cell_type": "code",
   "execution_count": 5,
   "id": "43875992-0d2d-4c62-9b72-944155bc183a",
   "metadata": {},
   "outputs": [
    {
     "data": {
      "text/plain": [
       "['Unnamed: 0',\n",
       " 'Event Date',\n",
       " 'Event Type',\n",
       " 'Event Comment',\n",
       " 'County',\n",
       " 'Location',\n",
       " 'Tenant City',\n",
       " 'Tenant State',\n",
       " 'Tenant ZIP Code',\n",
       " 'Case Type',\n",
       " 'Case Number',\n",
       " 'Evicted Date',\n",
       " 'Event Year',\n",
       " 'Eviction Year']"
      ]
     },
     "execution_count": 5,
     "metadata": {},
     "output_type": "execute_result"
    }
   ],
   "source": [
    "df.columns.tolist()"
   ]
  },
  {
   "cell_type": "markdown",
   "id": "51f74dd7-9789-4796-9920-105bd826935f",
   "metadata": {},
   "source": [
    "Which counties are represented?"
   ]
  },
  {
   "cell_type": "code",
   "execution_count": 6,
   "id": "23ca83e4-5c73-469d-93da-e48126cd5286",
   "metadata": {},
   "outputs": [
    {
     "data": {
      "text/plain": [
       "County\n",
       "Prince George's    67003\n",
       "Montgomery         29074\n",
       "Name: count, dtype: int64"
      ]
     },
     "execution_count": 6,
     "metadata": {},
     "output_type": "execute_result"
    }
   ],
   "source": [
    "df['County'].value_counts()"
   ]
  },
  {
   "cell_type": "markdown",
   "id": "da8848cd-9b2f-42c3-906d-32a491a61f34",
   "metadata": {},
   "source": [
    "What is the earlist date?\n",
    "\n",
    "Is this true?"
   ]
  },
  {
   "cell_type": "code",
   "execution_count": 7,
   "id": "d25ebc12-9be6-4fcf-9419-54371424bd48",
   "metadata": {},
   "outputs": [
    {
     "data": {
      "text/html": [
       "<div>\n",
       "<style scoped>\n",
       "    .dataframe tbody tr th:only-of-type {\n",
       "        vertical-align: middle;\n",
       "    }\n",
       "\n",
       "    .dataframe tbody tr th {\n",
       "        vertical-align: top;\n",
       "    }\n",
       "\n",
       "    .dataframe thead th {\n",
       "        text-align: right;\n",
       "    }\n",
       "</style>\n",
       "<table border=\"1\" class=\"dataframe\">\n",
       "  <thead>\n",
       "    <tr style=\"text-align: right;\">\n",
       "      <th></th>\n",
       "      <th>Unnamed: 0</th>\n",
       "      <th>Event Date</th>\n",
       "      <th>Event Type</th>\n",
       "      <th>Event Comment</th>\n",
       "      <th>County</th>\n",
       "      <th>Location</th>\n",
       "      <th>Tenant City</th>\n",
       "      <th>Tenant State</th>\n",
       "      <th>Tenant ZIP Code</th>\n",
       "      <th>Case Type</th>\n",
       "      <th>Case Number</th>\n",
       "      <th>Evicted Date</th>\n",
       "      <th>Event Year</th>\n",
       "      <th>Eviction Year</th>\n",
       "    </tr>\n",
       "  </thead>\n",
       "  <tbody>\n",
       "    <tr>\n",
       "      <th>37027</th>\n",
       "      <td>37027</td>\n",
       "      <td>01/01/2024</td>\n",
       "      <td>Warrant of Restitution - Return of Service - E...</td>\n",
       "      <td>NaN</td>\n",
       "      <td>Montgomery</td>\n",
       "      <td>Rockville</td>\n",
       "      <td>SILVER SPRING</td>\n",
       "      <td>MD</td>\n",
       "      <td>20910.0</td>\n",
       "      <td>Failure to Pay Rent</td>\n",
       "      <td>D-061-LT-23-018218</td>\n",
       "      <td>NaN</td>\n",
       "      <td>2024.0</td>\n",
       "      <td>NaN</td>\n",
       "    </tr>\n",
       "    <tr>\n",
       "      <th>37051</th>\n",
       "      <td>37051</td>\n",
       "      <td>01/01/2024</td>\n",
       "      <td>Warrant of Restitution - Return of Service - E...</td>\n",
       "      <td>NaN</td>\n",
       "      <td>Montgomery</td>\n",
       "      <td>Rockville</td>\n",
       "      <td>SILVER SPRING</td>\n",
       "      <td>MD</td>\n",
       "      <td>20910.0</td>\n",
       "      <td>Failure to Pay Rent</td>\n",
       "      <td>D-061-LT-23-015290</td>\n",
       "      <td>NaN</td>\n",
       "      <td>2024.0</td>\n",
       "      <td>NaN</td>\n",
       "    </tr>\n",
       "  </tbody>\n",
       "</table>\n",
       "</div>"
      ],
      "text/plain": [
       "       Unnamed: 0  Event Date  \\\n",
       "37027       37027  01/01/2024   \n",
       "37051       37051  01/01/2024   \n",
       "\n",
       "                                              Event Type Event Comment  \\\n",
       "37027  Warrant of Restitution - Return of Service - E...           NaN   \n",
       "37051  Warrant of Restitution - Return of Service - E...           NaN   \n",
       "\n",
       "           County   Location    Tenant City Tenant State  Tenant ZIP Code  \\\n",
       "37027  Montgomery  Rockville  SILVER SPRING           MD          20910.0   \n",
       "37051  Montgomery  Rockville  SILVER SPRING           MD          20910.0   \n",
       "\n",
       "                 Case Type         Case Number Evicted Date  Event Year  \\\n",
       "37027  Failure to Pay Rent  D-061-LT-23-018218          NaN      2024.0   \n",
       "37051  Failure to Pay Rent  D-061-LT-23-015290          NaN      2024.0   \n",
       "\n",
       "       Eviction Year  \n",
       "37027            NaN  \n",
       "37051            NaN  "
      ]
     },
     "execution_count": 7,
     "metadata": {},
     "output_type": "execute_result"
    }
   ],
   "source": [
    "df.sort_values('Event Date', ascending=True).head(2)"
   ]
  },
  {
   "cell_type": "markdown",
   "id": "b4d4bf2a-93c0-4ffe-8f9b-e2dc5f365372",
   "metadata": {},
   "source": [
    "Convert the event date column to a `datetime` data type"
   ]
  },
  {
   "cell_type": "code",
   "execution_count": 8,
   "id": "5a905cb6-0f4f-430e-92f4-c53d4b9cf407",
   "metadata": {},
   "outputs": [],
   "source": [
    "df['Event Date'] = pd.to_datetime(df['Event Date'])"
   ]
  },
  {
   "cell_type": "code",
   "execution_count": 9,
   "id": "b888af1e-4e7f-4a12-b0ab-f63c4ef11e97",
   "metadata": {},
   "outputs": [
    {
     "data": {
      "text/html": [
       "<div>\n",
       "<style scoped>\n",
       "    .dataframe tbody tr th:only-of-type {\n",
       "        vertical-align: middle;\n",
       "    }\n",
       "\n",
       "    .dataframe tbody tr th {\n",
       "        vertical-align: top;\n",
       "    }\n",
       "\n",
       "    .dataframe thead th {\n",
       "        text-align: right;\n",
       "    }\n",
       "</style>\n",
       "<table border=\"1\" class=\"dataframe\">\n",
       "  <thead>\n",
       "    <tr style=\"text-align: right;\">\n",
       "      <th></th>\n",
       "      <th>Unnamed: 0</th>\n",
       "      <th>Event Date</th>\n",
       "      <th>Event Type</th>\n",
       "      <th>Event Comment</th>\n",
       "      <th>County</th>\n",
       "      <th>Location</th>\n",
       "      <th>Tenant City</th>\n",
       "      <th>Tenant State</th>\n",
       "      <th>Tenant ZIP Code</th>\n",
       "      <th>Case Type</th>\n",
       "      <th>Case Number</th>\n",
       "      <th>Evicted Date</th>\n",
       "      <th>Event Year</th>\n",
       "      <th>Eviction Year</th>\n",
       "    </tr>\n",
       "  </thead>\n",
       "  <tbody>\n",
       "    <tr>\n",
       "      <th>0</th>\n",
       "      <td>0</td>\n",
       "      <td>2023-01-03</td>\n",
       "      <td>Warrant of Restitution - Return of Service - E...</td>\n",
       "      <td>NaN</td>\n",
       "      <td>Montgomery</td>\n",
       "      <td>Rockville</td>\n",
       "      <td>Silver Spring</td>\n",
       "      <td>MD</td>\n",
       "      <td>20910.0</td>\n",
       "      <td>Failure to Pay Rent</td>\n",
       "      <td>D-061-LT-22-004107</td>\n",
       "      <td>12/08/2022</td>\n",
       "      <td>2023.0</td>\n",
       "      <td>2022.0</td>\n",
       "    </tr>\n",
       "    <tr>\n",
       "      <th>20</th>\n",
       "      <td>20</td>\n",
       "      <td>2023-01-03</td>\n",
       "      <td>Warrant of Restitution - Return of Service - E...</td>\n",
       "      <td>NaN</td>\n",
       "      <td>Montgomery</td>\n",
       "      <td>Rockville</td>\n",
       "      <td>Silver Spring</td>\n",
       "      <td>MD</td>\n",
       "      <td>20901.0</td>\n",
       "      <td>Tenant Holding Over</td>\n",
       "      <td>D-06-CV-22-010697</td>\n",
       "      <td>09/26/2022</td>\n",
       "      <td>2023.0</td>\n",
       "      <td>2022.0</td>\n",
       "    </tr>\n",
       "  </tbody>\n",
       "</table>\n",
       "</div>"
      ],
      "text/plain": [
       "    Unnamed: 0 Event Date                                         Event Type  \\\n",
       "0            0 2023-01-03  Warrant of Restitution - Return of Service - E...   \n",
       "20          20 2023-01-03  Warrant of Restitution - Return of Service - E...   \n",
       "\n",
       "   Event Comment      County   Location    Tenant City Tenant State  \\\n",
       "0            NaN  Montgomery  Rockville  Silver Spring           MD   \n",
       "20           NaN  Montgomery  Rockville  Silver Spring           MD   \n",
       "\n",
       "    Tenant ZIP Code            Case Type         Case Number Evicted Date  \\\n",
       "0           20910.0  Failure to Pay Rent  D-061-LT-22-004107   12/08/2022   \n",
       "20          20901.0  Tenant Holding Over   D-06-CV-22-010697   09/26/2022   \n",
       "\n",
       "    Event Year  Eviction Year  \n",
       "0       2023.0         2022.0  \n",
       "20      2023.0         2022.0  "
      ]
     },
     "execution_count": 9,
     "metadata": {},
     "output_type": "execute_result"
    }
   ],
   "source": [
    "df.sort_values('Event Date', ascending=True).head(2)"
   ]
  },
  {
   "cell_type": "markdown",
   "id": "a1ec58f0-34ca-4ca5-bf81-e498ac0ab528",
   "metadata": {},
   "source": [
    "How many unique cases are there?"
   ]
  },
  {
   "cell_type": "code",
   "execution_count": 10,
   "id": "19165b15-9cdd-4df6-aabe-3eb524129a8e",
   "metadata": {},
   "outputs": [],
   "source": [
    "df_dedup = df.sort_values('Event Date', ascending=True).drop_duplicates(subset='Case Number', keep='first')"
   ]
  },
  {
   "cell_type": "code",
   "execution_count": 11,
   "id": "8347b011-b82d-4168-84fb-1e4a0a9e50e8",
   "metadata": {},
   "outputs": [
    {
     "data": {
      "text/plain": [
       "67230"
      ]
     },
     "execution_count": 11,
     "metadata": {},
     "output_type": "execute_result"
    }
   ],
   "source": [
    "len(df_dedup)"
   ]
  },
  {
   "cell_type": "markdown",
   "id": "bcdb5045-342b-41ca-89b4-9529a76acc01",
   "metadata": {},
   "source": [
    "How many unique cases per zip code?"
   ]
  },
  {
   "cell_type": "code",
   "execution_count": 12,
   "id": "739ef711-7417-4f09-8dcb-76f4813b1cdf",
   "metadata": {},
   "outputs": [
    {
     "data": {
      "text/plain": [
       "Tenant ZIP Code\n",
       "20746.0    5490\n",
       "20770.0    5013\n",
       "20747.0    4495\n",
       "20748.0    4001\n",
       "20708.0    3710\n",
       "           ... \n",
       "20474.0       1\n",
       "20447.0       1\n",
       "19802.0       1\n",
       "20151.0       1\n",
       "55403.0       1\n",
       "Name: Case Number, Length: 128, dtype: int64"
      ]
     },
     "execution_count": 12,
     "metadata": {},
     "output_type": "execute_result"
    }
   ],
   "source": [
    "# Count cases within each zip code\n",
    "cases_per_zip = df_dedup.groupby('Tenant ZIP Code')['Case Number'].count().sort_values(ascending=False)\n",
    "\n",
    "cases_per_zip"
   ]
  },
  {
   "cell_type": "code",
   "execution_count": 13,
   "id": "90c5589d-6476-4554-9a2b-3359eb120f79",
   "metadata": {},
   "outputs": [
    {
     "data": {
      "text/html": [
       "<div>\n",
       "<style scoped>\n",
       "    .dataframe tbody tr th:only-of-type {\n",
       "        vertical-align: middle;\n",
       "    }\n",
       "\n",
       "    .dataframe tbody tr th {\n",
       "        vertical-align: top;\n",
       "    }\n",
       "\n",
       "    .dataframe thead th {\n",
       "        text-align: right;\n",
       "    }\n",
       "</style>\n",
       "<table border=\"1\" class=\"dataframe\">\n",
       "  <thead>\n",
       "    <tr style=\"text-align: right;\">\n",
       "      <th></th>\n",
       "      <th>case_zip</th>\n",
       "      <th>case_count</th>\n",
       "    </tr>\n",
       "  </thead>\n",
       "  <tbody>\n",
       "    <tr>\n",
       "      <th>0</th>\n",
       "      <td>20746.0</td>\n",
       "      <td>5490</td>\n",
       "    </tr>\n",
       "    <tr>\n",
       "      <th>1</th>\n",
       "      <td>20770.0</td>\n",
       "      <td>5013</td>\n",
       "    </tr>\n",
       "    <tr>\n",
       "      <th>2</th>\n",
       "      <td>20747.0</td>\n",
       "      <td>4495</td>\n",
       "    </tr>\n",
       "    <tr>\n",
       "      <th>3</th>\n",
       "      <td>20748.0</td>\n",
       "      <td>4001</td>\n",
       "    </tr>\n",
       "    <tr>\n",
       "      <th>4</th>\n",
       "      <td>20708.0</td>\n",
       "      <td>3710</td>\n",
       "    </tr>\n",
       "  </tbody>\n",
       "</table>\n",
       "</div>"
      ],
      "text/plain": [
       "   case_zip  case_count\n",
       "0   20746.0        5490\n",
       "1   20770.0        5013\n",
       "2   20747.0        4495\n",
       "3   20748.0        4001\n",
       "4   20708.0        3710"
      ]
     },
     "execution_count": 13,
     "metadata": {},
     "output_type": "execute_result"
    }
   ],
   "source": [
    "# Convert results to a dataframe with a column for zip and a column for cases\n",
    "cases_per_zip = pd.DataFrame(cases_per_zip).reset_index()\n",
    "cases_per_zip = cases_per_zip.rename(columns={'Tenant ZIP Code':'case_zip','Case Number':'case_count'})\n",
    "\n",
    "cases_per_zip.head()"
   ]
  },
  {
   "cell_type": "markdown",
   "id": "f5035b0d-2000-4930-9953-067806a4d4e8",
   "metadata": {},
   "source": [
    "Which zip codes have the most unique cases per person?\n",
    "\n",
    "Let's join data from [CensusReporter](https://censusreporter.org/).\n",
    "\n",
    "### Combining/Merging/Joining Tables\n",
    "\n",
    "Combining information from multiple tables into a single table is one of the most useful data wrangling operations.\n",
    "\n",
    "There are lots of different ways to join tables, but two basic types are:\n",
    "\n",
    "1. Joining column with a shared key, which outputs a table that is wider than either input.\n",
    "2. Concatenating rows with shared column names, which outputs a table that is longer than either input.\n",
    "\n",
    "#### Joining columns based on a key\n",
    "\n",
    "![joining columns with a shared key](https://rforhr.com/horizontal_join.png)\n",
    "\n",
    "\n",
    "#### Concatenating rows with the same column names\n",
    "![joining rows with shared column names](https://rforhr.com/vertical_join.png)"
   ]
  },
  {
   "cell_type": "markdown",
   "id": "21a2e2d2-8595-4e0d-a59b-a61b5f54d300",
   "metadata": {},
   "source": [
    "First, let's concatenate census tables for Montgomery and Prince George's county to make a single table with populations for each zip code.\n",
    "\n",
    "Then, we'll merge counts of eviction cases onto each zip code.\n",
    "\n",
    "Finally, we'll calcuate the number of eviction cases per capita."
   ]
  },
  {
   "cell_type": "code",
   "execution_count": 14,
   "id": "0ff69373-c2cc-40f1-b0f1-3d7cf7f834b5",
   "metadata": {},
   "outputs": [],
   "source": [
    "# Load census reporter data, ignoring the row with data for the whole county (first row under the header)\n",
    "def load_census_reporter_csv(path, skiprows=[1]):\n",
    "    return pd.read_csv(path, skiprows=skiprows)\n",
    "\n",
    "df_pop_mg = load_census_reporter_csv('acs2023_5yr_B01003_mg.csv')\n",
    "df_pop_pg = load_census_reporter_csv('acs2023_5yr_B01003_pg.csv') "
   ]
  },
  {
   "cell_type": "code",
   "execution_count": 15,
   "id": "6699edbe-eee7-44db-adea-e660892b8073",
   "metadata": {},
   "outputs": [],
   "source": [
    "# Combine into a single dataframe\n",
    "df_pop = pd.concat([df_pop_mg, df_pop_pg], axis=0)"
   ]
  },
  {
   "cell_type": "code",
   "execution_count": 16,
   "id": "971936b6-0573-4ccc-8f85-c21bc9cd9ab0",
   "metadata": {},
   "outputs": [],
   "source": [
    "# Rename columns with readable names\n",
    "df_pop = df_pop.rename(columns={'name':'census_zip', 'B01003001':'population', 'B01003001, Error':'population_error'})"
   ]
  },
  {
   "cell_type": "code",
   "execution_count": 17,
   "id": "f65715c4-c2f5-4108-8c99-034cf284eeed",
   "metadata": {},
   "outputs": [
    {
     "data": {
      "text/html": [
       "<div>\n",
       "<style scoped>\n",
       "    .dataframe tbody tr th:only-of-type {\n",
       "        vertical-align: middle;\n",
       "    }\n",
       "\n",
       "    .dataframe tbody tr th {\n",
       "        vertical-align: top;\n",
       "    }\n",
       "\n",
       "    .dataframe thead th {\n",
       "        text-align: right;\n",
       "    }\n",
       "</style>\n",
       "<table border=\"1\" class=\"dataframe\">\n",
       "  <thead>\n",
       "    <tr style=\"text-align: right;\">\n",
       "      <th></th>\n",
       "      <th>geoid</th>\n",
       "      <th>census_zip</th>\n",
       "      <th>population</th>\n",
       "      <th>population_error</th>\n",
       "    </tr>\n",
       "  </thead>\n",
       "  <tbody>\n",
       "    <tr>\n",
       "      <th>0</th>\n",
       "      <td>86000US20705</td>\n",
       "      <td>20705</td>\n",
       "      <td>28119</td>\n",
       "      <td>1864</td>\n",
       "    </tr>\n",
       "    <tr>\n",
       "      <th>1</th>\n",
       "      <td>86000US20707</td>\n",
       "      <td>20707</td>\n",
       "      <td>36549</td>\n",
       "      <td>1231</td>\n",
       "    </tr>\n",
       "    <tr>\n",
       "      <th>2</th>\n",
       "      <td>86000US20777</td>\n",
       "      <td>20777</td>\n",
       "      <td>3046</td>\n",
       "      <td>543</td>\n",
       "    </tr>\n",
       "    <tr>\n",
       "      <th>3</th>\n",
       "      <td>86000US20812</td>\n",
       "      <td>20812</td>\n",
       "      <td>314</td>\n",
       "      <td>117</td>\n",
       "    </tr>\n",
       "    <tr>\n",
       "      <th>4</th>\n",
       "      <td>86000US20814</td>\n",
       "      <td>20814</td>\n",
       "      <td>30822</td>\n",
       "      <td>1739</td>\n",
       "    </tr>\n",
       "  </tbody>\n",
       "</table>\n",
       "</div>"
      ],
      "text/plain": [
       "          geoid  census_zip  population  population_error\n",
       "0  86000US20705       20705       28119              1864\n",
       "1  86000US20707       20707       36549              1231\n",
       "2  86000US20777       20777        3046               543\n",
       "3  86000US20812       20812         314               117\n",
       "4  86000US20814       20814       30822              1739"
      ]
     },
     "execution_count": 17,
     "metadata": {},
     "output_type": "execute_result"
    }
   ],
   "source": [
    "df_pop.head()"
   ]
  },
  {
   "cell_type": "code",
   "execution_count": 18,
   "id": "c9a9326c-8d5e-4af3-bb28-1a53533c1ef2",
   "metadata": {},
   "outputs": [
    {
     "data": {
      "text/plain": [
       "dtype('int64')"
      ]
     },
     "execution_count": 18,
     "metadata": {},
     "output_type": "execute_result"
    }
   ],
   "source": [
    "df_pop.census_zip.dtype"
   ]
  },
  {
   "cell_type": "code",
   "execution_count": 19,
   "id": "ebd5122d-cc16-48d6-98bb-06f57e6e42db",
   "metadata": {},
   "outputs": [
    {
     "data": {
      "text/html": [
       "<div>\n",
       "<style scoped>\n",
       "    .dataframe tbody tr th:only-of-type {\n",
       "        vertical-align: middle;\n",
       "    }\n",
       "\n",
       "    .dataframe tbody tr th {\n",
       "        vertical-align: top;\n",
       "    }\n",
       "\n",
       "    .dataframe thead th {\n",
       "        text-align: right;\n",
       "    }\n",
       "</style>\n",
       "<table border=\"1\" class=\"dataframe\">\n",
       "  <thead>\n",
       "    <tr style=\"text-align: right;\">\n",
       "      <th></th>\n",
       "      <th>case_zip</th>\n",
       "      <th>case_count</th>\n",
       "    </tr>\n",
       "  </thead>\n",
       "  <tbody>\n",
       "    <tr>\n",
       "      <th>0</th>\n",
       "      <td>20746.0</td>\n",
       "      <td>5490</td>\n",
       "    </tr>\n",
       "    <tr>\n",
       "      <th>1</th>\n",
       "      <td>20770.0</td>\n",
       "      <td>5013</td>\n",
       "    </tr>\n",
       "    <tr>\n",
       "      <th>2</th>\n",
       "      <td>20747.0</td>\n",
       "      <td>4495</td>\n",
       "    </tr>\n",
       "    <tr>\n",
       "      <th>3</th>\n",
       "      <td>20748.0</td>\n",
       "      <td>4001</td>\n",
       "    </tr>\n",
       "    <tr>\n",
       "      <th>4</th>\n",
       "      <td>20708.0</td>\n",
       "      <td>3710</td>\n",
       "    </tr>\n",
       "  </tbody>\n",
       "</table>\n",
       "</div>"
      ],
      "text/plain": [
       "   case_zip  case_count\n",
       "0   20746.0        5490\n",
       "1   20770.0        5013\n",
       "2   20747.0        4495\n",
       "3   20748.0        4001\n",
       "4   20708.0        3710"
      ]
     },
     "execution_count": 19,
     "metadata": {},
     "output_type": "execute_result"
    }
   ],
   "source": [
    "# Merge the case counts onto the zip codes\n",
    "cases_per_zip.head()"
   ]
  },
  {
   "cell_type": "code",
   "execution_count": 20,
   "id": "af4b4f64-e7cb-49c9-94a4-2a69180413f2",
   "metadata": {},
   "outputs": [],
   "source": [
    "# Make sure zip codes are stored as strings in both dataframes\n",
    "cases_per_zip['case_zip'] = cases_per_zip['case_zip'].astype('int64').astype('string')\n",
    "df_pop['census_zip'] = df_pop['census_zip'].astype('string')"
   ]
  },
  {
   "cell_type": "code",
   "execution_count": 21,
   "id": "c8609882-adb3-49ee-8b14-b017a60c3c76",
   "metadata": {},
   "outputs": [],
   "source": [
    "df_pop = df_pop.merge(cases_per_zip, left_on='census_zip', right_on='case_zip', how='left')"
   ]
  },
  {
   "cell_type": "code",
   "execution_count": 22,
   "id": "2c5289c6-4d6e-4d67-833e-9cf9df77e460",
   "metadata": {},
   "outputs": [
    {
     "data": {
      "text/html": [
       "<div>\n",
       "<style scoped>\n",
       "    .dataframe tbody tr th:only-of-type {\n",
       "        vertical-align: middle;\n",
       "    }\n",
       "\n",
       "    .dataframe tbody tr th {\n",
       "        vertical-align: top;\n",
       "    }\n",
       "\n",
       "    .dataframe thead th {\n",
       "        text-align: right;\n",
       "    }\n",
       "</style>\n",
       "<table border=\"1\" class=\"dataframe\">\n",
       "  <thead>\n",
       "    <tr style=\"text-align: right;\">\n",
       "      <th></th>\n",
       "      <th>geoid</th>\n",
       "      <th>census_zip</th>\n",
       "      <th>population</th>\n",
       "      <th>population_error</th>\n",
       "      <th>case_zip</th>\n",
       "      <th>case_count</th>\n",
       "    </tr>\n",
       "  </thead>\n",
       "  <tbody>\n",
       "    <tr>\n",
       "      <th>0</th>\n",
       "      <td>86000US20705</td>\n",
       "      <td>20705</td>\n",
       "      <td>28119</td>\n",
       "      <td>1864</td>\n",
       "      <td>20705</td>\n",
       "      <td>1002.0</td>\n",
       "    </tr>\n",
       "    <tr>\n",
       "      <th>1</th>\n",
       "      <td>86000US20707</td>\n",
       "      <td>20707</td>\n",
       "      <td>36549</td>\n",
       "      <td>1231</td>\n",
       "      <td>20707</td>\n",
       "      <td>1101.0</td>\n",
       "    </tr>\n",
       "    <tr>\n",
       "      <th>2</th>\n",
       "      <td>86000US20777</td>\n",
       "      <td>20777</td>\n",
       "      <td>3046</td>\n",
       "      <td>543</td>\n",
       "      <td>&lt;NA&gt;</td>\n",
       "      <td>NaN</td>\n",
       "    </tr>\n",
       "    <tr>\n",
       "      <th>3</th>\n",
       "      <td>86000US20812</td>\n",
       "      <td>20812</td>\n",
       "      <td>314</td>\n",
       "      <td>117</td>\n",
       "      <td>&lt;NA&gt;</td>\n",
       "      <td>NaN</td>\n",
       "    </tr>\n",
       "    <tr>\n",
       "      <th>4</th>\n",
       "      <td>86000US20814</td>\n",
       "      <td>20814</td>\n",
       "      <td>30822</td>\n",
       "      <td>1739</td>\n",
       "      <td>20814</td>\n",
       "      <td>185.0</td>\n",
       "    </tr>\n",
       "  </tbody>\n",
       "</table>\n",
       "</div>"
      ],
      "text/plain": [
       "          geoid census_zip  population  population_error case_zip  case_count\n",
       "0  86000US20705      20705       28119              1864    20705      1002.0\n",
       "1  86000US20707      20707       36549              1231    20707      1101.0\n",
       "2  86000US20777      20777        3046               543     <NA>         NaN\n",
       "3  86000US20812      20812         314               117     <NA>         NaN\n",
       "4  86000US20814      20814       30822              1739    20814       185.0"
      ]
     },
     "execution_count": 22,
     "metadata": {},
     "output_type": "execute_result"
    }
   ],
   "source": [
    "df_pop.head()"
   ]
  },
  {
   "cell_type": "code",
   "execution_count": 23,
   "id": "17f31c15-7c37-4b93-aea9-f1e921ed08ef",
   "metadata": {},
   "outputs": [],
   "source": [
    "# Cleanup\n",
    "df_pop['case_count'] = df_pop['case_count'].fillna(0)\n",
    "df_pop = df_pop.drop(columns=['population_error','case_zip'])"
   ]
  },
  {
   "cell_type": "code",
   "execution_count": 24,
   "id": "cfd104a9-e4d4-4f38-b877-f7625d5a34f6",
   "metadata": {},
   "outputs": [
    {
     "data": {
      "text/html": [
       "<div>\n",
       "<style scoped>\n",
       "    .dataframe tbody tr th:only-of-type {\n",
       "        vertical-align: middle;\n",
       "    }\n",
       "\n",
       "    .dataframe tbody tr th {\n",
       "        vertical-align: top;\n",
       "    }\n",
       "\n",
       "    .dataframe thead th {\n",
       "        text-align: right;\n",
       "    }\n",
       "</style>\n",
       "<table border=\"1\" class=\"dataframe\">\n",
       "  <thead>\n",
       "    <tr style=\"text-align: right;\">\n",
       "      <th></th>\n",
       "      <th>geoid</th>\n",
       "      <th>census_zip</th>\n",
       "      <th>population</th>\n",
       "      <th>case_count</th>\n",
       "    </tr>\n",
       "  </thead>\n",
       "  <tbody>\n",
       "    <tr>\n",
       "      <th>0</th>\n",
       "      <td>86000US20705</td>\n",
       "      <td>20705</td>\n",
       "      <td>28119</td>\n",
       "      <td>1002.0</td>\n",
       "    </tr>\n",
       "    <tr>\n",
       "      <th>1</th>\n",
       "      <td>86000US20707</td>\n",
       "      <td>20707</td>\n",
       "      <td>36549</td>\n",
       "      <td>1101.0</td>\n",
       "    </tr>\n",
       "    <tr>\n",
       "      <th>2</th>\n",
       "      <td>86000US20777</td>\n",
       "      <td>20777</td>\n",
       "      <td>3046</td>\n",
       "      <td>0.0</td>\n",
       "    </tr>\n",
       "    <tr>\n",
       "      <th>3</th>\n",
       "      <td>86000US20812</td>\n",
       "      <td>20812</td>\n",
       "      <td>314</td>\n",
       "      <td>0.0</td>\n",
       "    </tr>\n",
       "    <tr>\n",
       "      <th>4</th>\n",
       "      <td>86000US20814</td>\n",
       "      <td>20814</td>\n",
       "      <td>30822</td>\n",
       "      <td>185.0</td>\n",
       "    </tr>\n",
       "  </tbody>\n",
       "</table>\n",
       "</div>"
      ],
      "text/plain": [
       "          geoid census_zip  population  case_count\n",
       "0  86000US20705      20705       28119      1002.0\n",
       "1  86000US20707      20707       36549      1101.0\n",
       "2  86000US20777      20777        3046         0.0\n",
       "3  86000US20812      20812         314         0.0\n",
       "4  86000US20814      20814       30822       185.0"
      ]
     },
     "execution_count": 24,
     "metadata": {},
     "output_type": "execute_result"
    }
   ],
   "source": [
    "df_pop.head()"
   ]
  },
  {
   "cell_type": "code",
   "execution_count": 25,
   "id": "b3dfb45c-c377-4a9c-86f5-8f7f352331db",
   "metadata": {},
   "outputs": [],
   "source": [
    "df_pop['cases_per_pop'] = df_pop['case_count'] / df_pop['population']"
   ]
  },
  {
   "cell_type": "code",
   "execution_count": 26,
   "id": "7fd7163e-193d-4f5b-9640-5a3436e2a5ca",
   "metadata": {},
   "outputs": [
    {
     "data": {
      "text/html": [
       "<div>\n",
       "<style scoped>\n",
       "    .dataframe tbody tr th:only-of-type {\n",
       "        vertical-align: middle;\n",
       "    }\n",
       "\n",
       "    .dataframe tbody tr th {\n",
       "        vertical-align: top;\n",
       "    }\n",
       "\n",
       "    .dataframe thead th {\n",
       "        text-align: right;\n",
       "    }\n",
       "</style>\n",
       "<table border=\"1\" class=\"dataframe\">\n",
       "  <thead>\n",
       "    <tr style=\"text-align: right;\">\n",
       "      <th></th>\n",
       "      <th>geoid</th>\n",
       "      <th>census_zip</th>\n",
       "      <th>population</th>\n",
       "      <th>case_count</th>\n",
       "      <th>cases_per_pop</th>\n",
       "    </tr>\n",
       "  </thead>\n",
       "  <tbody>\n",
       "    <tr>\n",
       "      <th>76</th>\n",
       "      <td>86000US20746</td>\n",
       "      <td>20746</td>\n",
       "      <td>27494</td>\n",
       "      <td>5490.0</td>\n",
       "      <td>0.199680</td>\n",
       "    </tr>\n",
       "    <tr>\n",
       "      <th>81</th>\n",
       "      <td>86000US20770</td>\n",
       "      <td>20770</td>\n",
       "      <td>28181</td>\n",
       "      <td>5013.0</td>\n",
       "      <td>0.177886</td>\n",
       "    </tr>\n",
       "    <tr>\n",
       "      <th>61</th>\n",
       "      <td>86000US20708</td>\n",
       "      <td>20708</td>\n",
       "      <td>26599</td>\n",
       "      <td>3710.0</td>\n",
       "      <td>0.139479</td>\n",
       "    </tr>\n",
       "    <tr>\n",
       "      <th>75</th>\n",
       "      <td>86000US20745</td>\n",
       "      <td>20745</td>\n",
       "      <td>29518</td>\n",
       "      <td>3648.0</td>\n",
       "      <td>0.123586</td>\n",
       "    </tr>\n",
       "    <tr>\n",
       "      <th>77</th>\n",
       "      <td>86000US20747</td>\n",
       "      <td>20747</td>\n",
       "      <td>37924</td>\n",
       "      <td>4495.0</td>\n",
       "      <td>0.118527</td>\n",
       "    </tr>\n",
       "    <tr>\n",
       "      <th>...</th>\n",
       "      <td>...</td>\n",
       "      <td>...</td>\n",
       "      <td>...</td>\n",
       "      <td>...</td>\n",
       "      <td>...</td>\n",
       "    </tr>\n",
       "    <tr>\n",
       "      <th>2</th>\n",
       "      <td>86000US20777</td>\n",
       "      <td>20777</td>\n",
       "      <td>3046</td>\n",
       "      <td>0.0</td>\n",
       "      <td>0.000000</td>\n",
       "    </tr>\n",
       "    <tr>\n",
       "      <th>12</th>\n",
       "      <td>86000US20838</td>\n",
       "      <td>20838</td>\n",
       "      <td>409</td>\n",
       "      <td>0.0</td>\n",
       "      <td>0.000000</td>\n",
       "    </tr>\n",
       "    <tr>\n",
       "      <th>38</th>\n",
       "      <td>86000US20892</td>\n",
       "      <td>20892</td>\n",
       "      <td>0</td>\n",
       "      <td>0.0</td>\n",
       "      <td>NaN</td>\n",
       "    </tr>\n",
       "    <tr>\n",
       "      <th>39</th>\n",
       "      <td>86000US20894</td>\n",
       "      <td>20894</td>\n",
       "      <td>0</td>\n",
       "      <td>0.0</td>\n",
       "      <td>NaN</td>\n",
       "    </tr>\n",
       "    <tr>\n",
       "      <th>82</th>\n",
       "      <td>86000US20771</td>\n",
       "      <td>20771</td>\n",
       "      <td>0</td>\n",
       "      <td>0.0</td>\n",
       "      <td>NaN</td>\n",
       "    </tr>\n",
       "  </tbody>\n",
       "</table>\n",
       "<p>93 rows × 5 columns</p>\n",
       "</div>"
      ],
      "text/plain": [
       "           geoid census_zip  population  case_count  cases_per_pop\n",
       "76  86000US20746      20746       27494      5490.0       0.199680\n",
       "81  86000US20770      20770       28181      5013.0       0.177886\n",
       "61  86000US20708      20708       26599      3710.0       0.139479\n",
       "75  86000US20745      20745       29518      3648.0       0.123586\n",
       "77  86000US20747      20747       37924      4495.0       0.118527\n",
       "..           ...        ...         ...         ...            ...\n",
       "2   86000US20777      20777        3046         0.0       0.000000\n",
       "12  86000US20838      20838         409         0.0       0.000000\n",
       "38  86000US20892      20892           0         0.0            NaN\n",
       "39  86000US20894      20894           0         0.0            NaN\n",
       "82  86000US20771      20771           0         0.0            NaN\n",
       "\n",
       "[93 rows x 5 columns]"
      ]
     },
     "execution_count": 26,
     "metadata": {},
     "output_type": "execute_result"
    }
   ],
   "source": [
    "df_pop.sort_values('cases_per_pop', ascending=False)"
   ]
  },
  {
   "cell_type": "markdown",
   "id": "89acaf1a-a772-4f22-bdd7-06e765bd1bb5",
   "metadata": {},
   "source": [
    "## Errors and debugging\n",
    "\n",
    "Errors are frustrating and inevitable. Even professional programmers probably spend most of their time debugging.\n",
    "\n",
    "Luckily, there are good tools and techniques for making debugging a little easier.\n",
    "\n",
    "Despite these, you will probably nearly tear your hair out with some frequency, especially as a beginner. It will get better with time.\n",
    "\n",
    "There are two types of errors in programming: logic and syntax. They both result in your program not achieving its goal, but the first may not be as easily detectable because the code may still run.\n",
    "\n",
    "### Logic errors\n",
    "These are issues with how you have approached or executed your problem. If your code runs but produces nonsensical results, there is probably a logic error. However, your erroneous code might also produce logical but *wrong* results; you might never notice until the problem has rippled downstream. It's best to address this proactively by planning your code well so it's less likely to be illogical, and writing readable code that can be easily reviewed.\n",
    "\n",
    "Here's a logic error. Can you find it? (Hint: the issue is syntactical, but it's still a logic error because the code works without throwing an error.)"
   ]
  },
  {
   "cell_type": "code",
   "execution_count": 27,
   "id": "7ae245be-438c-4af0-88ff-4fbefd368015",
   "metadata": {},
   "outputs": [
    {
     "data": {
      "text/plain": [
       "False"
      ]
     },
     "execution_count": 27,
     "metadata": {},
     "output_type": "execute_result"
    }
   ],
   "source": [
    "def check_adult(age, cutoff=18):\n",
    "    if age > cutoff:\n",
    "        adult = False\n",
    "    else:\n",
    "        adult = True\n",
    "    return adult\n",
    "\n",
    "check_adult(20)"
   ]
  },
  {
   "cell_type": "markdown",
   "id": "6c4200b2-2176-4329-9a12-68ff65efd852",
   "metadata": {},
   "source": [
    "### Syntax errors\n",
    "These are more obvious because your code will simply fail. There are lots of tools for figuring out where and why.\n",
    "\n",
    "Error messages are usually the starting place for debugging a syntax error."
   ]
  },
  {
   "cell_type": "code",
   "execution_count": 28,
   "id": "1c4df4de-f47b-4f25-9074-4b0397cc5ea5",
   "metadata": {},
   "outputs": [
    {
     "ename": "TypeError",
     "evalue": "'<' not supported between instances of 'str' and 'int'",
     "output_type": "error",
     "traceback": [
      "\u001b[0;31m---------------------------------------------------------------------------\u001b[0m",
      "\u001b[0;31mTypeError\u001b[0m                                 Traceback (most recent call last)",
      "Cell \u001b[0;32mIn[28], line 8\u001b[0m\n\u001b[1;32m      5\u001b[0m         adult \u001b[38;5;241m=\u001b[39m \u001b[38;5;28;01mTrue\u001b[39;00m\n\u001b[1;32m      6\u001b[0m     \u001b[38;5;28;01mreturn\u001b[39;00m adult\n\u001b[0;32m----> 8\u001b[0m \u001b[43mcheck_adult\u001b[49m\u001b[43m(\u001b[49m\u001b[38;5;124;43m'\u001b[39;49m\u001b[38;5;124;43m20\u001b[39;49m\u001b[38;5;124;43m'\u001b[39;49m\u001b[43m)\u001b[49m\n",
      "Cell \u001b[0;32mIn[28], line 2\u001b[0m, in \u001b[0;36mcheck_adult\u001b[0;34m(age, cutoff)\u001b[0m\n\u001b[1;32m      1\u001b[0m \u001b[38;5;28;01mdef\u001b[39;00m\u001b[38;5;250m \u001b[39m\u001b[38;5;21mcheck_adult\u001b[39m(age, cutoff\u001b[38;5;241m=\u001b[39m\u001b[38;5;241m18\u001b[39m):\n\u001b[0;32m----> 2\u001b[0m     \u001b[38;5;28;01mif\u001b[39;00m \u001b[43mage\u001b[49m\u001b[43m \u001b[49m\u001b[38;5;241;43m<\u001b[39;49m\u001b[43m \u001b[49m\u001b[43mcutoff\u001b[49m:\n\u001b[1;32m      3\u001b[0m         adult \u001b[38;5;241m=\u001b[39m \u001b[38;5;28;01mFalse\u001b[39;00m\n\u001b[1;32m      4\u001b[0m     \u001b[38;5;28;01melse\u001b[39;00m:\n",
      "\u001b[0;31mTypeError\u001b[0m: '<' not supported between instances of 'str' and 'int'"
     ]
    }
   ],
   "source": [
    "def check_adult(age, cutoff=18):\n",
    "    if age < cutoff:\n",
    "        adult = False\n",
    "    else:\n",
    "        adult = True\n",
    "    return adult\n",
    "\n",
    "check_adult('20')"
   ]
  },
  {
   "cell_type": "markdown",
   "id": "e62b2d21-45dd-41c0-824f-b4496e7d45dd",
   "metadata": {},
   "source": [
    "The error message tells us where the problem is located.\n",
    "\n",
    "Sometimes, it can be helpful to turn on line numbers.\n",
    "- In Colab: `Tools -> Settings -> Editor -> Show line numbers`\n",
    "- In JupyterLab: `View -> Show Line Numbers`\n",
    "\n",
    "The `ValueError` tells us that the issue is related to the value of a variable on this line, but it's still pretty vague.\n",
    "\n",
    "Time to start [Googling](https://www.google.com/).\n"
   ]
  },
  {
   "cell_type": "markdown",
   "id": "c76708dd-944e-484f-a4a8-038be13825c8",
   "metadata": {},
   "source": [
    "### Debugging\n",
    "We can also use an \"interactive debugger\" to help diagnose our problem by stepping through the code one line at a time.\n",
    "\n",
    "The debugger provides tools for setting \"breakpoints\" where the code will stop running temporarily, a table that shows the values of variables at that time, and buttons to start, stop, and step through the code.\n",
    "\n",
    "https://jupyterlab.readthedocs.io/en/stable/user/debugger.html"
   ]
  },
  {
   "cell_type": "code",
   "execution_count": 29,
   "id": "a8abf17d-39e7-4da1-8d0a-f55121ca8a57",
   "metadata": {},
   "outputs": [
    {
     "data": {
      "text/plain": [
       "True"
      ]
     },
     "execution_count": 29,
     "metadata": {},
     "output_type": "execute_result"
    }
   ],
   "source": [
    "def check_adult(age, cutoff=18):\n",
    "    if age < cutoff:\n",
    "        adult = False\n",
    "    else:\n",
    "        adult = True\n",
    "    return adult\n",
    "\n",
    "check_adult(20)"
   ]
  },
  {
   "cell_type": "markdown",
   "id": "1c418985-eb94-45c3-8790-f992b7f9621f",
   "metadata": {},
   "source": [
    "## Style guidelines for Python\n",
    "- At the very least, do things consistently\n",
    "- One statement per line\n",
    "- Try to limit line length to 72 characters\n",
    "- Use four spaces to indent\n",
    "- Put spaces around operators (e.g., `1 + 1` or `day = 'Monday'`) (except in keyword function arguments)\n",
    "- Use blank lines intentionally and consistently\n",
    "- Use meaningful names\n",
    "- Name variables and functions with `lowercase_underscores`\n",
    "- Constants are often named in `ALL_CAPS_WITH_UNDERSCORES` (e.g., `C = 2.99792458e+8`)\n",
    "- Name custom classes with `CapWords`\n",
    "- In general, avoid spaces in folder and filenames used for programming\n",
    "\n",
    "See [Code Readability](https://github.com/ncsg/ursp688y_sp2024/blob/main/README.md#code-readability) on the syllabus. [CS61A](https://cs61a.org/articles/composition/) has an excellent composition guide. [PEP 8](https://peps.python.org/pep-0008/) is a standard Python style guide. [Google](https://google.github.io/styleguide/pyguide.html) publishes their internal Python style guide."
   ]
  }
 ],
 "metadata": {
  "kernelspec": {
   "display_name": "Python 3 (ipykernel)",
   "language": "python",
   "name": "python3"
  },
  "language_info": {
   "codemirror_mode": {
    "name": "ipython",
    "version": 3
   },
   "file_extension": ".py",
   "mimetype": "text/x-python",
   "name": "python",
   "nbconvert_exporter": "python",
   "pygments_lexer": "ipython3",
   "version": "3.13.1"
  }
 },
 "nbformat": 4,
 "nbformat_minor": 5
}
