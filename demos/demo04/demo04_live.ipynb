{
 "cells": [
  {
   "cell_type": "markdown",
   "id": "13b62af4-9c03-46d7-805c-cebadd28185e",
   "metadata": {
    "editable": true,
    "slideshow": {
     "slide_type": ""
    },
    "tags": []
   },
   "source": [
    "Urban Data Science & Smart Cities <br>\n",
    "URSP688Y Spring 2025<br>\n",
    "Instructor: Chester Harvey <br>\n",
    "Urban Studies & Planning <br>\n",
    "National Center for Smart Growth <br>\n",
    "University of Maryland"
   ]
  },
  {
   "attachments": {},
   "cell_type": "markdown",
   "id": "b7d7937e-5289-44bb-ac8b-1e0b03a74e0b",
   "metadata": {},
   "source": [
    "# Demo 4 - Loading and Joining Data From Files\n",
    "\n",
    "- Table gymnastics (a.k.a., data wrangling)\n",
    "    - Load data from a CSV\n",
    "    - Practice exploring the data\n",
    "    - Convert dates stored as strings to `datetime` data types\n",
    "    - Drop duplicate rows\n",
    "    - Count rows withing groups\n",
    "    - Concatenate tables\n",
    "    - Join columns from another table\n",
    "- Debugging"
   ]
  },
  {
   "cell_type": "code",
   "execution_count": null,
   "id": "f208dcae-d230-4bf1-9cc2-4c936c70bd4e",
   "metadata": {},
   "outputs": [],
   "source": [
    "# Import packages\n",
    "import pandas as pd"
   ]
  },
  {
   "cell_type": "markdown",
   "id": "19473389-6158-4a83-bdef-d7a13bbb18e8",
   "metadata": {},
   "source": [
    "## Loading Data from a File\n",
    "\n",
    "Let's get our hands on some real-world data by loading a table from a file.\n",
    "\n",
    "Let's load data from the [Maryland Eviction Case Database](https://opendata.maryland.gov/Housing/District-Court-of-Maryland-Eviction-Case-Data/mvqb-b4hf/data).\n",
    "\n",
    "A CSV file that is stored in the same directory as our notebook can be opened by entering just the file name as an argument to `pd.read_csv`."
   ]
  },
  {
   "cell_type": "code",
   "execution_count": null,
   "id": "caa4313e-cb9a-4850-9153-7ea0302eabec",
   "metadata": {},
   "outputs": [],
   "source": [
    "# ! Load the eviction cases CSV"
   ]
  },
  {
   "cell_type": "markdown",
   "id": "198c1733-0608-49f6-af3e-a41da2e7daf5",
   "metadata": {},
   "source": [
    "Let's practice navigating and doing some analysis with our DataFrame."
   ]
  },
  {
   "cell_type": "markdown",
   "id": "0f0b2ad7-ced8-4d8c-90b4-2620c5ae5e6c",
   "metadata": {},
   "source": [
    "Preview the dataframe"
   ]
  },
  {
   "cell_type": "code",
   "execution_count": null,
   "id": "04f15f12-e99c-4a2d-8c34-e1680bf7eb64",
   "metadata": {},
   "outputs": [],
   "source": [
    "# ! Show the df head"
   ]
  },
  {
   "cell_type": "markdown",
   "id": "3bc96145-a1d8-4e94-bd5a-56d1dae42d84",
   "metadata": {},
   "source": [
    "How many rows does it have?"
   ]
  },
  {
   "cell_type": "code",
   "execution_count": null,
   "id": "e5c3a812-c1f1-4112-8e0d-7162c84f7c99",
   "metadata": {},
   "outputs": [],
   "source": [
    "# ! Show df length"
   ]
  },
  {
   "cell_type": "markdown",
   "id": "78e478ac-e043-4f2c-8cad-65e5b4811937",
   "metadata": {},
   "source": [
    "What columns does it have?"
   ]
  },
  {
   "cell_type": "code",
   "execution_count": null,
   "id": "43875992-0d2d-4c62-9b72-944155bc183a",
   "metadata": {},
   "outputs": [],
   "source": [
    "# ! Show df columns"
   ]
  },
  {
   "cell_type": "markdown",
   "id": "51f74dd7-9789-4796-9920-105bd826935f",
   "metadata": {},
   "source": [
    "Which counties are represented?"
   ]
  },
  {
   "cell_type": "code",
   "execution_count": null,
   "id": "23ca83e4-5c73-469d-93da-e48126cd5286",
   "metadata": {},
   "outputs": [],
   "source": [
    "# ! Show value counts for county column"
   ]
  },
  {
   "cell_type": "markdown",
   "id": "da8848cd-9b2f-42c3-906d-32a491a61f34",
   "metadata": {},
   "source": [
    "What is the earlist date?\n",
    "\n",
    "Is this true?"
   ]
  },
  {
   "cell_type": "code",
   "execution_count": null,
   "id": "d25ebc12-9be6-4fcf-9419-54371424bd48",
   "metadata": {},
   "outputs": [],
   "source": [
    "# ! Sort by date"
   ]
  },
  {
   "cell_type": "markdown",
   "id": "b4d4bf2a-93c0-4ffe-8f9b-e2dc5f365372",
   "metadata": {},
   "source": [
    "Convert the event date column to a `datetime` data type"
   ]
  },
  {
   "cell_type": "code",
   "execution_count": null,
   "id": "5a905cb6-0f4f-430e-92f4-c53d4b9cf407",
   "metadata": {},
   "outputs": [],
   "source": [
    "# ! Convert date column to datetime type"
   ]
  },
  {
   "cell_type": "markdown",
   "id": "a1ec58f0-34ca-4ca5-bf81-e498ac0ab528",
   "metadata": {},
   "source": [
    "How many unique cases are there?"
   ]
  },
  {
   "cell_type": "code",
   "execution_count": null,
   "id": "19165b15-9cdd-4df6-aabe-3eb524129a8e",
   "metadata": {},
   "outputs": [],
   "source": [
    "# ! Drop duplicate case numbers after sorting so first event is maintained"
   ]
  },
  {
   "cell_type": "markdown",
   "id": "bcdb5045-342b-41ca-89b4-9529a76acc01",
   "metadata": {},
   "source": [
    "How many unique cases per zip code?"
   ]
  },
  {
   "cell_type": "code",
   "execution_count": null,
   "id": "739ef711-7417-4f09-8dcb-76f4813b1cdf",
   "metadata": {},
   "outputs": [],
   "source": [
    "# Count cases within each zip code\n",
    "\n",
    "# ! Group by zip code and count unique cases"
   ]
  },
  {
   "cell_type": "code",
   "execution_count": null,
   "id": "90c5589d-6476-4554-9a2b-3359eb120f79",
   "metadata": {},
   "outputs": [],
   "source": [
    "# Convert results to a dataframe with a column for zip and a column for cases\n",
    "\n",
    "# ! Convert to dataframe and clean up columns"
   ]
  },
  {
   "cell_type": "markdown",
   "id": "f5035b0d-2000-4930-9953-067806a4d4e8",
   "metadata": {},
   "source": [
    "Which zip codes have the most unique cases per person?\n",
    "\n",
    "Let's join data from [CensusReporter](https://censusreporter.org/).\n",
    "\n",
    "### Combining/Merging/Joining Tables\n",
    "\n",
    "Combining information from multiple tables into a single table is one of the most useful data wrangling operations.\n",
    "\n",
    "There are lots of different ways to join tables, but two basic types are:\n",
    "\n",
    "1. Joining column with a shared key, which outputs a table that is wider than either input.\n",
    "2. Concatenating rows with shared column names, which outputs a table that is longer than either input.\n",
    "\n",
    "#### Joining columns based on a key\n",
    "\n",
    "![joining columns with a shared key](https://rforhr.com/horizontal_join.png)\n",
    "\n",
    "\n",
    "#### Concatenating rows with the same column names\n",
    "![joining rows with shared column names](https://rforhr.com/vertical_join.png)"
   ]
  },
  {
   "cell_type": "markdown",
   "id": "21a2e2d2-8595-4e0d-a59b-a61b5f54d300",
   "metadata": {},
   "source": [
    "First, let's concatenate census tables for Montgomery and Prince George's county to make a single table with populations for each zip code.\n",
    "\n",
    "Then, we'll merge counts of eviction cases onto each zip code.\n",
    "\n",
    "Finally, we'll calcuate the number of eviction cases per capita."
   ]
  },
  {
   "cell_type": "code",
   "execution_count": null,
   "id": "0ff69373-c2cc-40f1-b0f1-3d7cf7f834b5",
   "metadata": {},
   "outputs": [],
   "source": [
    "# Load census reporter data, ignoring the row with data for the whole county (first row under the header)\n",
    "\n",
    "# ! Write a function to load census reporter data"
   ]
  },
  {
   "cell_type": "code",
   "execution_count": null,
   "id": "6699edbe-eee7-44db-adea-e660892b8073",
   "metadata": {},
   "outputs": [],
   "source": [
    "# Combine into a single dataframe\n",
    "\n",
    "# ! Concatenate dataframes"
   ]
  },
  {
   "cell_type": "code",
   "execution_count": null,
   "id": "971936b6-0573-4ccc-8f85-c21bc9cd9ab0",
   "metadata": {},
   "outputs": [],
   "source": [
    "# Rename columns with readable names\n",
    "\n",
    "# ! Clean up column names"
   ]
  },
  {
   "cell_type": "code",
   "execution_count": null,
   "id": "ebd5122d-cc16-48d6-98bb-06f57e6e42db",
   "metadata": {},
   "outputs": [],
   "source": [
    "# Merge the case counts onto the zip codes\n",
    "\n",
    "# ! Ensure that zipcode columns in both dataframes are the same data type"
   ]
  },
  {
   "cell_type": "code",
   "execution_count": null,
   "id": "323c35bf-accf-43d4-9bc7-03f927930aab",
   "metadata": {},
   "outputs": [],
   "source": [
    "# ! Merge on zipcode"
   ]
  },
  {
   "cell_type": "code",
   "execution_count": null,
   "id": "17f31c15-7c37-4b93-aea9-f1e921ed08ef",
   "metadata": {},
   "outputs": [],
   "source": [
    "# Cleanup\n",
    "\n",
    "# ! Clean up column names"
   ]
  },
  {
   "cell_type": "code",
   "execution_count": null,
   "id": "b3dfb45c-c377-4a9c-86f5-8f7f352331db",
   "metadata": {},
   "outputs": [],
   "source": [
    "# Calculate cases per capita\n",
    "\n",
    "# ! Calc new column and sort descending"
   ]
  },
  {
   "cell_type": "markdown",
   "id": "89acaf1a-a772-4f22-bdd7-06e765bd1bb5",
   "metadata": {},
   "source": [
    "## Errors and debugging\n",
    "\n",
    "Errors are frustrating and inevitable. Even professional programmers probably spend most of their time debugging.\n",
    "\n",
    "Luckily, there are good tools and techniques for making debugging a little easier.\n",
    "\n",
    "Despite these, you will probably nearly tear your hair out with some frequency, especially as a beginner. It will get better with time.\n",
    "\n",
    "There are two types of errors in programming: logic and syntax. They both result in your program not achieving its goal, but the first may not be as easily detectable because the code may still run.\n",
    "\n",
    "### Logic errors\n",
    "These are issues with how you have approached or executed your problem. If your code runs but produces nonsensical results, there is probably a logic error. However, your erroneous code might also produce logical but *wrong* results; you might never notice until the problem has rippled downstream. It's best to address this proactively by planning your code well so it's less likely to be illogical, and writing readable code that can be easily reviewed.\n",
    "\n",
    "Here's a logic error. Can you find it? (Hint: the issue is syntactical, but it's still a logic error because the code works without throwing an error.)"
   ]
  },
  {
   "cell_type": "code",
   "execution_count": null,
   "id": "7ae245be-438c-4af0-88ff-4fbefd368015",
   "metadata": {},
   "outputs": [],
   "source": [
    "def check_adult(age, cutoff=18):\n",
    "    if age > cutoff:\n",
    "        adult = False\n",
    "    else:\n",
    "        adult = True\n",
    "    return adult\n",
    "\n",
    "check_adult(20)"
   ]
  },
  {
   "cell_type": "markdown",
   "id": "6c4200b2-2176-4329-9a12-68ff65efd852",
   "metadata": {},
   "source": [
    "### Syntax errors\n",
    "These are more obvious because your code will simply fail. There are lots of tools for figuring out where and why.\n",
    "\n",
    "Error messages are usually the starting place for debugging a syntax error."
   ]
  },
  {
   "cell_type": "code",
   "execution_count": null,
   "id": "1c4df4de-f47b-4f25-9074-4b0397cc5ea5",
   "metadata": {},
   "outputs": [],
   "source": [
    "def check_adult(age, cutoff=18):\n",
    "    if age < cutoff:\n",
    "        adult = False\n",
    "    else:\n",
    "        adult = True\n",
    "    return adult\n",
    "\n",
    "check_adult('20')"
   ]
  },
  {
   "cell_type": "markdown",
   "id": "e62b2d21-45dd-41c0-824f-b4496e7d45dd",
   "metadata": {},
   "source": [
    "The error message tells us where the problem is located.\n",
    "\n",
    "Sometimes, it can be helpful to turn on line numbers.\n",
    "- In Colab: `Tools -> Settings -> Editor -> Show line numbers`\n",
    "- In JupyterLab: `View -> Show Line Numbers`\n",
    "\n",
    "The `ValueError` tells us that the issue is related to the value of a variable on this line, but it's still pretty vague.\n",
    "\n",
    "Time to start [Googling](https://www.google.com/).\n"
   ]
  },
  {
   "cell_type": "markdown",
   "id": "c76708dd-944e-484f-a4a8-038be13825c8",
   "metadata": {},
   "source": [
    "### Debugging\n",
    "We can also use an \"interactive debugger\" to help diagnose our problem by stepping through the code one line at a time.\n",
    "\n",
    "The debugger provides tools for setting \"breakpoints\" where the code will stop running temporarily, a table that shows the values of variables at that time, and buttons to start, stop, and step through the code.\n",
    "\n",
    "https://jupyterlab.readthedocs.io/en/stable/user/debugger.html"
   ]
  },
  {
   "cell_type": "code",
   "execution_count": null,
   "id": "a8abf17d-39e7-4da1-8d0a-f55121ca8a57",
   "metadata": {},
   "outputs": [],
   "source": [
    "def check_adult(age, cutoff=18):\n",
    "    if age < cutoff:\n",
    "        adult = False\n",
    "    else:\n",
    "        adult = True\n",
    "    return adult\n",
    "\n",
    "check_adult(20)"
   ]
  },
  {
   "cell_type": "markdown",
   "id": "1c418985-eb94-45c3-8790-f992b7f9621f",
   "metadata": {},
   "source": [
    "## Style guidelines for Python\n",
    "- At the very least, do things consistently\n",
    "- One statement per line\n",
    "- Try to limit line length to 72 characters\n",
    "- Use four spaces to indent\n",
    "- Put spaces around operators (e.g., `1 + 1` or `day = 'Monday'`) (except in keyword function arguments)\n",
    "- Use blank lines intentionally and consistently\n",
    "- Use meaningful names\n",
    "- Name variables and functions with `lowercase_underscores`\n",
    "- Constants are often named in `ALL_CAPS_WITH_UNDERSCORES` (e.g., `C = 2.99792458e+8`)\n",
    "- Name custom classes with `CapWords`\n",
    "- In general, avoid spaces in folder and filenames used for programming\n",
    "\n",
    "See [Code Readability](https://github.com/ncsg/ursp688y_sp2024/blob/main/README.md#code-readability) on the syllabus. [CS61A](https://cs61a.org/articles/composition/) has an excellent composition guide. [PEP 8](https://peps.python.org/pep-0008/) is a standard Python style guide. [Google](https://google.github.io/styleguide/pyguide.html) publishes their internal Python style guide."
   ]
  }
 ],
 "metadata": {
  "kernelspec": {
   "display_name": "Python 3 (ipykernel)",
   "language": "python",
   "name": "python3"
  },
  "language_info": {
   "codemirror_mode": {
    "name": "ipython",
    "version": 3
   },
   "file_extension": ".py",
   "mimetype": "text/x-python",
   "name": "python",
   "nbconvert_exporter": "python",
   "pygments_lexer": "ipython3",
   "version": "3.13.1"
  }
 },
 "nbformat": 4,
 "nbformat_minor": 5
}
