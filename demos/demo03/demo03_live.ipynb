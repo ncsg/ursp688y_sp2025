{
 "cells": [
  {
   "cell_type": "markdown",
   "id": "13b62af4-9c03-46d7-805c-cebadd28185e",
   "metadata": {
    "editable": true,
    "slideshow": {
     "slide_type": ""
    },
    "tags": []
   },
   "source": [
    "Urban Data Science & Smart Cities <br>\n",
    "URSP688Y Spring 2025<br>\n",
    "Instructor: Chester Harvey <br>\n",
    "Urban Studies & Planning <br>\n",
    "National Center for Smart Growth <br>\n",
    "University of Maryland"
   ]
  },
  {
   "attachments": {},
   "cell_type": "markdown",
   "id": "b7d7937e-5289-44bb-ac8b-1e0b03a74e0b",
   "metadata": {},
   "source": [
    "# Demo 3 - Functions and Intro to Pandas\n",
    "\n",
    "- Writing functions\n",
    "- Installing packages\n",
    "- Importing packages\n",
    "- Pandas\n",
    "  - DataFrames\n",
    "  - Calculations with columns\n",
    "  - Selection and filtering\n",
    "  - Grouping"
   ]
  },
  {
   "cell_type": "markdown",
   "id": "5db73da1-f8b1-4471-a167-de3a17343aa0",
   "metadata": {},
   "source": [
    "## Functions\n",
    "\n",
    "Functions are pre-defined programming components that do things. Often, they take inputs and produce outputs.\n",
    "\n",
    "<img src=\"https://miro.medium.com/v2/resize:fit:880/0*xMEO8AbXwdsgnHSH.png\" alt=\"Diagram of a function with input and output\" width=\"400\"/>\n",
    "\n",
    "- Some basic functions are built-in to Python (e.g., `print`)\n",
    "\n",
    "- We can write our own custom functions.\n",
    "\n",
    "- We can use custom functions other people have written."
   ]
  },
  {
   "cell_type": "code",
   "execution_count": 2,
   "id": "2d2c5a4e-dc7a-46c2-b3d7-024328240bcc",
   "metadata": {},
   "outputs": [],
   "source": [
    "# Let's write a function that takes an age as input and tells us whether a person is an adult\n",
    "\n",
    "# ! Write a function with one argument\n",
    "\n",
    "# ! Write a function with two arguments\n",
    "\n",
    "# ! Write a function with a default argument"
   ]
  },
  {
   "cell_type": "markdown",
   "id": "082172ab-9e7b-477e-a1d0-bad0f84bfd16",
   "metadata": {},
   "source": [
    "#### Namespaces\n",
    "\n",
    "Functions are a good way to understand a somewhat complicated (but, in the end, VERY useful) aspect of Python: namespaces.\n",
    "\n",
    "Namespaces are the sections of code in which certain variables, _names_, exist and are accessible to other code. Having different namespaces makes it possible for the same variable name to store different values in different places. \n",
    "\n",
    "Namespaces minimize name clutter (because you don't need many versions of a variable name), maximize flexibility, and allow code to be written in ways that are generalizable to lots of applications.\n",
    "\n",
    "The function we just wrote has two arguments, `name` and `age`, which are variables inside the function. It also defines another variable, `label`, which is usable inside the function. We call these variables that are _local_ to the function. We can see the variables local to a namespace by printing the output of the `locals` function (notice that it doesn't need any arguments)."
   ]
  },
  {
   "cell_type": "code",
   "execution_count": 3,
   "id": "88293189-c1a5-4672-bcc5-d0dccd7da66f",
   "metadata": {},
   "outputs": [],
   "source": [
    "# ! Print local variables within the function\n",
    "\n",
    "# print(f'Local variables: {locals()}')"
   ]
  },
  {
   "cell_type": "markdown",
   "id": "e15584ec-2aae-4c91-aa5b-9122cef56916",
   "metadata": {},
   "source": [
    "What's going on here?"
   ]
  },
  {
   "cell_type": "code",
   "execution_count": 7,
   "id": "b21d1125-c133-4845-b8d4-0669a63b2847",
   "metadata": {},
   "outputs": [
    {
     "name": "stdout",
     "output_type": "stream",
     "text": [
      "Local variables: {'age': 22, 'label': 'an adult'}\n"
     ]
    },
    {
     "data": {
      "text/plain": [
       "'Chester is an adult'"
      ]
     },
     "execution_count": 7,
     "metadata": {},
     "output_type": "execute_result"
    }
   ],
   "source": [
    "name = 'Chester'\n",
    "\n",
    "def label_age(age): \n",
    "    if age < 18:\n",
    "        label = 'a child'\n",
    "    else:\n",
    "        label = 'an adult'\n",
    "    \n",
    "    print(f'Local variables: {locals()}')\n",
    "    \n",
    "    return f'{name} is {label}'\n",
    "\n",
    "label_age(22)"
   ]
  },
  {
   "cell_type": "markdown",
   "id": "17065c32-a668-4fc8-97af-043b6f157dc6",
   "metadata": {},
   "source": [
    "## Importing packages\n",
    "\n",
    "Now that we have basic data structures under our belts—integers, floats, booleans, strings, lists, and dictionaries—we can put them together into a more complex and capable data structure: a table.\n",
    "\n",
    "We could write our own custom code to combine lists and dictionaries into a table, *or* we could use someone else's code (actually, many, many other peoples' code) to do this in a way that has become an industry standard.\n",
    "\n",
    "The easiest way to use other peoples' code in a way that is well-tested and documented is through a **package**.\n",
    "\n",
    "To use a package that's not already in our environment, we first have to install it."
   ]
  },
  {
   "cell_type": "code",
   "execution_count": 8,
   "id": "56a4399d-0b6a-40d0-b630-b3c49b107d21",
   "metadata": {},
   "outputs": [],
   "source": [
    "# ! conda install pandas"
   ]
  },
  {
   "cell_type": "markdown",
   "id": "f32e8a08-c85b-4da8-9d32-11ae69a1f2e8",
   "metadata": {},
   "source": [
    "Next, we import it into the current namespace.\n",
    "\n",
    "Packages are often imported with aliases for brevity. I'll use the standard aliases, but they are technically arbitrary, just like variable names.\n",
    "\n",
    "## Pandas\n",
    "\n",
    "[_Pandas_](https://pandas.pydata.org/) (Python Data Analysis Library) is currently the most popular way to analyze tables in Python.\n",
    "\n",
    "The tabular data structure at the heart of Pandas is the DataFrame.\n",
    "\n",
    "Let's import `pandas` with the alias `pd` for short."
   ]
  },
  {
   "cell_type": "code",
   "execution_count": 9,
   "id": "c6a89c16-8368-4fec-b2b0-1521992ce684",
   "metadata": {},
   "outputs": [],
   "source": [
    "import pandas as pd"
   ]
  },
  {
   "cell_type": "markdown",
   "id": "96a267f2-be9a-44a6-a117-177b7ae160b4",
   "metadata": {},
   "source": [
    "## DataFrames\n",
    "\n",
    "Now we can use Pandas to make a DataFrame.\n",
    "\n",
    "Notice that we're just entering dictionaries, strings, and ints? Under the hood, Pandas is also storing these data with these basic types. But it will give us a lot of tools to do sophisticated things with them."
   ]
  },
  {
   "cell_type": "code",
   "execution_count": 10,
   "id": "f98083ed-332d-437a-ad68-eea5d5034fca",
   "metadata": {},
   "outputs": [
    {
     "data": {
      "text/html": [
       "<div>\n",
       "<style scoped>\n",
       "    .dataframe tbody tr th:only-of-type {\n",
       "        vertical-align: middle;\n",
       "    }\n",
       "\n",
       "    .dataframe tbody tr th {\n",
       "        vertical-align: top;\n",
       "    }\n",
       "\n",
       "    .dataframe thead th {\n",
       "        text-align: right;\n",
       "    }\n",
       "</style>\n",
       "<table border=\"1\" class=\"dataframe\">\n",
       "  <thead>\n",
       "    <tr style=\"text-align: right;\">\n",
       "      <th></th>\n",
       "      <th>english</th>\n",
       "      <th>math</th>\n",
       "      <th>science</th>\n",
       "      <th>school</th>\n",
       "    </tr>\n",
       "  </thead>\n",
       "  <tbody>\n",
       "    <tr>\n",
       "      <th>Daniela</th>\n",
       "      <td>83</td>\n",
       "      <td>95</td>\n",
       "      <td>90</td>\n",
       "      <td>Fairview</td>\n",
       "    </tr>\n",
       "    <tr>\n",
       "      <th>Zoe</th>\n",
       "      <td>97</td>\n",
       "      <td>83</td>\n",
       "      <td>87</td>\n",
       "      <td>New Vista</td>\n",
       "    </tr>\n",
       "    <tr>\n",
       "      <th>Rowen</th>\n",
       "      <td>77</td>\n",
       "      <td>73</td>\n",
       "      <td>95</td>\n",
       "      <td>Fairview</td>\n",
       "    </tr>\n",
       "    <tr>\n",
       "      <th>Jude</th>\n",
       "      <td>95</td>\n",
       "      <td>80</td>\n",
       "      <td>73</td>\n",
       "      <td>New Vista</td>\n",
       "    </tr>\n",
       "    <tr>\n",
       "      <th>Austin</th>\n",
       "      <td>87</td>\n",
       "      <td>100</td>\n",
       "      <td>80</td>\n",
       "      <td>New Vista</td>\n",
       "    </tr>\n",
       "    <tr>\n",
       "      <th>Jasper</th>\n",
       "      <td>92</td>\n",
       "      <td>94</td>\n",
       "      <td>99</td>\n",
       "      <td>Fairview</td>\n",
       "    </tr>\n",
       "    <tr>\n",
       "      <th>Liora</th>\n",
       "      <td>88</td>\n",
       "      <td>89</td>\n",
       "      <td>87</td>\n",
       "      <td>New Vista</td>\n",
       "    </tr>\n",
       "    <tr>\n",
       "      <th>Kieran</th>\n",
       "      <td>72</td>\n",
       "      <td>96</td>\n",
       "      <td>90</td>\n",
       "      <td>Fairview</td>\n",
       "    </tr>\n",
       "  </tbody>\n",
       "</table>\n",
       "</div>"
      ],
      "text/plain": [
       "         english  math  science     school\n",
       "Daniela       83    95       90   Fairview\n",
       "Zoe           97    83       87  New Vista\n",
       "Rowen         77    73       95   Fairview\n",
       "Jude          95    80       73  New Vista\n",
       "Austin        87   100       80  New Vista\n",
       "Jasper        92    94       99   Fairview\n",
       "Liora         88    89       87  New Vista\n",
       "Kieran        72    96       90   Fairview"
      ]
     },
     "execution_count": 10,
     "metadata": {},
     "output_type": "execute_result"
    }
   ],
   "source": [
    "columnwise_data = {\n",
    "    'english': {'Daniela': 83, 'Zoe': 97, 'Rowen': 77, 'Jude': 95, 'Austin': 87, 'Jasper': 92, 'Liora': 88, 'Kieran': 72},\n",
    "    'math': {'Daniela': 95, 'Zoe': 83, 'Rowen': 73, 'Jude': 80, 'Austin': 100, 'Jasper': 94, 'Liora': 89, 'Kieran': 96},\n",
    "    'science': {'Daniela': 90, 'Zoe': 87, 'Rowen': 95, 'Jude': 73, 'Austin': 80, 'Jasper': 99, 'Liora': 87, 'Kieran': 90},\n",
    "    'school':{'Daniela': 'Fairview', 'Zoe': 'New Vista', 'Rowen': 'Fairview', 'Jude': 'New Vista', 'Austin': 'New Vista', 'Jasper': 'Fairview', 'Liora': 'New Vista', 'Kieran': 'Fairview'},\n",
    "}\n",
    "\n",
    "df = pd.DataFrame(columnwise_data)\n",
    "df"
   ]
  },
  {
   "cell_type": "markdown",
   "id": "9daf54e8-b8d0-4d9d-9cde-da04f0888829",
   "metadata": {},
   "source": [
    "## Previewing DataFrames\n",
    "\n",
    "Dataframes can get big fast. It can be helpful just to see the first few rows, or just to see the column names.\n",
    "\n",
    "the `head` method is used to show the first five rows by default, or you can set the argument with the number you want to see."
   ]
  },
  {
   "cell_type": "code",
   "execution_count": 4,
   "id": "922f020c-146b-457b-8220-2b0a32521139",
   "metadata": {},
   "outputs": [],
   "source": [
    "# ! Get the head of the dataframe"
   ]
  },
  {
   "cell_type": "markdown",
   "id": "9d9e811b-59ce-4f51-97f0-52e34b266e97",
   "metadata": {},
   "source": [
    "The `columns` attribute is very handy for listing all the columns. I tend to add the `to_list` method so Jupyter prints them out nicely without extra clutter."
   ]
  },
  {
   "cell_type": "code",
   "execution_count": 5,
   "id": "6f0e22e3-fa0f-4c95-beac-aa8266348a5e",
   "metadata": {},
   "outputs": [],
   "source": [
    "# ! List columns in the dataframe"
   ]
  },
  {
   "cell_type": "markdown",
   "id": "963cb950-a1d6-4482-bc6e-f8797b4a1f29",
   "metadata": {},
   "source": [
    "The `value_counts` method is very handy for previewing unique values in a column."
   ]
  },
  {
   "cell_type": "code",
   "execution_count": 6,
   "id": "a60b5575-c2b3-4ab0-975c-ccf625321b47",
   "metadata": {},
   "outputs": [],
   "source": [
    "# ! Count values in one column"
   ]
  },
  {
   "cell_type": "markdown",
   "id": "19b5b790-7ec8-401e-84db-cdb54eae4491",
   "metadata": {},
   "source": [
    "#### Slicing\n",
    "\n",
    "Just like lists, we can select parts of tables based on indexes. This is called 'slicing.'\n",
    "\n",
    "Columns and rows are identified by the bold headers to the left and top. You can index data based on these headers."
   ]
  },
  {
   "cell_type": "code",
   "execution_count": 7,
   "id": "6781ab34-63e3-4d30-9fe0-dd2face69f65",
   "metadata": {},
   "outputs": [],
   "source": [
    "# ! Get a single column, returning a series"
   ]
  },
  {
   "cell_type": "code",
   "execution_count": 8,
   "id": "ba273559-c62c-4272-ba53-5d02df9aa530",
   "metadata": {},
   "outputs": [],
   "source": [
    "# ! Get multiple columns, returning a dataframe"
   ]
  },
  {
   "cell_type": "code",
   "execution_count": 10,
   "id": "99b1b1b9-c69a-485c-b7d5-82a3cabc84a6",
   "metadata": {},
   "outputs": [],
   "source": [
    "# ! Get one row based on index name"
   ]
  },
  {
   "cell_type": "code",
   "execution_count": 11,
   "id": "c404a77f-d454-4591-a72a-34d87344d985",
   "metadata": {},
   "outputs": [],
   "source": [
    "# ! Get one row based on index number"
   ]
  },
  {
   "cell_type": "markdown",
   "id": "a0e34889-a998-496c-bbf3-771cee49c034",
   "metadata": {},
   "source": [
    "## Filtering\n",
    "\n",
    "You can also retrieve a subset of a DataFrame based on a condition. This requires making a 'boolean mask', then selecting by that mask. Pandas will only return the rows or columns that are `True` in the mask."
   ]
  },
  {
   "cell_type": "code",
   "execution_count": 12,
   "id": "f41dd3ff-8b30-4831-9917-56275100a914",
   "metadata": {},
   "outputs": [],
   "source": [
    "# ! Use a conditional statement to make a boolean folder "
   ]
  },
  {
   "cell_type": "code",
   "execution_count": 14,
   "id": "c66258d8-1666-473f-a8b5-d2c7c8b3b1c8",
   "metadata": {},
   "outputs": [],
   "source": [
    "# ! Use the filter to get rows that fit the condition"
   ]
  },
  {
   "cell_type": "markdown",
   "id": "2e8e465e-b6e1-407d-a694-4d14f85f4b11",
   "metadata": {},
   "source": [
    "## Grouping\n",
    "\n",
    "A very powerful thing to do with tables is to group rows, then make calculations within groups. This is like PivotTable in Excel.\n",
    "\n",
    "Let's calculate the average grade in English by school."
   ]
  },
  {
   "cell_type": "code",
   "execution_count": 15,
   "id": "e8161b2c-6535-43d9-bb79-559b05ffed6d",
   "metadata": {},
   "outputs": [],
   "source": [
    "# ! Find the average within a group"
   ]
  },
  {
   "cell_type": "markdown",
   "id": "e02a41c8-2513-4b59-9a99-863fd7bb707d",
   "metadata": {},
   "source": [
    "## Wide vs Long Tables\n",
    "\n",
    "Data scientists often talk about tables being organized in two ways: wide and long\n",
    "\n",
    "- Wide: Multiple attributes for the same object stored in each row\n",
    "- Long: Only one attribute per row (potential for multiple rows per object)\n",
    "\n",
    "Let's restructure our table so it's long and see what the differences are."
   ]
  },
  {
   "cell_type": "code",
   "execution_count": 16,
   "id": "5735cdbe-5717-4ba6-b5c6-f260175b0cc5",
   "metadata": {},
   "outputs": [],
   "source": [
    "# The first step is to convert the row index into a column with the header 'name'\n",
    "\n",
    "# ! Make the row index into a column called 'name'"
   ]
  },
  {
   "cell_type": "code",
   "execution_count": 17,
   "id": "0e2bc08f-3f83-429a-88a9-dd903d5dae07",
   "metadata": {},
   "outputs": [],
   "source": [
    "# Then we can use the melt function to convert from wide to long\n",
    "\n",
    "# ! Melt from wide to long"
   ]
  },
  {
   "cell_type": "markdown",
   "id": "dbc5eefa-56ec-4c6c-aec0-7e419f0278c3",
   "metadata": {},
   "source": [
    "With the data in this format, we can more easily calculate grade averages across all subjects."
   ]
  },
  {
   "cell_type": "code",
   "execution_count": 18,
   "id": "9b2540eb-233e-409f-8497-a112a4e7634a",
   "metadata": {},
   "outputs": [],
   "source": [
    "# ! Take the averge of a long column"
   ]
  },
  {
   "cell_type": "markdown",
   "id": "3c787bd8-c98c-472d-9b5d-19a9be4c78d2",
   "metadata": {},
   "source": [
    "We can still easily break down by subject using groups."
   ]
  },
  {
   "cell_type": "code",
   "execution_count": 19,
   "id": "4ca04611-2966-42bb-a6a3-0c3fd0174f34",
   "metadata": {},
   "outputs": [],
   "source": [
    "# ! Take an average within groups"
   ]
  },
  {
   "cell_type": "markdown",
   "id": "19473389-6158-4a83-bdef-d7a13bbb18e8",
   "metadata": {},
   "source": [
    "## Loading Data from a File\n",
    "\n",
    "Enough with these toy data! Let's get our hands on some real-world data by loading a table from a file.\n",
    "\n",
    "Let's load data from the [Maryland Eviction Case Database](https://opendata.maryland.gov/Housing/District-Court-of-Maryland-Eviction-Case-Data/mvqb-b4hf/data)."
   ]
  },
  {
   "cell_type": "code",
   "execution_count": 20,
   "id": "c550f121-b43c-4040-b3ce-3b5acf9f5781",
   "metadata": {},
   "outputs": [],
   "source": [
    "# ! Load data from the eviction database"
   ]
  },
  {
   "cell_type": "markdown",
   "id": "89acaf1a-a772-4f22-bdd7-06e765bd1bb5",
   "metadata": {},
   "source": [
    "## Errors and debugging\n",
    "\n",
    "Errors are frustrating and inevitable. Even professional programmers probably spend most of their time debugging.\n",
    "\n",
    "Luckily, there are good tools and techniques for making debugging a little easier.\n",
    "\n",
    "Despite these, you will probably nearly tear your hair out with some frequency, especially as a beginner. It will get better with time.\n",
    "\n",
    "There are two types of errors in programming: logic and syntax. They both result in your program not achieving its goal, but the first may not be as easily detectable because the code may still run.\n",
    "\n",
    "### Logic errors\n",
    "These are issues with how you have approached or executed your problem. If your code runs but produces nonsensical results, there is probably a logic error. However, your erroneous code might also produce logical but *wrong* results; you might never notice until the problem has rippled downstream. It's best to address this proactively by planning your code well so it's less likely to be illogical, and writing readable code that can be easily reviewed.\n",
    "\n",
    "Here's a logic error. Can you find it? (Hint: the issue is syntactical, but it's still a logic error because the code works without throwing an error.)"
   ]
  },
  {
   "cell_type": "code",
   "execution_count": 27,
   "id": "7ae245be-438c-4af0-88ff-4fbefd368015",
   "metadata": {},
   "outputs": [
    {
     "data": {
      "text/plain": [
       "False"
      ]
     },
     "execution_count": 27,
     "metadata": {},
     "output_type": "execute_result"
    }
   ],
   "source": [
    "def check_adult(age):\n",
    "    if age > 18:\n",
    "        adult = False\n",
    "    else:\n",
    "        adult = True\n",
    "    return adult\n",
    "\n",
    "check_adult(20)"
   ]
  },
  {
   "cell_type": "markdown",
   "id": "6c4200b2-2176-4329-9a12-68ff65efd852",
   "metadata": {},
   "source": [
    "### Syntax errors\n",
    "These are more obvious because your code will simply fail. There are lots of tools for figuring out where and why.\n",
    "\n",
    "Error messages are usually the starting place for debugging a syntax error."
   ]
  },
  {
   "cell_type": "code",
   "execution_count": 28,
   "id": "1c4df4de-f47b-4f25-9074-4b0397cc5ea5",
   "metadata": {},
   "outputs": [
    {
     "ename": "TypeError",
     "evalue": "'<' not supported between instances of 'str' and 'int'",
     "output_type": "error",
     "traceback": [
      "\u001b[0;31m---------------------------------------------------------------------------\u001b[0m",
      "\u001b[0;31mTypeError\u001b[0m                                 Traceback (most recent call last)",
      "Cell \u001b[0;32mIn[28], line 8\u001b[0m\n\u001b[1;32m      5\u001b[0m         adult \u001b[38;5;241m=\u001b[39m \u001b[38;5;28;01mTrue\u001b[39;00m\n\u001b[1;32m      6\u001b[0m     \u001b[38;5;28;01mreturn\u001b[39;00m adult\n\u001b[0;32m----> 8\u001b[0m \u001b[43mcheck_adult\u001b[49m\u001b[43m(\u001b[49m\u001b[38;5;124;43m'\u001b[39;49m\u001b[38;5;124;43m20\u001b[39;49m\u001b[38;5;124;43m'\u001b[39;49m\u001b[43m)\u001b[49m\n",
      "Cell \u001b[0;32mIn[28], line 2\u001b[0m, in \u001b[0;36mcheck_adult\u001b[0;34m(age)\u001b[0m\n\u001b[1;32m      1\u001b[0m \u001b[38;5;28;01mdef\u001b[39;00m\u001b[38;5;250m \u001b[39m\u001b[38;5;21mcheck_adult\u001b[39m(age):\n\u001b[0;32m----> 2\u001b[0m     \u001b[38;5;28;01mif\u001b[39;00m \u001b[43mage\u001b[49m\u001b[43m \u001b[49m\u001b[38;5;241;43m<\u001b[39;49m\u001b[43m \u001b[49m\u001b[38;5;241;43m18\u001b[39;49m:\n\u001b[1;32m      3\u001b[0m         adult \u001b[38;5;241m=\u001b[39m \u001b[38;5;28;01mFalse\u001b[39;00m\n\u001b[1;32m      4\u001b[0m     \u001b[38;5;28;01melse\u001b[39;00m:\n",
      "\u001b[0;31mTypeError\u001b[0m: '<' not supported between instances of 'str' and 'int'"
     ]
    }
   ],
   "source": [
    "def check_adult(age):\n",
    "    if age < 18:\n",
    "        adult = False\n",
    "    else:\n",
    "        adult = True\n",
    "    return adult\n",
    "\n",
    "check_adult('20')"
   ]
  },
  {
   "cell_type": "markdown",
   "id": "e62b2d21-45dd-41c0-824f-b4496e7d45dd",
   "metadata": {},
   "source": [
    "The error message tells us where the problem is located.\n",
    "\n",
    "Sometimes, it can be helpful to turn on line numbers.\n",
    "- In Colab: `Tools -> Settings -> Editor -> Show line numbers`\n",
    "- In JupyterLab: `View -> Show Line Numbers`\n",
    "\n",
    "The `ValueError` tells us that the issue is related to the value of a variable on this line, but it's still pretty vague.\n",
    "\n",
    "Time to start [Googling](https://www.google.com/).\n"
   ]
  },
  {
   "cell_type": "markdown",
   "id": "1c418985-eb94-45c3-8790-f992b7f9621f",
   "metadata": {},
   "source": [
    "## Style guidelines for Python\n",
    "- At the very least, do things consistently\n",
    "- One statement per line\n",
    "- Try to limit line length to 72 characters\n",
    "- Use four spaces to indent\n",
    "- Put spaces around operators (e.g., `1 + 1` or `day = 'Monday'`) (except in keyword function arguments)\n",
    "- Use blank lines intentionally and consistently\n",
    "- Use meaningful names\n",
    "- Name variables and functions with `lowercase_underscores`\n",
    "- Constants are often named in `ALL_CAPS_WITH_UNDERSCORES` (e.g., `C = 2.99792458e+8`)\n",
    "- Name custom classes with `CapWords`\n",
    "- In general, avoid spaces in folder and filenames used for programming\n",
    "\n",
    "See [Code Readability](https://github.com/ncsg/ursp688y_sp2024/blob/main/README.md#code-readability) on the syllabus. [CS61A](https://cs61a.org/articles/composition/) has an excellent composition guide. [PEP 8](https://peps.python.org/pep-0008/) is a standard Python style guide. [Google](https://google.github.io/styleguide/pyguide.html) publishes their internal Python style guide."
   ]
  }
 ],
 "metadata": {
  "kernelspec": {
   "display_name": "Python 3 (ipykernel)",
   "language": "python",
   "name": "python3"
  },
  "language_info": {
   "codemirror_mode": {
    "name": "ipython",
    "version": 3
   },
   "file_extension": ".py",
   "mimetype": "text/x-python",
   "name": "python",
   "nbconvert_exporter": "python",
   "pygments_lexer": "ipython3",
   "version": "3.12.8"
  }
 },
 "nbformat": 4,
 "nbformat_minor": 5
}
