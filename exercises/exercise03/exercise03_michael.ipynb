{
 "cells": [
  {
   "cell_type": "markdown",
   "id": "c7bba7ff-ada4-46c2-9102-351f6bfe5ec9",
   "metadata": {},
   "source": [
    "## Research Question\n",
    "\n",
    "**What spatial patterns emerge from eviction warrant data in Baltimore City, and how can this data be used to inform policies that address housing instability and displacement?**\n"
   ]
  },
  {
   "cell_type": "markdown",
   "id": "d5969dbf-13a5-44c7-bfe6-3e70a1238874",
   "metadata": {},
   "source": [
    "## Abstract\n",
    "\n",
    "The objective of this exercise is to analyze eviction warrant data in Baltimore City to identify spatial patterns related to housing instability. Using geospatial analysis techniques, the study will examine the geographic distribution of eviction events and the potential socio-economic factors contributing to these patterns. This analysis aims to inform policy recommendations that can help mitigate displacement and promote housing stability in vulnerable neighborhoods. The results of this research will contribute to understanding how eviction data can be leveraged in urban planning and policy decisions aimed at reducing housing insecurity.\n"
   ]
  },
  {
   "cell_type": "code",
   "execution_count": 1,
   "id": "6eda91b5-e2d3-46a8-9340-ce90e9377876",
   "metadata": {},
   "outputs": [],
   "source": [
    "# Import necessary modules and libraries.\n",
    "import pandas as pd\n",
    "import geopandas as gpd\n",
    "import utils\n",
    "import census_geocode\n",
    "from census_geocode import geocode_csvs\n",
    "import exercise03\n",
    "from exercise03 import prep_warrants_for_geocoding\n",
    "\n",
    "# Enable autoreloading of modules to reflect changes automatically.\n",
    "%load_ext autoreload\n",
    "%autoreload 2\n"
   ]
  },
  {
   "cell_type": "code",
   "execution_count": 2,
   "id": "69361efd-f308-4c10-8657-60990629a092",
   "metadata": {},
   "outputs": [
    {
     "data": {
      "text/plain": [
       "411040"
      ]
     },
     "execution_count": 2,
     "metadata": {},
     "output_type": "execute_result"
    }
   ],
   "source": [
    "# Load warrants and make sure zip codes are stored as strings without decimals.\n",
    "warrants_df = pd.read_csv('md_eviction_warrants_through_2024.csv')\n",
    "warrants_df['TenantZipCode'] = warrants_df['TenantZipCode'].astype('Int64').astype('string')\n",
    "len(warrants_df)"
   ]
  },
  {
   "cell_type": "code",
   "execution_count": 3,
   "id": "bd41ab8c-f7f6-4436-a781-26fa40a8c7b9",
   "metadata": {},
   "outputs": [
    {
     "name": "stdout",
     "output_type": "stream",
     "text": [
      "411040 warrants input\n",
      "Reduced to 167949 unique addresses\n"
     ]
    }
   ],
   "source": [
    "# Prepare unique addresses for geocoding.\n",
    "geocode_input_df = exercise03.prep_warrants_for_geocoding(warrants_df)"
   ]
  },
  {
   "cell_type": "code",
   "execution_count": 4,
   "id": "381a4bb3-07d0-4785-ab37-9b352ca837e1",
   "metadata": {},
   "outputs": [
    {
     "name": "stdout",
     "output_type": "stream",
     "text": [
      "split dataframe into 17 chunks\n"
     ]
    }
   ],
   "source": [
    "# Split dataframe into smaller chunks (sub-dataframes) with fewer than 10,000 rows each.\n",
    "geocode_input_dfs = utils.chunk_dataframe(geocode_input_df, 9999)\n",
    "\n",
    "# Save each dataframe as a CSV without a header.\n",
    "utils.save_dfs_to_csv(geocode_input_dfs, 'geocode_inputs', header=False)"
   ]
  },
  {
   "cell_type": "code",
   "execution_count": 5,
   "id": "48c93ff2-4207-4cba-a5cc-01f3581c9b53",
   "metadata": {},
   "outputs": [
    {
     "name": "stdout",
     "output_type": "stream",
     "text": [
      "Processing file: geocode_inputs\\df_0.csv\n",
      "Saved results to: geocode_outputs\\geocoderesult_df_0.csv\n",
      "Processing file: geocode_inputs\\df_1.csv\n",
      "Saved results to: geocode_outputs\\geocoderesult_df_1.csv\n",
      "Processing file: geocode_inputs\\df_10.csv\n",
      "Saved results to: geocode_outputs\\geocoderesult_df_10.csv\n",
      "Processing file: geocode_inputs\\df_11.csv\n",
      "Saved results to: geocode_outputs\\geocoderesult_df_11.csv\n",
      "Processing file: geocode_inputs\\df_12.csv\n",
      "Saved results to: geocode_outputs\\geocoderesult_df_12.csv\n",
      "Processing file: geocode_inputs\\df_13.csv\n",
      "Saved results to: geocode_outputs\\geocoderesult_df_13.csv\n",
      "Processing file: geocode_inputs\\df_14.csv\n",
      "Saved results to: geocode_outputs\\geocoderesult_df_14.csv\n",
      "Processing file: geocode_inputs\\df_15.csv\n",
      "Saved results to: geocode_outputs\\geocoderesult_df_15.csv\n",
      "Processing file: geocode_inputs\\df_16.csv\n",
      "Saved results to: geocode_outputs\\geocoderesult_df_16.csv\n",
      "Processing file: geocode_inputs\\df_2.csv\n",
      "Saved results to: geocode_outputs\\geocoderesult_df_2.csv\n",
      "Processing file: geocode_inputs\\df_3.csv\n",
      "Saved results to: geocode_outputs\\geocoderesult_df_3.csv\n",
      "Processing file: geocode_inputs\\df_4.csv\n",
      "Saved results to: geocode_outputs\\geocoderesult_df_4.csv\n",
      "Processing file: geocode_inputs\\df_5.csv\n",
      "Saved results to: geocode_outputs\\geocoderesult_df_5.csv\n",
      "Processing file: geocode_inputs\\df_6.csv\n",
      "Saved results to: geocode_outputs\\geocoderesult_df_6.csv\n",
      "Processing file: geocode_inputs\\df_7.csv\n",
      "Saved results to: geocode_outputs\\geocoderesult_df_7.csv\n",
      "Processing file: geocode_inputs\\df_8.csv\n",
      "Saved results to: geocode_outputs\\geocoderesult_df_8.csv\n",
      "Processing file: geocode_inputs\\df_9.csv\n",
      "Saved results to: geocode_outputs\\geocoderesult_df_9.csv\n",
      "Completed all CSVs\n"
     ]
    }
   ],
   "source": [
    "# Geocode addresses with the Census Geocoder.\n",
    "census_geocode.geocode_csvs('geocode_inputs', 'geocode_outputs')"
   ]
  },
  {
   "cell_type": "code",
   "execution_count": 6,
   "id": "54ca5ae1-9cd0-45b6-a7cc-3483a83c2f3e",
   "metadata": {},
   "outputs": [
    {
     "data": {
      "text/plain": [
       "167949"
      ]
     },
     "execution_count": 6,
     "metadata": {},
     "output_type": "execute_result"
    }
   ],
   "source": [
    "# Recombine outputs from geocoder into a single dataframe.\n",
    "geocode_output_df = exercise03.combine_census_geocoded_csvs('geocode_outputs')\n",
    "len(geocode_output_df)"
   ]
  },
  {
   "cell_type": "code",
   "execution_count": 7,
   "id": "175dd791-22c3-42d7-a920-1282f2bf4823",
   "metadata": {},
   "outputs": [
    {
     "data": {
      "text/plain": [
       "167949"
      ]
     },
     "execution_count": 7,
     "metadata": {},
     "output_type": "execute_result"
    }
   ],
   "source": [
    "# Merge geocoded address back onto the inputs with separate fields for address, city, state, and zip.\n",
    "geocoded_df = geocode_input_df.merge(geocode_output_df, left_index=True, right_index=True)\n",
    "len(geocoded_df)"
   ]
  },
  {
   "cell_type": "code",
   "execution_count": 8,
   "id": "d9f91d54-9c78-41c6-a14c-f891d262e5fd",
   "metadata": {},
   "outputs": [
    {
     "data": {
      "text/plain": [
       "411040"
      ]
     },
     "execution_count": 8,
     "metadata": {},
     "output_type": "execute_result"
    }
   ],
   "source": [
    "# Use address, city, state, and zip columns to join geocodes onto original warrant records.\n",
    "warrants_df = warrants_df.merge(geocoded_df, on=['TenantAddress','TenantCity','TenantState','TenantZipCode'])\n",
    "len(warrants_df)"
   ]
  },
  {
   "cell_type": "code",
   "execution_count": 9,
   "id": "d470bb6a-80cb-4d0d-9d5b-56980f3baa8b",
   "metadata": {},
   "outputs": [],
   "source": [
    "# Convert warrants into a geodataframe with points.\n",
    "warrants_gdf = utils.lonlat_str_to_geodataframe(warrants_df, 'match_lon_lat')"
   ]
  },
  {
   "cell_type": "code",
   "execution_count": 10,
   "id": "956d101b-f265-457e-95d9-e6570b41b84f",
   "metadata": {},
   "outputs": [
    {
     "data": {
      "text/plain": [
       "0.9462971973530556"
      ]
     },
     "execution_count": 10,
     "metadata": {},
     "output_type": "execute_result"
    }
   ],
   "source": [
    "# Calculate proportion of records that received a valid geocode.\n",
    "len(warrants_gdf[warrants_gdf.lon.notnull()]) / len(warrants_gdf)"
   ]
  },
  {
   "cell_type": "code",
   "execution_count": 11,
   "id": "62fdc9e4-dcdb-4680-8146-9c23a942d9d1",
   "metadata": {},
   "outputs": [
    {
     "data": {
      "text/plain": [
       "0.5531189178668743"
      ]
     },
     "execution_count": 11,
     "metadata": {},
     "output_type": "execute_result"
    }
   ],
   "source": [
    "# Calculate proportion of records with exact geocode matches.\n",
    "len(warrants_gdf[warrants_gdf.match_type == 'Exact']) / len(warrants_gdf)"
   ]
  },
  {
   "cell_type": "code",
   "execution_count": 19,
   "id": "fb96c97b-a2e4-4b1f-a8e6-2676411227b3",
   "metadata": {},
   "outputs": [],
   "source": [
    "warrants_gdf.to_parquet('md_eviction_warrants_through_2024.geoparquet')"
   ]
  },
  {
   "cell_type": "code",
   "execution_count": 20,
   "id": "98781f76-0044-4384-ab77-ba8b0bc26e48",
   "metadata": {},
   "outputs": [],
   "source": [
    "gdf = gpd.read_parquet('md_eviction_warrants_through_2024.geoparquet')"
   ]
  },
  {
   "cell_type": "code",
   "execution_count": 21,
   "id": "5a6966b8-293b-4144-b9fa-5f4514d84353",
   "metadata": {},
   "outputs": [
    {
     "data": {
      "text/plain": [
       "['ID',\n",
       " 'EventDate',\n",
       " 'EventType',\n",
       " 'EventComment',\n",
       " 'County',\n",
       " 'Location',\n",
       " 'TenantAddress',\n",
       " 'TenantCity',\n",
       " 'TenantState',\n",
       " 'TenantZipCode',\n",
       " 'CaseType',\n",
       " 'CaseNumber',\n",
       " 'EvictedDate',\n",
       " 'Source',\n",
       " 'SourceDate',\n",
       " 'Year',\n",
       " 'EvictionYear',\n",
       " 'unique_id',\n",
       " 'input_address',\n",
       " 'match_status',\n",
       " 'match_type',\n",
       " 'match_address',\n",
       " 'match_lon_lat',\n",
       " 'match_tiger_line_id',\n",
       " 'match_tiger_line_side',\n",
       " 'lon',\n",
       " 'lat',\n",
       " 'geometry']"
      ]
     },
     "execution_count": 21,
     "metadata": {},
     "output_type": "execute_result"
    }
   ],
   "source": [
    "gdf.columns.tolist()"
   ]
  },
  {
   "cell_type": "code",
   "execution_count": null,
   "id": "da785bca-86a7-4599-8a1a-1d89354b4d1b",
   "metadata": {},
   "outputs": [],
   "source": []
  }
 ],
 "metadata": {
  "kernelspec": {
   "display_name": "Python 3 (ipykernel)",
   "language": "python",
   "name": "python3"
  },
  "language_info": {
   "codemirror_mode": {
    "name": "ipython",
    "version": 3
   },
   "file_extension": ".py",
   "mimetype": "text/x-python",
   "name": "python",
   "nbconvert_exporter": "python",
   "pygments_lexer": "ipython3",
   "version": "3.12.8"
  }
 },
 "nbformat": 4,
 "nbformat_minor": 5
}
