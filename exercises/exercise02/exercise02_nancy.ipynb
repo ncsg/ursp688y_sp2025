{
 "cells": [
  {
   "cell_type": "markdown",
   "id": "13b62af4-9c03-46d7-805c-cebadd28185e",
   "metadata": {
    "editable": true,
    "slideshow": {
     "slide_type": ""
    },
    "tags": []
   },
   "source": [
    "Urban Data Science & Smart Cities <br>\n",
    "URSP688Y Spring 2025<br>\n",
    "Instructor: Chester Harvey <br>\n",
    "Urban Studies & Planning <br>\n",
    "National Center for Smart Growth <br>\n",
    "University of Maryland"
   ]
  },
  {
   "cell_type": "raw",
   "id": "11fbf6e9-0f31-4d2f-bc76-f7d5ec9df81a",
   "metadata": {},
   "source": [
    "print (\"hello world\")"
   ]
  },
  {
   "attachments": {},
   "cell_type": "markdown",
   "id": "b7d7937e-5289-44bb-ac8b-1e0b03a74e0b",
   "metadata": {},
   "source": [
    "# Exercise02"
   ]
  },
  {
   "cell_type": "markdown",
   "id": "68a2de6d-8412-4bc7-a7ba-d1701e804268",
   "metadata": {},
   "source": [
    "## Problem\n",
    "\n",
    "The District Court of Maryland provides data on eviction-related court filings on the [Maryland Open Data Portal](https://opendata.maryland.gov/Housing/District-Court-of-Maryland-Eviction-Case-Data/mvqb-b4hf/about_data), and the Department of Housing and Community Development (DHCD) summarizes these data on a [dashboard](https://app.powerbigov.us/view?r=eyJrIjoiYWI1Yzg0YjYtNDFkZS00MDUyLThlMDctYmE1ZjY5MGI0MWJhIiwidCI6IjdkM2I4ZDAwLWY5YmUtNDZlNy05NDYwLTRlZjJkOGY3MzE0OSJ9&pageName=ReportSection). This dashboard includes some helpful information about filing types and how the eviction process works.\n",
    "\n",
    "Despite efforts to make eviction data public, the eviction process is complicated and the data are messy and technical, making them difficult to understand. Take, for example, how the table represents evictions: each row represents a court filing, but only some of these filings indicate an eviction (`'Event Type' == 'Warrant of Restitution - Return of Service - Evicted'`).\n",
    "\n",
    "Please help DHCD summarize the filings to understand how tenants are impacted by the eviction process, including:\n",
    "\n",
    "1. ***(I demo this below)*** How many unique cases get filed each month?\n",
    "2. ***(You do)*** What percent of cases end in eviction?\n",
    "3. ***(You do)*** Do cases of different types (e.g., tennant holding over, breach of lease, failure to pay rent) culminate in eviction at different rates?\n",
    "4. ***(Optional)*** How long, on average, does it take for cases to move from a petition being filed to warrent of restitution?\n",
    "5. ***(Optional)*** What is the eviction rate per person per year at the county level? Which county has a higher rate?\n",
    "6. ***(Optional)*** Are there other interesting ways you can summarize these data?\n",
    "\n",
    "To address these questions, you will need to familiarize yourself with how the data are structured, including what each row represents (see above), what data are stored in each column, how consistently these data are structured into categories, etc. You may have to convert data types, correct inconsistencies in categories or simplify how categories are represented, change names of columns so they're intuitive, or do other data wrangling to make the data easier to work with. Then you will have to group/aggregate the data by one or more dimensions to make summary calculations.\n",
    "\n",
    "I recommend approaching this in two phases: \n",
    "\n",
    "- First, write a general-purpose function that takes the raw table as an input——you can decide whether the argument to this function is a path to the CSV or a Pandas DataFrame into which you have already the CSV--and cleans it up into a tidy dataframe that is easy to use for the second phase and for future analyses. You can imagine using this function as a handy pre-processor whenever you download an updated copy of the eviction data. ***I started writing this function for you below, but you can modify or add to it to fit your purposes.***\n",
    "\n",
    "- Second, write multiple single-purpose functions (though there may be opportunities to generalize) that take your tidy dataframe as an input and do calculations with it to address each of the questions above. ***I wrote an example function to answer the first question above—how many unique cases get filed each month? You try writing functions for questions 2–3. 4–6 are optional if you want an extra challenge.***\n",
    "\n",
    "- You may also write additional helper functions that are called by your main functions.\n",
    "\n",
    "## Data\n",
    "\n",
    "Included in this folder are the three CSVs I used in Demo 4: \n",
    "- `District_Court_of_Maryland_Eviction_Case_Data_MG_PG.csv`: Court filings for Montgomery and Prince George's County. I recommend starting with these filings as a 'minimal example.' Ideally, your code will be able to handle filings from other counties or the whole state if they are provided in the same format. You are welcome to try using data from the whole state, but it's not required. ***To economize storage space on GitHub, please don't commit statewide data in your pull request.***\n",
    "- `acs2023_5yr_B01003_mg.csv`: Zipcode-level populations from the American Community Survey (2023 5-year estimates) for Montgomery County, downloaded from [Census Reporter](https://censusreporter.org/data/table/?table=B01003&geo_ids=05000US24031,860|05000US24031&primary_geo_id=05000US24031)\n",
    "- `acs2023_5yr_B01003_pg.csv`: Zipcode-level populations from the American Community Survey (2023 5-year estimates) for Prince George's County, downloaded from [Census Reporter](https://censusreporter.org/data/table/?table=B01003&geo_ids=05000US24033,860|05000US24033&primary_geo_id=05000US24033)\n",
    "\n",
    "## File Management and Submitting\n",
    "1. In GitHub Desktop, **make a branch** in your fork of the course respository. Give the branch a name that will help you keep track of what you will commit to it (e.g., \"exercise2\"). [Here's some documentation about managing branches in GitHub Desktop](https://docs.github.com/en/desktop/making-changes-in-a-branch/managing-branches-in-github-desktop)\n",
    "2. Switch to your new branch. If you already started working on Exercise 2, you can choose the option to bring changes to the new branch.\n",
    "3. Save a copy of the exercise notebook with your first name as an underscored suffix (e.g., `exercise02_chester.ipynb`)\n",
    "4. Commit and push your saved notebook to your branch.\n",
    "5. Make sure that the only files included in your pull request are those you added for this exercise.\n",
    "6. Make a pull request from your branch.\n",
    "\n",
    "## Getting Started\n",
    "Let's get started working on this together, based on the code we wrote in Demo 4."
   ]
  },
  {
   "cell_type": "markdown",
   "id": "6867d798-8f49-49f4-af5c-117546e8efc7",
   "metadata": {},
   "source": [
    "### Phase -1: Dependencies"
   ]
  },
  {
   "cell_type": "code",
   "execution_count": 2,
   "id": "b4de90c6-ecb4-44c1-af7e-09398c4dc397",
   "metadata": {},
   "outputs": [],
   "source": [
    "# Import dependencies--external packages our code will depend on\n",
    "import pandas as pd"
   ]
  },
  {
   "cell_type": "code",
   "execution_count": 3,
   "id": "e07a7be6-c001-4519-babc-b3f78cf36c57",
   "metadata": {},
   "outputs": [],
   "source": [
    "# Define function to make a string all lowercase and replace spaces with underscores\n",
    "# (Can you see where I use this helper function several times below?)\n",
    "def lower_underscore(string):\n",
    "    return string.lower().replace(' ','_')"
   ]
  },
  {
   "cell_type": "markdown",
   "id": "8dce91de-fd63-419d-9cc4-57f660322899",
   "metadata": {},
   "source": [
    "### Phase 0: Load Data"
   ]
  },
  {
   "cell_type": "code",
   "execution_count": 4,
   "id": "eb8ad376-f6e6-440e-b7a6-d0ae9edc9ce1",
   "metadata": {},
   "outputs": [],
   "source": [
    "# Load the filings from CSV\n",
    "df_filings_raw = pd.read_csv('District_Court_of_Maryland_Eviction_Case_Data_MG_PG.csv')"
   ]
  },
  {
   "cell_type": "code",
   "execution_count": 5,
   "id": "dccfe347-870e-4bd2-bc6d-c216f809b31a",
   "metadata": {},
   "outputs": [
    {
     "data": {
      "text/html": [
       "<div>\n",
       "<style scoped>\n",
       "    .dataframe tbody tr th:only-of-type {\n",
       "        vertical-align: middle;\n",
       "    }\n",
       "\n",
       "    .dataframe tbody tr th {\n",
       "        vertical-align: top;\n",
       "    }\n",
       "\n",
       "    .dataframe thead th {\n",
       "        text-align: right;\n",
       "    }\n",
       "</style>\n",
       "<table border=\"1\" class=\"dataframe\">\n",
       "  <thead>\n",
       "    <tr style=\"text-align: right;\">\n",
       "      <th></th>\n",
       "      <th>Unnamed: 0</th>\n",
       "      <th>Event Date</th>\n",
       "      <th>Event Type</th>\n",
       "      <th>Event Comment</th>\n",
       "      <th>County</th>\n",
       "      <th>Location</th>\n",
       "      <th>Tenant City</th>\n",
       "      <th>Tenant State</th>\n",
       "      <th>Tenant ZIP Code</th>\n",
       "      <th>Case Type</th>\n",
       "      <th>Case Number</th>\n",
       "      <th>Evicted Date</th>\n",
       "      <th>Event Year</th>\n",
       "      <th>Eviction Year</th>\n",
       "    </tr>\n",
       "  </thead>\n",
       "  <tbody>\n",
       "    <tr>\n",
       "      <th>0</th>\n",
       "      <td>0</td>\n",
       "      <td>01/03/2023</td>\n",
       "      <td>Warrant of Restitution - Return of Service - E...</td>\n",
       "      <td>NaN</td>\n",
       "      <td>Montgomery</td>\n",
       "      <td>Rockville</td>\n",
       "      <td>Silver Spring</td>\n",
       "      <td>MD</td>\n",
       "      <td>20910.0</td>\n",
       "      <td>Failure to Pay Rent</td>\n",
       "      <td>D-061-LT-22-004107</td>\n",
       "      <td>12/08/2022</td>\n",
       "      <td>2023.0</td>\n",
       "      <td>2022.0</td>\n",
       "    </tr>\n",
       "    <tr>\n",
       "      <th>1</th>\n",
       "      <td>1</td>\n",
       "      <td>01/03/2023</td>\n",
       "      <td>Warrant of Restitution - Return of Service - E...</td>\n",
       "      <td>NaN</td>\n",
       "      <td>Montgomery</td>\n",
       "      <td>Rockville</td>\n",
       "      <td>Silver Spring</td>\n",
       "      <td>MD</td>\n",
       "      <td>20910.0</td>\n",
       "      <td>Failure to Pay Rent</td>\n",
       "      <td>D-061-LT-22-000755</td>\n",
       "      <td>12/08/2022</td>\n",
       "      <td>2023.0</td>\n",
       "      <td>2022.0</td>\n",
       "    </tr>\n",
       "    <tr>\n",
       "      <th>2</th>\n",
       "      <td>2</td>\n",
       "      <td>01/03/2023</td>\n",
       "      <td>Warrant of Restitution - Return of Service - E...</td>\n",
       "      <td>NaN</td>\n",
       "      <td>Montgomery</td>\n",
       "      <td>Rockville</td>\n",
       "      <td>Bethesda</td>\n",
       "      <td>MD</td>\n",
       "      <td>20814.0</td>\n",
       "      <td>Failure to Pay Rent</td>\n",
       "      <td>D-061-LT-22-000816</td>\n",
       "      <td>12/07/2022</td>\n",
       "      <td>2023.0</td>\n",
       "      <td>2022.0</td>\n",
       "    </tr>\n",
       "    <tr>\n",
       "      <th>3</th>\n",
       "      <td>3</td>\n",
       "      <td>01/03/2023</td>\n",
       "      <td>Warrant of Restitution - Return of Service - E...</td>\n",
       "      <td>NaN</td>\n",
       "      <td>Montgomery</td>\n",
       "      <td>Rockville</td>\n",
       "      <td>Silver Spring</td>\n",
       "      <td>MD</td>\n",
       "      <td>20902.0</td>\n",
       "      <td>Failure to Pay Rent</td>\n",
       "      <td>D-061-LT-22-006362</td>\n",
       "      <td>12/08/2022</td>\n",
       "      <td>2023.0</td>\n",
       "      <td>2022.0</td>\n",
       "    </tr>\n",
       "    <tr>\n",
       "      <th>4</th>\n",
       "      <td>4</td>\n",
       "      <td>01/03/2023</td>\n",
       "      <td>Warrant of Restitution - Return of Service - E...</td>\n",
       "      <td>NaN</td>\n",
       "      <td>Montgomery</td>\n",
       "      <td>Rockville</td>\n",
       "      <td>Rockville</td>\n",
       "      <td>MD</td>\n",
       "      <td>20850.0</td>\n",
       "      <td>Failure to Pay Rent</td>\n",
       "      <td>D-061-LT-22-004268</td>\n",
       "      <td>12/07/2022</td>\n",
       "      <td>2023.0</td>\n",
       "      <td>2022.0</td>\n",
       "    </tr>\n",
       "    <tr>\n",
       "      <th>5</th>\n",
       "      <td>5</td>\n",
       "      <td>01/03/2023</td>\n",
       "      <td>Warrant of Restitution - Return of Service - E...</td>\n",
       "      <td>NaN</td>\n",
       "      <td>Montgomery</td>\n",
       "      <td>Rockville</td>\n",
       "      <td>Rockville</td>\n",
       "      <td>MD</td>\n",
       "      <td>20850.0</td>\n",
       "      <td>Failure to Pay Rent</td>\n",
       "      <td>D-061-LT-22-004289</td>\n",
       "      <td>12/07/2022</td>\n",
       "      <td>2023.0</td>\n",
       "      <td>2022.0</td>\n",
       "    </tr>\n",
       "    <tr>\n",
       "      <th>6</th>\n",
       "      <td>6</td>\n",
       "      <td>01/03/2023</td>\n",
       "      <td>Warrant of Restitution - Return of Service - E...</td>\n",
       "      <td>NaN</td>\n",
       "      <td>Montgomery</td>\n",
       "      <td>Rockville</td>\n",
       "      <td>Silver Spring</td>\n",
       "      <td>MD</td>\n",
       "      <td>20902.0</td>\n",
       "      <td>Failure to Pay Rent</td>\n",
       "      <td>D-061-LT-22-006357</td>\n",
       "      <td>12/08/2022</td>\n",
       "      <td>2023.0</td>\n",
       "      <td>2022.0</td>\n",
       "    </tr>\n",
       "    <tr>\n",
       "      <th>7</th>\n",
       "      <td>7</td>\n",
       "      <td>01/03/2023</td>\n",
       "      <td>Warrant of Restitution - Return of Service - E...</td>\n",
       "      <td>NaN</td>\n",
       "      <td>Montgomery</td>\n",
       "      <td>Rockville</td>\n",
       "      <td>Silver Spring</td>\n",
       "      <td>MD</td>\n",
       "      <td>20906.0</td>\n",
       "      <td>Failure to Pay Rent</td>\n",
       "      <td>D-061-LT-22-015154</td>\n",
       "      <td>01/03/2023</td>\n",
       "      <td>2023.0</td>\n",
       "      <td>2023.0</td>\n",
       "    </tr>\n",
       "    <tr>\n",
       "      <th>8</th>\n",
       "      <td>8</td>\n",
       "      <td>01/03/2023</td>\n",
       "      <td>Warrant of Restitution - Return of Service - E...</td>\n",
       "      <td>NaN</td>\n",
       "      <td>Montgomery</td>\n",
       "      <td>Rockville</td>\n",
       "      <td>Silver Spring</td>\n",
       "      <td>MD</td>\n",
       "      <td>20906.0</td>\n",
       "      <td>Failure to Pay Rent</td>\n",
       "      <td>D-061-LT-22-015132</td>\n",
       "      <td>01/03/2023</td>\n",
       "      <td>2023.0</td>\n",
       "      <td>2023.0</td>\n",
       "    </tr>\n",
       "    <tr>\n",
       "      <th>9</th>\n",
       "      <td>9</td>\n",
       "      <td>01/03/2023</td>\n",
       "      <td>Warrant of Restitution - Return of Service - E...</td>\n",
       "      <td>NaN</td>\n",
       "      <td>Montgomery</td>\n",
       "      <td>Rockville</td>\n",
       "      <td>Silver Spring</td>\n",
       "      <td>MD</td>\n",
       "      <td>20906.0</td>\n",
       "      <td>Failure to Pay Rent</td>\n",
       "      <td>D-061-LT-22-002958</td>\n",
       "      <td>12/02/2022</td>\n",
       "      <td>2023.0</td>\n",
       "      <td>2022.0</td>\n",
       "    </tr>\n",
       "  </tbody>\n",
       "</table>\n",
       "</div>"
      ],
      "text/plain": [
       "   Unnamed: 0  Event Date                                         Event Type  \\\n",
       "0           0  01/03/2023  Warrant of Restitution - Return of Service - E...   \n",
       "1           1  01/03/2023  Warrant of Restitution - Return of Service - E...   \n",
       "2           2  01/03/2023  Warrant of Restitution - Return of Service - E...   \n",
       "3           3  01/03/2023  Warrant of Restitution - Return of Service - E...   \n",
       "4           4  01/03/2023  Warrant of Restitution - Return of Service - E...   \n",
       "5           5  01/03/2023  Warrant of Restitution - Return of Service - E...   \n",
       "6           6  01/03/2023  Warrant of Restitution - Return of Service - E...   \n",
       "7           7  01/03/2023  Warrant of Restitution - Return of Service - E...   \n",
       "8           8  01/03/2023  Warrant of Restitution - Return of Service - E...   \n",
       "9           9  01/03/2023  Warrant of Restitution - Return of Service - E...   \n",
       "\n",
       "  Event Comment      County   Location    Tenant City Tenant State  \\\n",
       "0           NaN  Montgomery  Rockville  Silver Spring           MD   \n",
       "1           NaN  Montgomery  Rockville  Silver Spring           MD   \n",
       "2           NaN  Montgomery  Rockville       Bethesda           MD   \n",
       "3           NaN  Montgomery  Rockville  Silver Spring           MD   \n",
       "4           NaN  Montgomery  Rockville      Rockville           MD   \n",
       "5           NaN  Montgomery  Rockville      Rockville           MD   \n",
       "6           NaN  Montgomery  Rockville  Silver Spring           MD   \n",
       "7           NaN  Montgomery  Rockville  Silver Spring           MD   \n",
       "8           NaN  Montgomery  Rockville  Silver Spring           MD   \n",
       "9           NaN  Montgomery  Rockville  Silver Spring           MD   \n",
       "\n",
       "   Tenant ZIP Code            Case Type         Case Number Evicted Date  \\\n",
       "0          20910.0  Failure to Pay Rent  D-061-LT-22-004107   12/08/2022   \n",
       "1          20910.0  Failure to Pay Rent  D-061-LT-22-000755   12/08/2022   \n",
       "2          20814.0  Failure to Pay Rent  D-061-LT-22-000816   12/07/2022   \n",
       "3          20902.0  Failure to Pay Rent  D-061-LT-22-006362   12/08/2022   \n",
       "4          20850.0  Failure to Pay Rent  D-061-LT-22-004268   12/07/2022   \n",
       "5          20850.0  Failure to Pay Rent  D-061-LT-22-004289   12/07/2022   \n",
       "6          20902.0  Failure to Pay Rent  D-061-LT-22-006357   12/08/2022   \n",
       "7          20906.0  Failure to Pay Rent  D-061-LT-22-015154   01/03/2023   \n",
       "8          20906.0  Failure to Pay Rent  D-061-LT-22-015132   01/03/2023   \n",
       "9          20906.0  Failure to Pay Rent  D-061-LT-22-002958   12/02/2022   \n",
       "\n",
       "   Event Year  Eviction Year  \n",
       "0      2023.0         2022.0  \n",
       "1      2023.0         2022.0  \n",
       "2      2023.0         2022.0  \n",
       "3      2023.0         2022.0  \n",
       "4      2023.0         2022.0  \n",
       "5      2023.0         2022.0  \n",
       "6      2023.0         2022.0  \n",
       "7      2023.0         2023.0  \n",
       "8      2023.0         2023.0  \n",
       "9      2023.0         2022.0  "
      ]
     },
     "execution_count": 5,
     "metadata": {},
     "output_type": "execute_result"
    }
   ],
   "source": [
    "# Explore the raw dataframe. How would it be useful to tidy it up?\n",
    "df_filings_raw.head(10)"
   ]
  },
  {
   "cell_type": "markdown",
   "id": "79d42aed-bbfc-4703-8783-ac35755dec62",
   "metadata": {},
   "source": [
    "### Phase 1: Make a Tidy DataFrame"
   ]
  },
  {
   "cell_type": "code",
   "execution_count": 6,
   "id": "d3c4ad48-8db8-4bbf-ae56-02b8146a200f",
   "metadata": {},
   "outputs": [
    {
     "data": {
      "text/html": [
       "<div>\n",
       "<style scoped>\n",
       "    .dataframe tbody tr th:only-of-type {\n",
       "        vertical-align: middle;\n",
       "    }\n",
       "\n",
       "    .dataframe tbody tr th {\n",
       "        vertical-align: top;\n",
       "    }\n",
       "\n",
       "    .dataframe thead th {\n",
       "        text-align: right;\n",
       "    }\n",
       "</style>\n",
       "<table border=\"1\" class=\"dataframe\">\n",
       "  <thead>\n",
       "    <tr style=\"text-align: right;\">\n",
       "      <th></th>\n",
       "      <th>case_number</th>\n",
       "      <th>case_type</th>\n",
       "      <th>event_date</th>\n",
       "      <th>event_year</th>\n",
       "      <th>event_type</th>\n",
       "      <th>event_comment</th>\n",
       "      <th>eviction_date</th>\n",
       "      <th>eviction_year</th>\n",
       "      <th>county</th>\n",
       "      <th>tenant_city</th>\n",
       "      <th>tenant_state</th>\n",
       "      <th>tenant_zip_code</th>\n",
       "    </tr>\n",
       "  </thead>\n",
       "  <tbody>\n",
       "    <tr>\n",
       "      <th>0</th>\n",
       "      <td>D-061-LT-22-004107</td>\n",
       "      <td>failure_to_pay_rent</td>\n",
       "      <td>2023-01-03</td>\n",
       "      <td>2023</td>\n",
       "      <td>warrant_evicted</td>\n",
       "      <td>NaN</td>\n",
       "      <td>2022-12-08</td>\n",
       "      <td>2022</td>\n",
       "      <td>Montgomery</td>\n",
       "      <td>Silver Spring</td>\n",
       "      <td>MD</td>\n",
       "      <td>20910</td>\n",
       "    </tr>\n",
       "    <tr>\n",
       "      <th>1</th>\n",
       "      <td>D-061-LT-22-000755</td>\n",
       "      <td>failure_to_pay_rent</td>\n",
       "      <td>2023-01-03</td>\n",
       "      <td>2023</td>\n",
       "      <td>warrant_evicted</td>\n",
       "      <td>NaN</td>\n",
       "      <td>2022-12-08</td>\n",
       "      <td>2022</td>\n",
       "      <td>Montgomery</td>\n",
       "      <td>Silver Spring</td>\n",
       "      <td>MD</td>\n",
       "      <td>20910</td>\n",
       "    </tr>\n",
       "  </tbody>\n",
       "</table>\n",
       "</div>"
      ],
      "text/plain": [
       "          case_number            case_type event_date  event_year  \\\n",
       "0  D-061-LT-22-004107  failure_to_pay_rent 2023-01-03        2023   \n",
       "1  D-061-LT-22-000755  failure_to_pay_rent 2023-01-03        2023   \n",
       "\n",
       "        event_type event_comment eviction_date  eviction_year      county  \\\n",
       "0  warrant_evicted           NaN    2022-12-08           2022  Montgomery   \n",
       "1  warrant_evicted           NaN    2022-12-08           2022  Montgomery   \n",
       "\n",
       "     tenant_city tenant_state  tenant_zip_code  \n",
       "0  Silver Spring           MD            20910  \n",
       "1  Silver Spring           MD            20910  "
      ]
     },
     "execution_count": 6,
     "metadata": {},
     "output_type": "execute_result"
    }
   ],
   "source": [
    "# Function clean up filings into a tidy dataframe\n",
    "def tidy_court_filings(df):\n",
    "    \"\"\"Make a tidy DataFrame of court filings\n",
    "    \n",
    "    Input a Pandas DataFrame from a CSV downloaded at\n",
    "    https://opendata.maryland.gov/Housing/District-Court-of-Maryland-Eviction-Case-Data/mvqb-b4hf/about_data\n",
    "    \"\"\"\n",
    "    # Drop unnecessary columns\n",
    "    df = df.drop(columns=['Unnamed: 0'])\n",
    "    \n",
    "    # Convert column names to all lowercase with underscores instead of spaces\n",
    "    # (This is a person style, but I find it easier to operate with column names that are simple and don't have spaces.)\n",
    "    # One way to do this is with a for loop:\n",
    "    new_column_names = []\n",
    "    for col in df.columns:\n",
    "        col = lower_underscore(col)\n",
    "        new_column_names.append(col)\n",
    "    df.columns = new_column_names\n",
    "      \n",
    "    # Make sure dates are stored as datetimes instead of strings\n",
    "    df['event_date'] = pd.to_datetime(df['event_date'])\n",
    "    df['evicted_date'] = pd.to_datetime(df['evicted_date'])\n",
    "\n",
    "    # Make sure zip codes and years are integers\n",
    "    # (Can you think of a situation where we wouldn't want to store them as integers?)\n",
    "    df['tenant_zip_code'] = df['tenant_zip_code'].astype('Int64')\n",
    "    df['tenant_zip_code'] = df['tenant_zip_code'].astype('Int64')\n",
    "\n",
    "    # Make sure event types are consistently classified and use simple class names\n",
    "    # (You can use the `map` method with a dictionary as the argument to reclassify\n",
    "    # every value in a column that equals a key in the dictionary with value for that key.)\n",
    "    reclassifier = {\n",
    "        'Petition - For Warrant of Restitution Filed': 'petition',\n",
    "        'petition - For Warrant of Restitution Filed': 'petition',\n",
    "        'Warrant of Restitution - Return of Service - Cancelled': 'warrant_cancelled',\n",
    "        'Warrant of Restitution - Return of Service - Evicted': 'warrant_evicted',\n",
    "        'Warrant of Restitution - Return of Service - Expired': 'warrant_expired',\n",
    "    }\n",
    "    df['event_type'] = df['event_type'].map(reclassifier)\n",
    "\n",
    "    # Make sure case types are consistently classified and use simple class names\n",
    "    reclassifier = {}\n",
    "    for case_type in df['case_type']:\n",
    "        reclassifier[case_type] = lower_underscore(case_type)\n",
    "    df['case_type'] = df['case_type'].map(reclassifier)\n",
    "\n",
    "    # Make sure city names are consistently title case\n",
    "    df['tenant_city'] = df['tenant_city'].str.title()\n",
    "\n",
    "    # Recalculate event year and eviction year based on dates, just to be confident they're accurate\n",
    "    # and make sure they're stored as integers\n",
    "    df['event_year'] = df['event_date'].dt.year.astype('Int64')\n",
    "    df['eviction_year'] = df['evicted_date'].dt.year.astype('Int64')\n",
    "\n",
    "    # Change 'evicted_date' to 'eviction_date' for grammatical consistency with 'eviction_year'\n",
    "    # (Okay, now I'm getting picky, but you can see how you can get into the details with making\n",
    "    # a dataframe nice and tidy)\n",
    "    df = df.rename(columns={'evicted_date': 'eviction_date'})\n",
    "\n",
    "    # Put columns in a more intuitive order\n",
    "    # (Again, highly optional, but can be useful for tidying)\n",
    "    df = df[[\n",
    "        'case_number',\n",
    "        'case_type',\n",
    "        'event_date',\n",
    "        'event_year',\n",
    "        'event_type',\n",
    "        'event_comment',\n",
    "        'eviction_date',\n",
    "        'eviction_year',\n",
    "        'county',\n",
    "        # 'location', # I believe 'location' refers to the district court location, which isn't important to us, so let's leave it out\n",
    "        'tenant_city',\n",
    "        'tenant_state',\n",
    "        'tenant_zip_code',\n",
    "    ]]    \n",
    "\n",
    "    return df\n",
    "\n",
    "df_filings_tidy = tidy_court_filings(df_filings_raw)\n",
    "\n",
    "df_filings_tidy.head(2)"
   ]
  },
  {
   "cell_type": "markdown",
   "id": "2d26327e-0766-4df2-b2f1-eeafd92eb1d8",
   "metadata": {},
   "source": [
    "### Phase 2: Analyze Tidy DataFrame to Answer Questions"
   ]
  },
  {
   "cell_type": "markdown",
   "id": "94b390ab-9947-4934-b769-ec8ff332bbba",
   "metadata": {},
   "source": [
    "#### 1. How many unique cases get filed each month?"
   ]
  },
  {
   "cell_type": "code",
   "execution_count": 7,
   "id": "0bbca1f0-3908-47e4-8660-a1348dcc3cb3",
   "metadata": {},
   "outputs": [],
   "source": [
    "def unique_cases_per_month(df, distinguish_year=True):\n",
    "    \"\"\"Calculate unique cases filed in each calendar month\n",
    "\n",
    "    df: Pandas DataFrame pre-processed by the `tidy_court_filings` function\n",
    "\n",
    "    distinguish_year: True or False (default: True)\n",
    "        If True, counts are broken out by year and month\n",
    "        If False, counts from all years are combined in like calendar months\n",
    "    \"\"\"\n",
    "    # Make sure that earliest events are first\n",
    "    df = df.sort_values('event_date')\n",
    "    # Keep only the first row for each case number\n",
    "    unique_cases = df.drop_duplicates('case_number', keep='first')\n",
    "\n",
    "    # Count cases in each month and year\n",
    "    # adapted from https://stackoverflow.com/questions/38792122/how-to-group-and-count-rows-by-month-and-year-using-pandas\n",
    "    if distinguish_year:\n",
    "        case_counts = unique_cases.groupby([\n",
    "            unique_cases['event_date'].dt.year.rename('year'), \n",
    "            unique_cases['event_date'].dt.month.rename('month')\n",
    "        ])['case_number'].count()\n",
    "    else:\n",
    "        case_counts = unique_cases.groupby([ \n",
    "            unique_cases['event_date'].dt.month.rename('month')\n",
    "        ])['case_number'].count()\n",
    "\n",
    "    # Structure output in a dataframe with months and years as columns\n",
    "    case_counts = pd.DataFrame(case_counts).reset_index()\n",
    "    \n",
    "    return case_counts\n",
    " "
   ]
  },
  {
   "cell_type": "code",
   "execution_count": 8,
   "id": "245b40ba-3f95-43ef-9905-586d4db4a0cc",
   "metadata": {},
   "outputs": [
    {
     "data": {
      "text/html": [
       "<div>\n",
       "<style scoped>\n",
       "    .dataframe tbody tr th:only-of-type {\n",
       "        vertical-align: middle;\n",
       "    }\n",
       "\n",
       "    .dataframe tbody tr th {\n",
       "        vertical-align: top;\n",
       "    }\n",
       "\n",
       "    .dataframe thead th {\n",
       "        text-align: right;\n",
       "    }\n",
       "</style>\n",
       "<table border=\"1\" class=\"dataframe\">\n",
       "  <thead>\n",
       "    <tr style=\"text-align: right;\">\n",
       "      <th></th>\n",
       "      <th>year</th>\n",
       "      <th>month</th>\n",
       "      <th>case_number</th>\n",
       "    </tr>\n",
       "  </thead>\n",
       "  <tbody>\n",
       "    <tr>\n",
       "      <th>0</th>\n",
       "      <td>2023</td>\n",
       "      <td>1</td>\n",
       "      <td>483</td>\n",
       "    </tr>\n",
       "    <tr>\n",
       "      <th>1</th>\n",
       "      <td>2023</td>\n",
       "      <td>2</td>\n",
       "      <td>242</td>\n",
       "    </tr>\n",
       "    <tr>\n",
       "      <th>2</th>\n",
       "      <td>2023</td>\n",
       "      <td>3</td>\n",
       "      <td>395</td>\n",
       "    </tr>\n",
       "    <tr>\n",
       "      <th>3</th>\n",
       "      <td>2023</td>\n",
       "      <td>4</td>\n",
       "      <td>251</td>\n",
       "    </tr>\n",
       "    <tr>\n",
       "      <th>4</th>\n",
       "      <td>2023</td>\n",
       "      <td>5</td>\n",
       "      <td>339</td>\n",
       "    </tr>\n",
       "    <tr>\n",
       "      <th>5</th>\n",
       "      <td>2023</td>\n",
       "      <td>6</td>\n",
       "      <td>1281</td>\n",
       "    </tr>\n",
       "    <tr>\n",
       "      <th>6</th>\n",
       "      <td>2023</td>\n",
       "      <td>7</td>\n",
       "      <td>7877</td>\n",
       "    </tr>\n",
       "    <tr>\n",
       "      <th>7</th>\n",
       "      <td>2023</td>\n",
       "      <td>8</td>\n",
       "      <td>5109</td>\n",
       "    </tr>\n",
       "    <tr>\n",
       "      <th>8</th>\n",
       "      <td>2023</td>\n",
       "      <td>9</td>\n",
       "      <td>2282</td>\n",
       "    </tr>\n",
       "    <tr>\n",
       "      <th>9</th>\n",
       "      <td>2023</td>\n",
       "      <td>10</td>\n",
       "      <td>1847</td>\n",
       "    </tr>\n",
       "    <tr>\n",
       "      <th>10</th>\n",
       "      <td>2023</td>\n",
       "      <td>11</td>\n",
       "      <td>724</td>\n",
       "    </tr>\n",
       "    <tr>\n",
       "      <th>11</th>\n",
       "      <td>2023</td>\n",
       "      <td>12</td>\n",
       "      <td>2720</td>\n",
       "    </tr>\n",
       "    <tr>\n",
       "      <th>12</th>\n",
       "      <td>2024</td>\n",
       "      <td>1</td>\n",
       "      <td>1846</td>\n",
       "    </tr>\n",
       "    <tr>\n",
       "      <th>13</th>\n",
       "      <td>2024</td>\n",
       "      <td>2</td>\n",
       "      <td>3863</td>\n",
       "    </tr>\n",
       "    <tr>\n",
       "      <th>14</th>\n",
       "      <td>2024</td>\n",
       "      <td>3</td>\n",
       "      <td>4475</td>\n",
       "    </tr>\n",
       "    <tr>\n",
       "      <th>15</th>\n",
       "      <td>2024</td>\n",
       "      <td>4</td>\n",
       "      <td>3540</td>\n",
       "    </tr>\n",
       "    <tr>\n",
       "      <th>16</th>\n",
       "      <td>2024</td>\n",
       "      <td>5</td>\n",
       "      <td>3867</td>\n",
       "    </tr>\n",
       "    <tr>\n",
       "      <th>17</th>\n",
       "      <td>2024</td>\n",
       "      <td>6</td>\n",
       "      <td>3164</td>\n",
       "    </tr>\n",
       "    <tr>\n",
       "      <th>18</th>\n",
       "      <td>2024</td>\n",
       "      <td>7</td>\n",
       "      <td>4212</td>\n",
       "    </tr>\n",
       "    <tr>\n",
       "      <th>19</th>\n",
       "      <td>2024</td>\n",
       "      <td>8</td>\n",
       "      <td>4619</td>\n",
       "    </tr>\n",
       "    <tr>\n",
       "      <th>20</th>\n",
       "      <td>2024</td>\n",
       "      <td>9</td>\n",
       "      <td>4551</td>\n",
       "    </tr>\n",
       "    <tr>\n",
       "      <th>21</th>\n",
       "      <td>2024</td>\n",
       "      <td>10</td>\n",
       "      <td>3296</td>\n",
       "    </tr>\n",
       "    <tr>\n",
       "      <th>22</th>\n",
       "      <td>2024</td>\n",
       "      <td>11</td>\n",
       "      <td>3346</td>\n",
       "    </tr>\n",
       "    <tr>\n",
       "      <th>23</th>\n",
       "      <td>2024</td>\n",
       "      <td>12</td>\n",
       "      <td>2900</td>\n",
       "    </tr>\n",
       "  </tbody>\n",
       "</table>\n",
       "</div>"
      ],
      "text/plain": [
       "    year  month  case_number\n",
       "0   2023      1          483\n",
       "1   2023      2          242\n",
       "2   2023      3          395\n",
       "3   2023      4          251\n",
       "4   2023      5          339\n",
       "5   2023      6         1281\n",
       "6   2023      7         7877\n",
       "7   2023      8         5109\n",
       "8   2023      9         2282\n",
       "9   2023     10         1847\n",
       "10  2023     11          724\n",
       "11  2023     12         2720\n",
       "12  2024      1         1846\n",
       "13  2024      2         3863\n",
       "14  2024      3         4475\n",
       "15  2024      4         3540\n",
       "16  2024      5         3867\n",
       "17  2024      6         3164\n",
       "18  2024      7         4212\n",
       "19  2024      8         4619\n",
       "20  2024      9         4551\n",
       "21  2024     10         3296\n",
       "22  2024     11         3346\n",
       "23  2024     12         2900"
      ]
     },
     "execution_count": 8,
     "metadata": {},
     "output_type": "execute_result"
    }
   ],
   "source": [
    "unique_cases_per_month(df_filings_tidy)"
   ]
  },
  {
   "cell_type": "code",
   "execution_count": 9,
   "id": "5cb45c0e-b87c-464f-b47c-42e2bf15d50b",
   "metadata": {},
   "outputs": [
    {
     "data": {
      "text/html": [
       "<div>\n",
       "<style scoped>\n",
       "    .dataframe tbody tr th:only-of-type {\n",
       "        vertical-align: middle;\n",
       "    }\n",
       "\n",
       "    .dataframe tbody tr th {\n",
       "        vertical-align: top;\n",
       "    }\n",
       "\n",
       "    .dataframe thead th {\n",
       "        text-align: right;\n",
       "    }\n",
       "</style>\n",
       "<table border=\"1\" class=\"dataframe\">\n",
       "  <thead>\n",
       "    <tr style=\"text-align: right;\">\n",
       "      <th></th>\n",
       "      <th>month</th>\n",
       "      <th>case_number</th>\n",
       "    </tr>\n",
       "  </thead>\n",
       "  <tbody>\n",
       "    <tr>\n",
       "      <th>0</th>\n",
       "      <td>1</td>\n",
       "      <td>2329</td>\n",
       "    </tr>\n",
       "    <tr>\n",
       "      <th>1</th>\n",
       "      <td>2</td>\n",
       "      <td>4105</td>\n",
       "    </tr>\n",
       "    <tr>\n",
       "      <th>2</th>\n",
       "      <td>3</td>\n",
       "      <td>4870</td>\n",
       "    </tr>\n",
       "    <tr>\n",
       "      <th>3</th>\n",
       "      <td>4</td>\n",
       "      <td>3791</td>\n",
       "    </tr>\n",
       "    <tr>\n",
       "      <th>4</th>\n",
       "      <td>5</td>\n",
       "      <td>4206</td>\n",
       "    </tr>\n",
       "    <tr>\n",
       "      <th>5</th>\n",
       "      <td>6</td>\n",
       "      <td>4445</td>\n",
       "    </tr>\n",
       "    <tr>\n",
       "      <th>6</th>\n",
       "      <td>7</td>\n",
       "      <td>12089</td>\n",
       "    </tr>\n",
       "    <tr>\n",
       "      <th>7</th>\n",
       "      <td>8</td>\n",
       "      <td>9728</td>\n",
       "    </tr>\n",
       "    <tr>\n",
       "      <th>8</th>\n",
       "      <td>9</td>\n",
       "      <td>6833</td>\n",
       "    </tr>\n",
       "    <tr>\n",
       "      <th>9</th>\n",
       "      <td>10</td>\n",
       "      <td>5143</td>\n",
       "    </tr>\n",
       "    <tr>\n",
       "      <th>10</th>\n",
       "      <td>11</td>\n",
       "      <td>4070</td>\n",
       "    </tr>\n",
       "    <tr>\n",
       "      <th>11</th>\n",
       "      <td>12</td>\n",
       "      <td>5620</td>\n",
       "    </tr>\n",
       "  </tbody>\n",
       "</table>\n",
       "</div>"
      ],
      "text/plain": [
       "    month  case_number\n",
       "0       1         2329\n",
       "1       2         4105\n",
       "2       3         4870\n",
       "3       4         3791\n",
       "4       5         4206\n",
       "5       6         4445\n",
       "6       7        12089\n",
       "7       8         9728\n",
       "8       9         6833\n",
       "9      10         5143\n",
       "10     11         4070\n",
       "11     12         5620"
      ]
     },
     "execution_count": 9,
     "metadata": {},
     "output_type": "execute_result"
    }
   ],
   "source": [
    "unique_cases_per_month(df_filings_tidy, distinguish_year=False)"
   ]
  },
  {
   "cell_type": "markdown",
   "id": "2b17648f-af50-4804-b0fa-1db5191ef779",
   "metadata": {},
   "source": [
    "#### 2. What percent of cases end in eviction?"
   ]
  },
  {
   "cell_type": "code",
   "execution_count": 10,
   "id": "8c1abddc-a1c8-4e6e-a09d-ae11cc77ecf0",
   "metadata": {},
   "outputs": [
    {
     "data": {
      "text/plain": [
       "event_type\n",
       "petition             61818\n",
       "warrant_cancelled    22848\n",
       "warrant_evicted       8138\n",
       "warrant_expired       3273\n",
       "Name: count, dtype: int64"
      ]
     },
     "execution_count": 10,
     "metadata": {},
     "output_type": "execute_result"
    }
   ],
   "source": [
    "#Find the listings/options for types of event type (‘event type’ variable) and total number per different types of events\n",
    "df_filings_tidy['event_type'].value_counts()\n"
   ]
  },
  {
   "cell_type": "code",
   "execution_count": 11,
   "id": "3d196222-c881-4da8-89f6-b1e0ec887c3e",
   "metadata": {},
   "outputs": [
    {
     "name": "stdout",
     "output_type": "stream",
     "text": [
      "Total sum of event counts: 96077\n"
     ]
    }
   ],
   "source": [
    "#Find the sum of all event types by formatting a new dataframe and defining the total sum\n",
    "\n",
    "data = {\n",
    "    'event_type': ['petition', 'warrant_cancelled', 'warrant_evicted', 'warrant_expired'],\n",
    "    'count': [61818, 22848, 8138, 3273]\n",
    "}\n",
    "\n",
    "df = pd.DataFrame(data)\n",
    "\n",
    "total_sumQ2 = df['count'].sum()\n",
    "\n",
    "print(\"Total sum of event counts:\", total_sumQ2)\n",
    "\n",
    "##note: It would be ideal to avoid 'cementing in' event type and count values, will look into how to write alternate code \n",
    "\n",
    "\n",
    "\n"
   ]
  },
  {
   "cell_type": "code",
   "execution_count": 12,
   "id": "7362caca-bf9d-4157-86f1-6e1cc6836984",
   "metadata": {},
   "outputs": [],
   "source": [
    "warrant_evicted= 8138 \n",
    "#note: I needed to define warrant_evicted and will find another way to define warrant_evicted not by an integer, since this is a static definition, and the dataset could change"
   ]
  },
  {
   "cell_type": "code",
   "execution_count": 13,
   "id": "ee20282d-5684-4a98-9e62-d600c25797de",
   "metadata": {},
   "outputs": [
    {
     "data": {
      "text/plain": [
       "np.float64(8.47)"
      ]
     },
     "execution_count": 13,
     "metadata": {},
     "output_type": "execute_result"
    }
   ],
   "source": [
    "#Divide total event type by ‘warrent-evicted’ to find proportion \n",
    "\n",
    "\n",
    "percent= (warrant_evicted/total_sumQ2)*100\n",
    "round(percent, 3)  \n",
    "\n",
    "#8138/96077= 0.08470\n",
    "\n",
    "\n",
    "\n",
    "\n"
   ]
  },
  {
   "cell_type": "code",
   "execution_count": 14,
   "id": "9c911b34-4028-47ab-8099-72c2a1ec8fc5",
   "metadata": {},
   "outputs": [
    {
     "name": "stdout",
     "output_type": "stream",
     "text": [
      "The percent of cases that end in eviction is 8.47 %\n"
     ]
    }
   ],
   "source": [
    "#official print of question 2 finding\n",
    "\n",
    "print(\"The percent of cases that end in eviction is\", round(percent,3), \"%\")"
   ]
  },
  {
   "cell_type": "markdown",
   "id": "43d495c9-66a6-4984-bf4f-553ed53531f4",
   "metadata": {},
   "source": [
    "#### 3. Do cases of different types (e.g., tennant holding over, breach of lease, failure to pay rent) culminate in eviction at different rates?"
   ]
  },
  {
   "cell_type": "code",
   "execution_count": 15,
   "id": "71cd2680-21ab-4126-8875-74eba9a9706f",
   "metadata": {},
   "outputs": [
    {
     "data": {
      "text/plain": [
       "case_type\n",
       "failure_to_pay_rent    90390\n",
       "tenant_holding_over     3784\n",
       "wrongful_detainer       1167\n",
       "breach_of_lease          736\n",
       "Name: count, dtype: int64"
      ]
     },
     "execution_count": 15,
     "metadata": {},
     "output_type": "execute_result"
    }
   ],
   "source": [
    "#Search which variable these different types are listed under (variable: case type) and the different options for case type\n",
    "#Use similar code to question 2 to find types \n",
    "\n",
    "\n",
    "df_filings_tidy['case_type'].value_counts()\n",
    "\n"
   ]
  },
  {
   "cell_type": "code",
   "execution_count": 16,
   "id": "2597a13d-e822-4dfd-9a67-8bddb9f42efc",
   "metadata": {},
   "outputs": [
    {
     "name": "stdout",
     "output_type": "stream",
     "text": [
      "Total sum of case types: 96077\n"
     ]
    }
   ],
   "source": [
    "#Find total sum of case types and print result \n",
    "data3 = {\n",
    "    'case_type': ['failure_to_pay_rent', 'tenant_holding_over', 'wrongful_detainer', 'breach_of_lease'],\n",
    "    'count': [90390, 3784, 1167, 736]\n",
    "}\n",
    "\n",
    "df = pd.DataFrame(data3)\n",
    "\n",
    "\n",
    "total_sumQ3 = df['count'].sum()\n",
    "\n",
    "print(\"Total sum of case types:\", total_sumQ3)\n",
    "\n"
   ]
  },
  {
   "cell_type": "code",
   "execution_count": 17,
   "id": "42a8eb52-52d1-4e4a-ab96-a1f7b4a344bd",
   "metadata": {},
   "outputs": [],
   "source": [
    "#Make a new dataframe of all types under case types variable, finding the sum and percentage \n",
    "\n",
    "data3 = {\n",
    "    'case_type': ['failure_to_pay_rent', 'tenant_holding_over', 'wrongful_detainer', 'breach_of_lease'],\n",
    "    'count': [90390, 3784, 1167, 736],\n",
    "    'frequency': [90390/total_sumQ3, 3784/total_sumQ3, 1167/total_sumQ3, 736/total_sumQ3]\n",
    "}\n"
   ]
  },
  {
   "cell_type": "code",
   "execution_count": 18,
   "id": "f3eef351-0073-42a6-8110-c5faabbc9061",
   "metadata": {},
   "outputs": [
    {
     "name": "stdout",
     "output_type": "stream",
     "text": [
      "             case_type  count  frequency\n",
      "0  failure_to_pay_rent  90390   0.940808\n",
      "1  tenant_holding_over   3784   0.039385\n",
      "2    wrongful_detainer   1167   0.012147\n",
      "3      breach_of_lease    736   0.007661\n"
     ]
    }
   ],
   "source": [
    "#Format dataframe into a frequency table to highlight and compare frequency of occurrence \n",
    "\n",
    "df3 = pd.DataFrame(data3)\n",
    "\n",
    "total_sumQ3 = df3['count'].sum()\n",
    "\n",
    "df3['frequency'] = df3['count'] / total_sumQ3\n",
    "\n",
    "\n",
    "print(df3)\n",
    "\n",
    "#This tables shows how different case types happen at different frequencies, in general (regardless of yes or no eviction) \n",
    "\n"
   ]
  },
  {
   "cell_type": "code",
   "execution_count": 57,
   "id": "d5193b0d-45bf-4b69-9116-2d49ece07708",
   "metadata": {},
   "outputs": [
    {
     "name": "stdout",
     "output_type": "stream",
     "text": [
      "7344\n"
     ]
    },
    {
     "data": {
      "text/plain": [
       "0.08124792565549287"
      ]
     },
     "execution_count": 57,
     "metadata": {},
     "output_type": "execute_result"
    }
   ],
   "source": [
    "\n",
    "#Now to find case types as they relate to eviction\n",
    "\n",
    "eviction_results_FTPR = df_filings_tidy.groupby(['case_type', 'event_type']).size()\n",
    "\n",
    "\n",
    "eviction_results_FTPR = df_filings_tidy[\n",
    "    (df_filings_tidy['case_type'] == 'failure_to_pay_rent') & \n",
    "    (df_filings_tidy['event_type'] == 'warrant_evicted')\n",
    "].shape[0]\n",
    "\n",
    "print(eviction_results_FTPR)\n",
    "#7344 evictions from failure_to_pay_rent; 8.12% of FTPR cases result in eviction\n",
    "7344/90390"
   ]
  },
  {
   "cell_type": "code",
   "execution_count": 58,
   "id": "18649736-cc2a-4898-8a90-6a50624178e4",
   "metadata": {},
   "outputs": [
    {
     "name": "stdout",
     "output_type": "stream",
     "text": [
      "460\n"
     ]
    },
    {
     "data": {
      "text/plain": [
       "0.12156448202959831"
      ]
     },
     "execution_count": 58,
     "metadata": {},
     "output_type": "execute_result"
    }
   ],
   "source": [
    "eviction_results_THO = df_filings_tidy.groupby(['case_type', 'event_type']).size()\n",
    "\n",
    "\n",
    "eviction_results_THO = df_filings_tidy[\n",
    "    (df_filings_tidy['case_type'] == 'tenant_holding_over') & \n",
    "    (df_filings_tidy['event_type'] == 'warrant_evicted')\n",
    "].shape[0]\n",
    "\n",
    "print(eviction_results_THO)\n",
    "#460 evictions from tenant_holding_over; 12% of THO cases result in eviction\n",
    "460/3784"
   ]
  },
  {
   "cell_type": "code",
   "execution_count": 59,
   "id": "83da44af-090b-4357-bc87-281b569fcd49",
   "metadata": {},
   "outputs": [
    {
     "name": "stdout",
     "output_type": "stream",
     "text": [
      "194\n"
     ]
    },
    {
     "data": {
      "text/plain": [
       "0.1662382176520994"
      ]
     },
     "execution_count": 59,
     "metadata": {},
     "output_type": "execute_result"
    }
   ],
   "source": [
    "eviction_results_WD = df_filings_tidy.groupby(['case_type', 'event_type']).size()\n",
    "\n",
    "\n",
    "eviction_results_WD = df_filings_tidy[\n",
    "    (df_filings_tidy['case_type'] == 'wrongful_detainer') & \n",
    "    (df_filings_tidy['event_type'] == 'warrant_evicted')\n",
    "].shape[0]\n",
    "\n",
    "print(eviction_results_WD)\n",
    "#194 evictions from wrongful_detainer; 16% of WD cases result in eviction\n",
    "194/1167\n"
   ]
  },
  {
   "cell_type": "code",
   "execution_count": 60,
   "id": "818875af-fe27-424b-a0f2-8c81d9291ed3",
   "metadata": {},
   "outputs": [
    {
     "name": "stdout",
     "output_type": "stream",
     "text": [
      "140\n"
     ]
    },
    {
     "data": {
      "text/plain": [
       "0.19021739130434784"
      ]
     },
     "execution_count": 60,
     "metadata": {},
     "output_type": "execute_result"
    }
   ],
   "source": [
    "eviction_results_BOL = df_filings_tidy.groupby(['case_type', 'event_type']).size()\n",
    "\n",
    "\n",
    "eviction_results_BOL = df_filings_tidy[\n",
    "    (df_filings_tidy['case_type'] == 'breach_of_lease') & \n",
    "    (df_filings_tidy['event_type'] == 'warrant_evicted')\n",
    "].shape[0]\n",
    "\n",
    "print(eviction_results_BOL)\n",
    "#140 evictions from breach_of_lease; 19% of BOL cases result in eviction \n",
    "140/736"
   ]
  },
  {
   "cell_type": "code",
   "execution_count": null,
   "id": "3b406bc4-e2e1-4033-a1c1-9e0e47b78290",
   "metadata": {},
   "outputs": [],
   "source": [
    "#Overall, failure to pay rent is the most common case type, and most common case type to result in eviction. \n",
    "#However, the three other case types have larger percentages of eviction results, due to their lower general frequency but higher chance of resulting in eviction"
   ]
  },
  {
   "cell_type": "markdown",
   "id": "aa31c9c8-f26d-481d-b4c1-3c9f17626f31",
   "metadata": {},
   "source": [
    "Question #4 (Optional) How long, on average, does it take for cases to move from a petition being filed to warrent of restitution?"
   ]
  },
  {
   "cell_type": "code",
   "execution_count": 19,
   "id": "bb69c4df-9f87-429b-affb-7ed09641b25b",
   "metadata": {},
   "outputs": [
    {
     "name": "stdout",
     "output_type": "stream",
     "text": [
      "Index(['case_type', 'count'], dtype='object')\n"
     ]
    }
   ],
   "source": [
    "  print(df.columns) #checking the df output"
   ]
  },
  {
   "cell_type": "code",
   "execution_count": 20,
   "id": "a230963e-a57d-4f71-be7a-9fda647b0847",
   "metadata": {},
   "outputs": [
    {
     "data": {
      "text/html": [
       "<div>\n",
       "<style scoped>\n",
       "    .dataframe tbody tr th:only-of-type {\n",
       "        vertical-align: middle;\n",
       "    }\n",
       "\n",
       "    .dataframe tbody tr th {\n",
       "        vertical-align: top;\n",
       "    }\n",
       "\n",
       "    .dataframe thead th {\n",
       "        text-align: right;\n",
       "    }\n",
       "</style>\n",
       "<table border=\"1\" class=\"dataframe\">\n",
       "  <thead>\n",
       "    <tr style=\"text-align: right;\">\n",
       "      <th></th>\n",
       "      <th>case_number</th>\n",
       "      <th>case_type</th>\n",
       "      <th>event_date</th>\n",
       "      <th>event_year</th>\n",
       "      <th>event_type</th>\n",
       "      <th>event_comment</th>\n",
       "      <th>eviction_date</th>\n",
       "      <th>eviction_year</th>\n",
       "      <th>county</th>\n",
       "      <th>tenant_city</th>\n",
       "      <th>tenant_state</th>\n",
       "      <th>tenant_zip_code</th>\n",
       "    </tr>\n",
       "  </thead>\n",
       "  <tbody>\n",
       "    <tr>\n",
       "      <th>0</th>\n",
       "      <td>D-061-LT-22-004107</td>\n",
       "      <td>failure_to_pay_rent</td>\n",
       "      <td>2023-01-03</td>\n",
       "      <td>2023</td>\n",
       "      <td>warrant_evicted</td>\n",
       "      <td>NaN</td>\n",
       "      <td>2022-12-08</td>\n",
       "      <td>2022</td>\n",
       "      <td>Montgomery</td>\n",
       "      <td>Silver Spring</td>\n",
       "      <td>MD</td>\n",
       "      <td>20910</td>\n",
       "    </tr>\n",
       "    <tr>\n",
       "      <th>1</th>\n",
       "      <td>D-061-LT-22-000755</td>\n",
       "      <td>failure_to_pay_rent</td>\n",
       "      <td>2023-01-03</td>\n",
       "      <td>2023</td>\n",
       "      <td>warrant_evicted</td>\n",
       "      <td>NaN</td>\n",
       "      <td>2022-12-08</td>\n",
       "      <td>2022</td>\n",
       "      <td>Montgomery</td>\n",
       "      <td>Silver Spring</td>\n",
       "      <td>MD</td>\n",
       "      <td>20910</td>\n",
       "    </tr>\n",
       "  </tbody>\n",
       "</table>\n",
       "</div>"
      ],
      "text/plain": [
       "          case_number            case_type event_date  event_year  \\\n",
       "0  D-061-LT-22-004107  failure_to_pay_rent 2023-01-03        2023   \n",
       "1  D-061-LT-22-000755  failure_to_pay_rent 2023-01-03        2023   \n",
       "\n",
       "        event_type event_comment eviction_date  eviction_year      county  \\\n",
       "0  warrant_evicted           NaN    2022-12-08           2022  Montgomery   \n",
       "1  warrant_evicted           NaN    2022-12-08           2022  Montgomery   \n",
       "\n",
       "     tenant_city tenant_state  tenant_zip_code  \n",
       "0  Silver Spring           MD            20910  \n",
       "1  Silver Spring           MD            20910  "
      ]
     },
     "execution_count": 20,
     "metadata": {},
     "output_type": "execute_result"
    }
   ],
   "source": [
    "#assuming petition being filed= event date\n",
    "#assuming warrent of restitution= eviction date\n",
    "\n",
    "#Find a way to calculate the difference between the event data and the evicted date \n",
    "#This would require transferring the month/day/year to be countable  (already in pd.to_datetime from previous questions)\n",
    "\n",
    "\n",
    "df_filings_tidy = tidy_court_filings(df_filings_raw)\n",
    "\n",
    "df_filings_tidy.head(2)\n",
    "\n"
   ]
  },
  {
   "cell_type": "code",
   "execution_count": 21,
   "id": "bf38fdc0-03b9-40a6-815e-0c6f040e35ad",
   "metadata": {},
   "outputs": [],
   "source": [
    "#Add a new column, days_between, to the df that subtracts the event_date from the eviction_date \n",
    "#Could fill NA addresses if date not found \n",
    "\n",
    "df_filings_tidy['days_between'] = (df_filings_tidy['eviction_date'] - df_filings_tidy['event_date']) \n",
    "\n",
    "\n",
    "#Note: I initially added \".dt.days.fillna(0).astype(int)\" to this line, but then found that calculating the mean with NA values would ignore them, rather than count the NA 'zeroes' as values\n",
    "\n"
   ]
  },
  {
   "cell_type": "code",
   "execution_count": 22,
   "id": "4bdbe4d8-2400-475f-a523-3bc06097bc4c",
   "metadata": {},
   "outputs": [
    {
     "data": {
      "text/plain": [
       "0    -26 days\n",
       "1    -26 days\n",
       "2    -27 days\n",
       "3    -26 days\n",
       "4    -27 days\n",
       "5    -27 days\n",
       "6    -26 days\n",
       "7      0 days\n",
       "8      0 days\n",
       "9    -32 days\n",
       "10   -27 days\n",
       "11   -27 days\n",
       "12   -27 days\n",
       "13   -28 days\n",
       "14   -28 days\n",
       "15   -28 days\n",
       "16   -28 days\n",
       "17   -28 days\n",
       "18   -28 days\n",
       "19   -28 days\n",
       "Name: days_between, dtype: timedelta64[ns]"
      ]
     },
     "execution_count": 22,
     "metadata": {},
     "output_type": "execute_result"
    }
   ],
   "source": [
    "#Check that the days_between column exists and find values\n",
    "\n",
    "df_filings_tidy\n",
    "\n",
    "df_filings_tidy.head(20)['days_between']"
   ]
  },
  {
   "cell_type": "code",
   "execution_count": 23,
   "id": "f4105b40-c0f8-4867-8d64-1c71af0ed23f",
   "metadata": {},
   "outputs": [
    {
     "name": "stdout",
     "output_type": "stream",
     "text": [
      "-16 days +08:36:41.228803146\n"
     ]
    }
   ],
   "source": [
    "#Find average days_between value and print findings\n",
    "\n",
    "\n",
    "print (df_filings_tidy['days_between'].mean())\n",
    "\n"
   ]
  },
  {
   "cell_type": "markdown",
   "id": "e66e0d3a-5240-484a-8220-cbb923a885c9",
   "metadata": {},
   "source": [
    "Question #5 (Optional) What is the eviction rate per person per year at the county level? Which county has a higher rate?"
   ]
  },
  {
   "cell_type": "code",
   "execution_count": 24,
   "id": "dffa2ac5-49e9-49f3-a5ce-f405af018f58",
   "metadata": {},
   "outputs": [],
   "source": [
    "#load census data and combine PG and Mo Counties\n",
    "\n",
    "\n",
    "def load_census_reporter_csv(path):\n",
    "    return pd.read_csv(path, skiprows=[1])\n",
    "\n",
    "df_census_mg = load_census_reporter_csv('acs2023_5yr_B01003_mg.csv')#Montgomery County\n",
    "df_census_pg = load_census_reporter_csv('acs2023_5yr_B01003_pg.csv')#Prince George's County\n",
    "\n",
    "df_census = pd.concat([df_census_mg, df_census_pg], axis=0)"
   ]
  },
  {
   "cell_type": "code",
   "execution_count": 25,
   "id": "e3bc329e-62bb-43fa-8e56-eaf6e60d5253",
   "metadata": {},
   "outputs": [],
   "source": [
    "#Format tables\n",
    "\n",
    "df_census = df_census.rename(columns={'name':'census_zip', 'B01003001':'population'})\n",
    "df_census = df_census.drop(columns=['B01003001, Error'])"
   ]
  },
  {
   "cell_type": "code",
   "execution_count": 38,
   "id": "facd6370-0270-4438-8a11-d1304a1f6ced",
   "metadata": {},
   "outputs": [
    {
     "data": {
      "text/html": [
       "<div>\n",
       "<style scoped>\n",
       "    .dataframe tbody tr th:only-of-type {\n",
       "        vertical-align: middle;\n",
       "    }\n",
       "\n",
       "    .dataframe tbody tr th {\n",
       "        vertical-align: top;\n",
       "    }\n",
       "\n",
       "    .dataframe thead th {\n",
       "        text-align: right;\n",
       "    }\n",
       "</style>\n",
       "<table border=\"1\" class=\"dataframe\">\n",
       "  <thead>\n",
       "    <tr style=\"text-align: right;\">\n",
       "      <th></th>\n",
       "      <th>geoid</th>\n",
       "      <th>census_zip</th>\n",
       "      <th>population</th>\n",
       "    </tr>\n",
       "  </thead>\n",
       "  <tbody>\n",
       "    <tr>\n",
       "      <th>0</th>\n",
       "      <td>86000US20705</td>\n",
       "      <td>20705</td>\n",
       "      <td>28119</td>\n",
       "    </tr>\n",
       "    <tr>\n",
       "      <th>1</th>\n",
       "      <td>86000US20707</td>\n",
       "      <td>20707</td>\n",
       "      <td>36549</td>\n",
       "    </tr>\n",
       "    <tr>\n",
       "      <th>2</th>\n",
       "      <td>86000US20777</td>\n",
       "      <td>20777</td>\n",
       "      <td>3046</td>\n",
       "    </tr>\n",
       "    <tr>\n",
       "      <th>3</th>\n",
       "      <td>86000US20812</td>\n",
       "      <td>20812</td>\n",
       "      <td>314</td>\n",
       "    </tr>\n",
       "    <tr>\n",
       "      <th>4</th>\n",
       "      <td>86000US20814</td>\n",
       "      <td>20814</td>\n",
       "      <td>30822</td>\n",
       "    </tr>\n",
       "  </tbody>\n",
       "</table>\n",
       "</div>"
      ],
      "text/plain": [
       "          geoid  census_zip  population\n",
       "0  86000US20705       20705       28119\n",
       "1  86000US20707       20707       36549\n",
       "2  86000US20777       20777        3046\n",
       "3  86000US20812       20812         314\n",
       "4  86000US20814       20814       30822"
      ]
     },
     "execution_count": 38,
     "metadata": {},
     "output_type": "execute_result"
    }
   ],
   "source": [
    "df_census.head() #to double check df_census output "
   ]
  },
  {
   "cell_type": "code",
   "execution_count": null,
   "id": "428880a5-1c7a-4b2c-9892-c036e37ec144",
   "metadata": {},
   "outputs": [],
   "source": [
    "#Total population from dataset: 1057586 (MOCO); 955584 (PGCO) "
   ]
  },
  {
   "cell_type": "code",
   "execution_count": 33,
   "id": "960cb4d2-ba39-4397-8a14-66e3e717c8e2",
   "metadata": {},
   "outputs": [
    {
     "data": {
      "text/plain": [
       "county\n",
       "Prince George's    67003\n",
       "Montgomery         29074\n",
       "Name: count, dtype: int64"
      ]
     },
     "execution_count": 33,
     "metadata": {},
     "output_type": "execute_result"
    }
   ],
   "source": [
    "#Find proportion of each county within entire county variable\n",
    "\n",
    "df_filings_tidy['county'].value_counts()\n",
    "\n",
    "\n",
    "#Need to find population per county from acs2023 data: \n",
    "    #acs2023_5yr_B01003_mg.csv Montgomery County\n",
    "    #acs2023_5yr_B01003_pg.csv Prince George's County\n",
    "\n",
    "\n"
   ]
  },
  {
   "cell_type": "code",
   "execution_count": 34,
   "id": "ea5b89c7-ae98-4c41-9243-3029a7e7545e",
   "metadata": {},
   "outputs": [
    {
     "data": {
      "text/plain": [
       "event_type\n",
       "petition             61818\n",
       "warrant_cancelled    22848\n",
       "warrant_evicted       8138\n",
       "warrant_expired       3273\n",
       "Name: count, dtype: int64"
      ]
     },
     "execution_count": 34,
     "metadata": {},
     "output_type": "execute_result"
    }
   ],
   "source": [
    "df_filings_tidy['event_type'].value_counts()"
   ]
  },
  {
   "cell_type": "code",
   "execution_count": 41,
   "id": "edecd613-e94f-45c0-b697-3d502034d4e4",
   "metadata": {},
   "outputs": [
    {
     "name": "stdout",
     "output_type": "stream",
     "text": [
      "1541\n"
     ]
    }
   ],
   "source": [
    "#Find eviction rates by each county: \n",
    "#Need to filter by county and by event_type\n",
    "\n",
    "\n",
    "#Montgomery \n",
    "event_counts_MO = df_filings_tidy.groupby(['event_type', 'county']).size()\n",
    "\n",
    "event_counts_MO = df_filings_tidy[\n",
    "    (df_filings_tidy['event_type'] == 'warrant_expired') & \n",
    "    (df_filings_tidy['county'] == 'Montgomery')\n",
    "].shape[0]\n",
    "\n",
    "print(event_counts_MO)\n",
    "#1541 evictions\n"
   ]
  },
  {
   "cell_type": "code",
   "execution_count": 61,
   "id": "6a9a8fb7-2bc5-4114-8e58-83849992626e",
   "metadata": {},
   "outputs": [
    {
     "data": {
      "text/plain": [
       "0.0014570919055282502"
      ]
     },
     "execution_count": 61,
     "metadata": {},
     "output_type": "execute_result"
    }
   ],
   "source": [
    "#Calculate eviction per person within year \n",
    "\n",
    "MOCO_population= 1057586\n",
    "\n",
    "\n",
    "(event_counts_MO/MOCO_population)\n",
    "\n",
    "\n",
    "#0.145%"
   ]
  },
  {
   "cell_type": "code",
   "execution_count": 45,
   "id": "f61d4052-e4e3-4680-b22f-290c5a261686",
   "metadata": {},
   "outputs": [
    {
     "name": "stdout",
     "output_type": "stream",
     "text": [
      "1732\n"
     ]
    }
   ],
   "source": [
    "#Prince George's County \n",
    "\n",
    "event_counts_PG = df_filings_tidy.groupby(['event_type', 'county']).size()\n",
    "\n",
    "#Need to take out apostrophe from Prince George's title\n",
    "\n",
    "df_filings_tidy['county'] = df_filings_tidy['county'].str.replace(\"'\", \"\", regex=True)\n",
    "\n",
    "\n",
    "event_counts_PG = df_filings_tidy[\n",
    "    (df_filings_tidy['event_type'] == 'warrant_expired') & \n",
    "    (df_filings_tidy['county'] == 'Prince Georges')\n",
    "].shape[0]\n",
    "\n",
    "print(event_counts_PG)\n"
   ]
  },
  {
   "cell_type": "code",
   "execution_count": 62,
   "id": "50c16eb2-3899-474d-8c0b-78ebc794cfb5",
   "metadata": {},
   "outputs": [
    {
     "data": {
      "text/plain": [
       "0.0018125041859219074"
      ]
     },
     "execution_count": 62,
     "metadata": {},
     "output_type": "execute_result"
    }
   ],
   "source": [
    "#Calculate eviction per person within year \n",
    "\n",
    "PGCO_population= 955584\n",
    "\n",
    "\n",
    "(event_counts_PG/PGCO_population)\n",
    "\n",
    "#0.18% "
   ]
  },
  {
   "cell_type": "code",
   "execution_count": null,
   "id": "025e8d0a-cdba-4a37-98a0-2184a7379e7c",
   "metadata": {},
   "outputs": [],
   "source": [
    "#Prince George's County has a higher rate of evictions per person, per year, and a lower population than Montgomery County"
   ]
  },
  {
   "cell_type": "markdown",
   "id": "89d90bb4-c41d-4954-9915-94b5a3ec5b83",
   "metadata": {},
   "source": [
    "Question #6 (Optional) Are there other interesting ways you can summarize these data?"
   ]
  },
  {
   "cell_type": "code",
   "execution_count": null,
   "id": "4abce10a-7da4-4457-88bb-2e7305850a2c",
   "metadata": {},
   "outputs": [],
   "source": [
    "#This data could also compare changes in eviction by year, as well as if particular case types are more common in some areas than other areas"
   ]
  }
 ],
 "metadata": {
  "kernelspec": {
   "display_name": "Python 3 (ipykernel)",
   "language": "python",
   "name": "python3"
  },
  "language_info": {
   "codemirror_mode": {
    "name": "ipython",
    "version": 3
   },
   "file_extension": ".py",
   "mimetype": "text/x-python",
   "name": "python",
   "nbconvert_exporter": "python",
   "pygments_lexer": "ipython3",
   "version": "3.12.8"
  }
 },
 "nbformat": 4,
 "nbformat_minor": 5
}
